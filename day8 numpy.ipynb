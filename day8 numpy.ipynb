{
 "cells": [
  {
   "cell_type": "markdown",
   "id": "46b240b9-f6c6-4679-a8be-6d699f7c7b52",
   "metadata": {},
   "source": [
    "## Numpy\n",
    "1. stands for numerical python\n",
    "2. Numpy arrays that is so times faster than list and also takes less space\n",
    "3. Element wise mathematical operations were possible, which resulted in usage of vectorization\n",
    "4. Entire mathetical package of matlab is numpy: algebric,trignomatric, logarthmic, arithmatic\n",
    "5. It has bindings to c language libraaries"
   ]
  },
  {
   "cell_type": "code",
   "execution_count": 139,
   "id": "8cbfda77-06ce-4828-8034-fecaed9365d2",
   "metadata": {},
   "outputs": [],
   "source": [
    "a=[1,2,3]\n",
    "b=[4,5,6]"
   ]
  },
  {
   "cell_type": "code",
   "execution_count": 140,
   "id": "28de2faf-d6ee-408e-b341-c3717d039ccc",
   "metadata": {},
   "outputs": [
    {
     "ename": "TypeError",
     "evalue": "can't multiply sequence by non-int of type 'list'",
     "output_type": "error",
     "traceback": [
      "\u001b[1;31m---------------------------------------------------------------------------\u001b[0m",
      "\u001b[1;31mTypeError\u001b[0m                                 Traceback (most recent call last)",
      "Cell \u001b[1;32mIn[140], line 1\u001b[0m\n\u001b[1;32m----> 1\u001b[0m a\u001b[38;5;241m*\u001b[39mb\n",
      "\u001b[1;31mTypeError\u001b[0m: can't multiply sequence by non-int of type 'list'"
     ]
    }
   ],
   "source": [
    "a*b"
   ]
  },
  {
   "cell_type": "code",
   "execution_count": 235,
   "id": "36a72130-0411-4396-995e-e6f8cf07ce08",
   "metadata": {},
   "outputs": [
    {
     "data": {
      "text/plain": [
       "[1, 2, 3, 4, 5, 6]"
      ]
     },
     "execution_count": 235,
     "metadata": {},
     "output_type": "execute_result"
    }
   ],
   "source": [
    "a+b"
   ]
  },
  {
   "cell_type": "code",
   "execution_count": null,
   "id": "99ed4dd6-8be3-485c-be60-acf151200fd3",
   "metadata": {},
   "outputs": [],
   "source": []
  },
  {
   "cell_type": "code",
   "execution_count": 237,
   "id": "1d99b2aa-70a0-4993-91b0-f7a9091dda05",
   "metadata": {},
   "outputs": [
    {
     "data": {
      "text/plain": [
       "6"
      ]
     },
     "execution_count": 237,
     "metadata": {},
     "output_type": "execute_result"
    }
   ],
   "source": [
    "len(a+b)"
   ]
  },
  {
   "cell_type": "code",
   "execution_count": 299,
   "id": "c585ac51-65c9-46e5-bf3d-0362fe73d6c6",
   "metadata": {},
   "outputs": [],
   "source": [
    "import numpy as np"
   ]
  },
  {
   "cell_type": "code",
   "execution_count": 301,
   "id": "68704bbd-f5fd-49a8-9076-d7be66930f23",
   "metadata": {},
   "outputs": [],
   "source": [
    "# create a array numpy from a list\n",
    "array_a= np.array(a)"
   ]
  },
  {
   "cell_type": "code",
   "execution_count": 303,
   "id": "d3cbfa1d-5b2e-4bba-a3a2-176cad9f5e37",
   "metadata": {},
   "outputs": [
    {
     "data": {
      "text/plain": [
       "array([1, 2, 3])"
      ]
     },
     "execution_count": 303,
     "metadata": {},
     "output_type": "execute_result"
    }
   ],
   "source": [
    "array_a"
   ]
  },
  {
   "cell_type": "code",
   "execution_count": 241,
   "id": "1f85a57d-34f0-41d0-812d-a8956a79de2e",
   "metadata": {},
   "outputs": [],
   "source": [
    "array_b= np.array((22,33,44))"
   ]
  },
  {
   "cell_type": "code",
   "execution_count": 242,
   "id": "e49ba0d3-d400-4c3a-870e-795df0a2916b",
   "metadata": {},
   "outputs": [
    {
     "data": {
      "text/plain": [
       "array([22, 33, 44])"
      ]
     },
     "execution_count": 242,
     "metadata": {},
     "output_type": "execute_result"
    }
   ],
   "source": [
    "array_b"
   ]
  },
  {
   "cell_type": "code",
   "execution_count": 243,
   "id": "34a1adee-4c03-497a-9521-391f85cc833a",
   "metadata": {},
   "outputs": [
    {
     "data": {
      "text/plain": [
       "numpy.ndarray"
      ]
     },
     "execution_count": 243,
     "metadata": {},
     "output_type": "execute_result"
    }
   ],
   "source": [
    "type (array_a)"
   ]
  },
  {
   "cell_type": "code",
   "execution_count": 244,
   "id": "5bb2fd10-ac48-4380-addf-640444a7b37d",
   "metadata": {},
   "outputs": [
    {
     "data": {
      "text/plain": [
       "numpy.ndarray"
      ]
     },
     "execution_count": 244,
     "metadata": {},
     "output_type": "execute_result"
    }
   ],
   "source": [
    "type (array_b)"
   ]
  },
  {
   "cell_type": "markdown",
   "id": "a67efcfb-edd9-41a7-a595-74bc9acad2b2",
   "metadata": {},
   "source": [
    "## Dimension in array\n",
    "#### 0-D array: Array having only one element"
   ]
  },
  {
   "cell_type": "code",
   "execution_count": 246,
   "id": "052083ea-9016-4a61-b15a-a9b0ed4461bc",
   "metadata": {},
   "outputs": [],
   "source": [
    "arr= np.array(22)"
   ]
  },
  {
   "cell_type": "code",
   "execution_count": 247,
   "id": "4ffe3cfd-0743-4513-b40e-f0b3239cc454",
   "metadata": {},
   "outputs": [
    {
     "data": {
      "text/plain": [
       "array(22)"
      ]
     },
     "execution_count": 247,
     "metadata": {},
     "output_type": "execute_result"
    }
   ],
   "source": [
    "arr"
   ]
  },
  {
   "cell_type": "code",
   "execution_count": 248,
   "id": "881b8d4c-157c-4b9f-abeb-e6369b77a1c1",
   "metadata": {},
   "outputs": [
    {
     "data": {
      "text/plain": [
       "0"
      ]
     },
     "execution_count": 248,
     "metadata": {},
     "output_type": "execute_result"
    }
   ],
   "source": [
    "# checking the dimension of the array: ndim attributs\n",
    "arr.ndim"
   ]
  },
  {
   "cell_type": "code",
   "execution_count": 249,
   "id": "b75caa17-57f5-490b-b85f-31fc3cd57e82",
   "metadata": {},
   "outputs": [
    {
     "ename": "NameError",
     "evalue": "name 'array' is not defined",
     "output_type": "error",
     "traceback": [
      "\u001b[1;31m---------------------------------------------------------------------------\u001b[0m",
      "\u001b[1;31mNameError\u001b[0m                                 Traceback (most recent call last)",
      "Cell \u001b[1;32mIn[249], line 1\u001b[0m\n\u001b[1;32m----> 1\u001b[0m array(\u001b[38;5;241m22\u001b[39m,\u001b[38;5;241m33\u001b[39m)\n",
      "\u001b[1;31mNameError\u001b[0m: name 'array' is not defined"
     ]
    }
   ],
   "source": [
    "array(22,33)"
   ]
  },
  {
   "cell_type": "code",
   "execution_count": 305,
   "id": "c15908e5-e947-4740-9ca4-f3ae2cd39838",
   "metadata": {},
   "outputs": [],
   "source": [
    "arr = np.array((22,33))"
   ]
  },
  {
   "cell_type": "code",
   "execution_count": 307,
   "id": "cfc6e303-e2fc-42d9-9fb7-bbcba6dd6beb",
   "metadata": {},
   "outputs": [
    {
     "data": {
      "text/plain": [
       "1"
      ]
     },
     "execution_count": 307,
     "metadata": {},
     "output_type": "execute_result"
    }
   ],
   "source": [
    "arr.ndim"
   ]
  },
  {
   "cell_type": "code",
   "execution_count": 309,
   "id": "de75a9dd-2f12-4b9b-bcb8-b811eed65619",
   "metadata": {},
   "outputs": [
    {
     "data": {
      "text/plain": [
       "array([22, 33])"
      ]
     },
     "execution_count": 309,
     "metadata": {},
     "output_type": "execute_result"
    }
   ],
   "source": [
    "arr"
   ]
  },
  {
   "cell_type": "markdown",
   "id": "c610fb48-3145-4c43-9b94-e3cdd2ee6056",
   "metadata": {},
   "source": [
    "### 1-D array: Array having 0-D arrays as its elements\n",
    "\n",
    "- similar to basic lists"
   ]
  },
  {
   "cell_type": "code",
   "execution_count": 311,
   "id": "8c03ca1c-5b09-4c6a-9a9e-c4fba8b381d3",
   "metadata": {},
   "outputs": [],
   "source": [
    "arr = np.array((23,33,43))"
   ]
  },
  {
   "cell_type": "code",
   "execution_count": 312,
   "id": "67166c30-06b3-4a5a-be1d-8801a3641823",
   "metadata": {},
   "outputs": [
    {
     "data": {
      "text/plain": [
       "array([23, 33, 43])"
      ]
     },
     "execution_count": 312,
     "metadata": {},
     "output_type": "execute_result"
    }
   ],
   "source": [
    "arr"
   ]
  },
  {
   "cell_type": "code",
   "execution_count": 313,
   "id": "794371b3-1e17-4aaa-aaa1-beafb95d390d",
   "metadata": {},
   "outputs": [
    {
     "data": {
      "text/plain": [
       "1"
      ]
     },
     "execution_count": 313,
     "metadata": {},
     "output_type": "execute_result"
    }
   ],
   "source": [
    "arr.ndim"
   ]
  },
  {
   "cell_type": "markdown",
   "id": "ce7266f0-d02e-43f0-bd1b-0ab3f50caf8f",
   "metadata": {},
   "source": [
    "### 2-D array: Array having 1-D arrays as its elements\n",
    "\n",
    "- matrix 2-d array"
   ]
  },
  {
   "cell_type": "code",
   "execution_count": 315,
   "id": "26943b0d-a8b0-4d02-a0d7-871a27cecdf7",
   "metadata": {},
   "outputs": [],
   "source": [
    "arr = np.array([[12,13,14],[15,16,17]])"
   ]
  },
  {
   "cell_type": "code",
   "execution_count": 316,
   "id": "30633433-5c53-4363-8ead-cd434befa347",
   "metadata": {},
   "outputs": [
    {
     "data": {
      "text/plain": [
       "array([[12, 13, 14],\n",
       "       [15, 16, 17]])"
      ]
     },
     "execution_count": 316,
     "metadata": {},
     "output_type": "execute_result"
    }
   ],
   "source": [
    "arr"
   ]
  },
  {
   "cell_type": "code",
   "execution_count": 317,
   "id": "bbfd21cc-4844-4c47-b9bd-87cfcfe204c2",
   "metadata": {},
   "outputs": [
    {
     "data": {
      "text/plain": [
       "17"
      ]
     },
     "execution_count": 317,
     "metadata": {},
     "output_type": "execute_result"
    }
   ],
   "source": [
    "arr[1][2]"
   ]
  },
  {
   "cell_type": "code",
   "execution_count": 318,
   "id": "08219009-0c6d-463b-92f1-6abcf2eb8cb8",
   "metadata": {},
   "outputs": [
    {
     "data": {
      "text/plain": [
       "13"
      ]
     },
     "execution_count": 318,
     "metadata": {},
     "output_type": "execute_result"
    }
   ],
   "source": [
    "arr[0][1]"
   ]
  },
  {
   "cell_type": "code",
   "execution_count": 319,
   "id": "8b9d2e4f-9e0a-4205-8d59-71dbd5cb2b37",
   "metadata": {},
   "outputs": [
    {
     "data": {
      "text/plain": [
       "2"
      ]
     },
     "execution_count": 319,
     "metadata": {},
     "output_type": "execute_result"
    }
   ],
   "source": [
    "arr.ndim"
   ]
  },
  {
   "cell_type": "markdown",
   "id": "9829fb5e-f419-42a0-bbb2-e03c4145c307",
   "metadata": {},
   "source": [
    "## 3-D array: Array having 2-D arrays as its elements\n",
    "- matrix 3-d array"
   ]
  },
  {
   "cell_type": "code",
   "execution_count": 321,
   "id": "20d033da-71c9-4da7-b8b0-399f3d627f09",
   "metadata": {},
   "outputs": [],
   "source": [
    "arr = np.array([[[12,13,14],[15,16,17]],[[1,2,3],[4,5,6]]])"
   ]
  },
  {
   "cell_type": "code",
   "execution_count": 322,
   "id": "d8f01671-46f3-4097-9d3d-b80976f9c1ff",
   "metadata": {},
   "outputs": [
    {
     "data": {
      "text/plain": [
       "array([[[12, 13, 14],\n",
       "        [15, 16, 17]],\n",
       "\n",
       "       [[ 1,  2,  3],\n",
       "        [ 4,  5,  6]]])"
      ]
     },
     "execution_count": 322,
     "metadata": {},
     "output_type": "execute_result"
    }
   ],
   "source": [
    "arr"
   ]
  },
  {
   "cell_type": "code",
   "execution_count": 323,
   "id": "ff534d8f-88f5-4998-816e-dea56c2fe773",
   "metadata": {},
   "outputs": [
    {
     "data": {
      "text/plain": [
       "3"
      ]
     },
     "execution_count": 323,
     "metadata": {},
     "output_type": "execute_result"
    }
   ],
   "source": [
    "arr.ndim"
   ]
  },
  {
   "cell_type": "code",
   "execution_count": 324,
   "id": "410651f8-541f-4fd1-a3d5-5ee0e7b83a6e",
   "metadata": {},
   "outputs": [
    {
     "data": {
      "text/plain": [
       "2"
      ]
     },
     "execution_count": 324,
     "metadata": {},
     "output_type": "execute_result"
    }
   ],
   "source": [
    "arr[1][0][1]"
   ]
  },
  {
   "cell_type": "code",
   "execution_count": 325,
   "id": "dfed0249-bcb1-48e2-905f-2610185d61e0",
   "metadata": {},
   "outputs": [
    {
     "data": {
      "text/plain": [
       "5"
      ]
     },
     "execution_count": 325,
     "metadata": {},
     "output_type": "execute_result"
    }
   ],
   "source": [
    "arr[1][1][1]"
   ]
  },
  {
   "cell_type": "code",
   "execution_count": 326,
   "id": "b58ade00-5f2a-4dd6-80f5-64236557017d",
   "metadata": {},
   "outputs": [],
   "source": [
    "arr = np.array([[[12,13,14],[1,2,3],[15,16,17]],[[1,2,3],[7,8,9],[4,5,6]]])"
   ]
  },
  {
   "cell_type": "code",
   "execution_count": 327,
   "id": "9b81c8dd-7639-4024-aea7-d1bc8f11d2cd",
   "metadata": {},
   "outputs": [
    {
     "data": {
      "text/plain": [
       "array([[[12, 13, 14],\n",
       "        [ 1,  2,  3],\n",
       "        [15, 16, 17]],\n",
       "\n",
       "       [[ 1,  2,  3],\n",
       "        [ 7,  8,  9],\n",
       "        [ 4,  5,  6]]])"
      ]
     },
     "execution_count": 327,
     "metadata": {},
     "output_type": "execute_result"
    }
   ],
   "source": [
    "arr"
   ]
  },
  {
   "cell_type": "code",
   "execution_count": 328,
   "id": "dcf5c3f6-dc80-4d0c-bb05-0d2e6035f905",
   "metadata": {},
   "outputs": [
    {
     "data": {
      "text/plain": [
       "8"
      ]
     },
     "execution_count": 328,
     "metadata": {},
     "output_type": "execute_result"
    }
   ],
   "source": [
    "arr[1][1][1]"
   ]
  },
  {
   "cell_type": "code",
   "execution_count": 329,
   "id": "895f0e1b-f86e-43af-bd97-c2e506b73d47",
   "metadata": {},
   "outputs": [
    {
     "data": {
      "text/plain": [
       "6"
      ]
     },
     "execution_count": 329,
     "metadata": {},
     "output_type": "execute_result"
    }
   ],
   "source": [
    "arr[1][2][2]"
   ]
  },
  {
   "cell_type": "code",
   "execution_count": 330,
   "id": "9afbacff-2401-49e4-b1b0-0b9133d175a4",
   "metadata": {},
   "outputs": [],
   "source": [
    "# 4d array: 3d arrays as element\n",
    "\n",
    "arr_4d = np.array([[[[1,2,3,4],[3,4,5,6],[6,7,8,9]],[[34,56,78,45],[98,54,32,12],[56,67,23,67]]],\n",
    "                  [[[11,22,343,42],[33,44,55,665],[656,73,8,9]],[[34,5326,78,4325],[98,5324,3232,12],[56,67,23,67]]]])"
   ]
  },
  {
   "cell_type": "code",
   "execution_count": 331,
   "id": "4fb428d5-fd59-403a-92b0-be3e8a22629c",
   "metadata": {},
   "outputs": [
    {
     "data": {
      "text/plain": [
       "array([[[[   1,    2,    3,    4],\n",
       "         [   3,    4,    5,    6],\n",
       "         [   6,    7,    8,    9]],\n",
       "\n",
       "        [[  34,   56,   78,   45],\n",
       "         [  98,   54,   32,   12],\n",
       "         [  56,   67,   23,   67]]],\n",
       "\n",
       "\n",
       "       [[[  11,   22,  343,   42],\n",
       "         [  33,   44,   55,  665],\n",
       "         [ 656,   73,    8,    9]],\n",
       "\n",
       "        [[  34, 5326,   78, 4325],\n",
       "         [  98, 5324, 3232,   12],\n",
       "         [  56,   67,   23,   67]]]])"
      ]
     },
     "execution_count": 331,
     "metadata": {},
     "output_type": "execute_result"
    }
   ],
   "source": [
    "arr_4d"
   ]
  },
  {
   "cell_type": "code",
   "execution_count": 332,
   "id": "5f90cdbe-c26d-476f-adcc-c8163ca7f861",
   "metadata": {},
   "outputs": [
    {
     "data": {
      "text/plain": [
       "[0,\n",
       " 1,\n",
       " 2,\n",
       " 3,\n",
       " 4,\n",
       " 5,\n",
       " 6,\n",
       " 7,\n",
       " 8,\n",
       " 9,\n",
       " 10,\n",
       " 11,\n",
       " 12,\n",
       " 13,\n",
       " 14,\n",
       " 15,\n",
       " 16,\n",
       " 17,\n",
       " 18,\n",
       " 19,\n",
       " 20,\n",
       " 21,\n",
       " 22,\n",
       " 23,\n",
       " 24,\n",
       " 25,\n",
       " 26,\n",
       " 27,\n",
       " 28,\n",
       " 29,\n",
       " 30,\n",
       " 31,\n",
       " 32,\n",
       " 33,\n",
       " 34,\n",
       " 35,\n",
       " 36,\n",
       " 37,\n",
       " 38,\n",
       " 39,\n",
       " 40,\n",
       " 41,\n",
       " 42,\n",
       " 43,\n",
       " 44,\n",
       " 45,\n",
       " 46,\n",
       " 47]"
      ]
     },
     "execution_count": 332,
     "metadata": {},
     "output_type": "execute_result"
    }
   ],
   "source": [
    "list(range(48))"
   ]
  },
  {
   "cell_type": "code",
   "execution_count": 333,
   "id": "498ee3e3-18d2-4c49-8cd5-7a54a757554e",
   "metadata": {},
   "outputs": [],
   "source": [
    "arr = np.array(list(range(48)))"
   ]
  },
  {
   "cell_type": "code",
   "execution_count": 334,
   "id": "3b762232-9f37-4125-9ece-8782f4b2afea",
   "metadata": {},
   "outputs": [
    {
     "data": {
      "text/plain": [
       "array([ 0,  1,  2,  3,  4,  5,  6,  7,  8,  9, 10, 11, 12, 13, 14, 15, 16,\n",
       "       17, 18, 19, 20, 21, 22, 23, 24, 25, 26, 27, 28, 29, 30, 31, 32, 33,\n",
       "       34, 35, 36, 37, 38, 39, 40, 41, 42, 43, 44, 45, 46, 47])"
      ]
     },
     "execution_count": 334,
     "metadata": {},
     "output_type": "execute_result"
    }
   ],
   "source": [
    "arr"
   ]
  },
  {
   "cell_type": "code",
   "execution_count": 335,
   "id": "6f580307-0c1e-4821-a7d8-1fef9fbc4a84",
   "metadata": {},
   "outputs": [],
   "source": [
    "ar = arr.reshape(4,3,4)"
   ]
  },
  {
   "cell_type": "code",
   "execution_count": 336,
   "id": "5aab45dc-80dc-4d7c-9003-b652d6b265b8",
   "metadata": {},
   "outputs": [
    {
     "data": {
      "text/plain": [
       "array([[[ 0,  1,  2,  3],\n",
       "        [ 4,  5,  6,  7],\n",
       "        [ 8,  9, 10, 11]],\n",
       "\n",
       "       [[12, 13, 14, 15],\n",
       "        [16, 17, 18, 19],\n",
       "        [20, 21, 22, 23]],\n",
       "\n",
       "       [[24, 25, 26, 27],\n",
       "        [28, 29, 30, 31],\n",
       "        [32, 33, 34, 35]],\n",
       "\n",
       "       [[36, 37, 38, 39],\n",
       "        [40, 41, 42, 43],\n",
       "        [44, 45, 46, 47]]])"
      ]
     },
     "execution_count": 336,
     "metadata": {},
     "output_type": "execute_result"
    }
   ],
   "source": [
    "ar"
   ]
  },
  {
   "cell_type": "code",
   "execution_count": 337,
   "id": "19630ba8-6bc5-4324-80d9-85e30b465cfd",
   "metadata": {},
   "outputs": [
    {
     "data": {
      "text/plain": [
       "(4, 3, 4)"
      ]
     },
     "execution_count": 337,
     "metadata": {},
     "output_type": "execute_result"
    }
   ],
   "source": [
    "ar.shape"
   ]
  },
  {
   "cell_type": "code",
   "execution_count": 338,
   "id": "d23a9367-b2bb-405d-882f-511bf8b55693",
   "metadata": {},
   "outputs": [
    {
     "data": {
      "text/plain": [
       "42"
      ]
     },
     "execution_count": 338,
     "metadata": {},
     "output_type": "execute_result"
    }
   ],
   "source": [
    "ar[3][1][2]"
   ]
  },
  {
   "cell_type": "code",
   "execution_count": 339,
   "id": "58c550fd-8ba7-4edc-8792-ed21bd684fa0",
   "metadata": {},
   "outputs": [
    {
     "data": {
      "text/plain": [
       "29"
      ]
     },
     "execution_count": 339,
     "metadata": {},
     "output_type": "execute_result"
    }
   ],
   "source": [
    "ar[2][1][1]"
   ]
  },
  {
   "cell_type": "code",
   "execution_count": 340,
   "id": "4cf3efbf-35b1-404a-a388-db730c06f838",
   "metadata": {},
   "outputs": [
    {
     "data": {
      "text/plain": [
       "48"
      ]
     },
     "execution_count": 340,
     "metadata": {},
     "output_type": "execute_result"
    }
   ],
   "source": [
    "len(arr)"
   ]
  },
  {
   "cell_type": "markdown",
   "id": "0432e78a-4a39-4c0d-8731-32343b9dc761",
   "metadata": {},
   "source": [
    "## checking shape of an array"
   ]
  },
  {
   "cell_type": "code",
   "execution_count": 342,
   "id": "db01e966-c2e8-46eb-9bee-06fe1d2c8efb",
   "metadata": {},
   "outputs": [
    {
     "data": {
      "text/plain": [
       "(4, 3, 4)"
      ]
     },
     "execution_count": 342,
     "metadata": {},
     "output_type": "execute_result"
    }
   ],
   "source": [
    "ar.shape"
   ]
  },
  {
   "cell_type": "code",
   "execution_count": 343,
   "id": "6a887c9d-9877-4ba2-9f90-7d8c77044c45",
   "metadata": {},
   "outputs": [
    {
     "data": {
      "text/plain": [
       "(48,)"
      ]
     },
     "execution_count": 343,
     "metadata": {},
     "output_type": "execute_result"
    }
   ],
   "source": [
    "arr.shape"
   ]
  },
  {
   "cell_type": "code",
   "execution_count": 344,
   "id": "db3283c6-69b0-412c-897f-85b89b4e6eb4",
   "metadata": {},
   "outputs": [],
   "source": [
    "tu = np.array(list(range(36)))"
   ]
  },
  {
   "cell_type": "code",
   "execution_count": 345,
   "id": "6850da17-0a3f-48db-b67a-3b45fdad3ae6",
   "metadata": {},
   "outputs": [
    {
     "data": {
      "text/plain": [
       "array([ 0,  1,  2,  3,  4,  5,  6,  7,  8,  9, 10, 11, 12, 13, 14, 15, 16,\n",
       "       17, 18, 19, 20, 21, 22, 23, 24, 25, 26, 27, 28, 29, 30, 31, 32, 33,\n",
       "       34, 35])"
      ]
     },
     "execution_count": 345,
     "metadata": {},
     "output_type": "execute_result"
    }
   ],
   "source": [
    "tu"
   ]
  },
  {
   "cell_type": "code",
   "execution_count": 346,
   "id": "97fca600-27f9-49e9-add2-bd9ba44085aa",
   "metadata": {},
   "outputs": [
    {
     "data": {
      "text/plain": [
       "(36,)"
      ]
     },
     "execution_count": 346,
     "metadata": {},
     "output_type": "execute_result"
    }
   ],
   "source": [
    "tu.shape"
   ]
  },
  {
   "cell_type": "code",
   "execution_count": 347,
   "id": "563ffa6e-f710-4115-8a38-f2f8012f7669",
   "metadata": {},
   "outputs": [],
   "source": [
    "go = tu.reshape(3,4,3)"
   ]
  },
  {
   "cell_type": "code",
   "execution_count": 348,
   "id": "1b9f1bfd-131b-4e27-8048-b24f814648f3",
   "metadata": {},
   "outputs": [
    {
     "data": {
      "text/plain": [
       "array([[[ 0,  1,  2],\n",
       "        [ 3,  4,  5],\n",
       "        [ 6,  7,  8],\n",
       "        [ 9, 10, 11]],\n",
       "\n",
       "       [[12, 13, 14],\n",
       "        [15, 16, 17],\n",
       "        [18, 19, 20],\n",
       "        [21, 22, 23]],\n",
       "\n",
       "       [[24, 25, 26],\n",
       "        [27, 28, 29],\n",
       "        [30, 31, 32],\n",
       "        [33, 34, 35]]])"
      ]
     },
     "execution_count": 348,
     "metadata": {},
     "output_type": "execute_result"
    }
   ],
   "source": [
    "go"
   ]
  },
  {
   "cell_type": "code",
   "execution_count": 349,
   "id": "4f836643-d344-47c1-bf05-a9ac499f1bad",
   "metadata": {},
   "outputs": [
    {
     "data": {
      "text/plain": [
       "(3, 4, 3)"
      ]
     },
     "execution_count": 349,
     "metadata": {},
     "output_type": "execute_result"
    }
   ],
   "source": [
    "go.shape"
   ]
  },
  {
   "cell_type": "code",
   "execution_count": 350,
   "id": "3d8f0b50-972e-492d-a642-b5592cdca3e0",
   "metadata": {},
   "outputs": [],
   "source": [
    "mo = go.reshape(2,6,3)"
   ]
  },
  {
   "cell_type": "code",
   "execution_count": 351,
   "id": "5279f356-3961-4b13-9aef-891ed6db1b92",
   "metadata": {},
   "outputs": [
    {
     "data": {
      "text/plain": [
       "array([[[ 0,  1,  2],\n",
       "        [ 3,  4,  5],\n",
       "        [ 6,  7,  8],\n",
       "        [ 9, 10, 11],\n",
       "        [12, 13, 14],\n",
       "        [15, 16, 17]],\n",
       "\n",
       "       [[18, 19, 20],\n",
       "        [21, 22, 23],\n",
       "        [24, 25, 26],\n",
       "        [27, 28, 29],\n",
       "        [30, 31, 32],\n",
       "        [33, 34, 35]]])"
      ]
     },
     "execution_count": 351,
     "metadata": {},
     "output_type": "execute_result"
    }
   ],
   "source": [
    "mo"
   ]
  },
  {
   "cell_type": "code",
   "execution_count": 352,
   "id": "46bf322f-45d8-4082-a115-45c7f32cd87c",
   "metadata": {},
   "outputs": [
    {
     "data": {
      "text/plain": [
       "array([[[[   1,    2,    3,    4],\n",
       "         [   3,    4,    5,    6],\n",
       "         [   6,    7,    8,    9]],\n",
       "\n",
       "        [[  34,   56,   78,   45],\n",
       "         [  98,   54,   32,   12],\n",
       "         [  56,   67,   23,   67]]],\n",
       "\n",
       "\n",
       "       [[[  11,   22,  343,   42],\n",
       "         [  33,   44,   55,  665],\n",
       "         [ 656,   73,    8,    9]],\n",
       "\n",
       "        [[  34, 5326,   78, 4325],\n",
       "         [  98, 5324, 3232,   12],\n",
       "         [  56,   67,   23,   67]]]])"
      ]
     },
     "execution_count": 352,
     "metadata": {},
     "output_type": "execute_result"
    }
   ],
   "source": [
    "arr_4d"
   ]
  },
  {
   "cell_type": "code",
   "execution_count": 353,
   "id": "92e24713-1bde-4986-bb9d-c668750a2ff4",
   "metadata": {},
   "outputs": [
    {
     "data": {
      "text/plain": [
       "(2, 2, 3, 4)"
      ]
     },
     "execution_count": 353,
     "metadata": {},
     "output_type": "execute_result"
    }
   ],
   "source": [
    "arr_4d.shape"
   ]
  },
  {
   "cell_type": "code",
   "execution_count": 354,
   "id": "c76da336-e0f5-4050-a30c-ecd9b6b495b6",
   "metadata": {},
   "outputs": [],
   "source": [
    "brr = arr_4d.reshape(3,2,2,4)"
   ]
  },
  {
   "cell_type": "code",
   "execution_count": 355,
   "id": "7fe3bc6e-550b-4d86-8141-ba8674cd8902",
   "metadata": {},
   "outputs": [
    {
     "data": {
      "text/plain": [
       "array([[[[   1,    2,    3,    4],\n",
       "         [   3,    4,    5,    6]],\n",
       "\n",
       "        [[   6,    7,    8,    9],\n",
       "         [  34,   56,   78,   45]]],\n",
       "\n",
       "\n",
       "       [[[  98,   54,   32,   12],\n",
       "         [  56,   67,   23,   67]],\n",
       "\n",
       "        [[  11,   22,  343,   42],\n",
       "         [  33,   44,   55,  665]]],\n",
       "\n",
       "\n",
       "       [[[ 656,   73,    8,    9],\n",
       "         [  34, 5326,   78, 4325]],\n",
       "\n",
       "        [[  98, 5324, 3232,   12],\n",
       "         [  56,   67,   23,   67]]]])"
      ]
     },
     "execution_count": 355,
     "metadata": {},
     "output_type": "execute_result"
    }
   ],
   "source": [
    "brr"
   ]
  },
  {
   "cell_type": "code",
   "execution_count": 356,
   "id": "42aafd27-13ac-4bd3-acbf-393c0c60f76c",
   "metadata": {},
   "outputs": [
    {
     "data": {
      "text/plain": [
       "23"
      ]
     },
     "execution_count": 356,
     "metadata": {},
     "output_type": "execute_result"
    }
   ],
   "source": [
    "brr[2][1][1][2]"
   ]
  },
  {
   "cell_type": "code",
   "execution_count": 357,
   "id": "b20a59fa-1c43-4100-87b4-a6bc34a8d544",
   "metadata": {},
   "outputs": [],
   "source": [
    "crr = brr.reshape(6,2,4)"
   ]
  },
  {
   "cell_type": "code",
   "execution_count": 358,
   "id": "03e442d2-bede-4d35-92ee-cd468d825a71",
   "metadata": {},
   "outputs": [
    {
     "data": {
      "text/plain": [
       "array([[[   1,    2,    3,    4],\n",
       "        [   3,    4,    5,    6]],\n",
       "\n",
       "       [[   6,    7,    8,    9],\n",
       "        [  34,   56,   78,   45]],\n",
       "\n",
       "       [[  98,   54,   32,   12],\n",
       "        [  56,   67,   23,   67]],\n",
       "\n",
       "       [[  11,   22,  343,   42],\n",
       "        [  33,   44,   55,  665]],\n",
       "\n",
       "       [[ 656,   73,    8,    9],\n",
       "        [  34, 5326,   78, 4325]],\n",
       "\n",
       "       [[  98, 5324, 3232,   12],\n",
       "        [  56,   67,   23,   67]]])"
      ]
     },
     "execution_count": 358,
     "metadata": {},
     "output_type": "execute_result"
    }
   ],
   "source": [
    "crr"
   ]
  },
  {
   "cell_type": "code",
   "execution_count": 359,
   "id": "4a91937c-4665-441a-a64e-3bb0846eb703",
   "metadata": {},
   "outputs": [
    {
     "data": {
      "text/plain": [
       "67"
      ]
     },
     "execution_count": 359,
     "metadata": {},
     "output_type": "execute_result"
    }
   ],
   "source": [
    "crr[2][1][1]"
   ]
  },
  {
   "cell_type": "code",
   "execution_count": 360,
   "id": "3a572c02-957b-4447-8b3d-a28de90fd3cb",
   "metadata": {},
   "outputs": [
    {
     "data": {
      "text/plain": [
       "(6, 2, 4)"
      ]
     },
     "execution_count": 360,
     "metadata": {},
     "output_type": "execute_result"
    }
   ],
   "source": [
    "crr.shape"
   ]
  },
  {
   "cell_type": "markdown",
   "id": "15bc3d33-c2bb-49d1-b72d-9854c111b3c6",
   "metadata": {},
   "source": [
    "## Generating arrays using inbuilt methods\n",
    "\n",
    "arange : return an array with evenly spaces elements in the given interval\n",
    "\n",
    "- np.arange(start,stop,step)\n",
    "-- stop number will not be included"
   ]
  },
  {
   "cell_type": "code",
   "execution_count": 362,
   "id": "196ad1c4-7fce-452d-9109-0305394289c1",
   "metadata": {},
   "outputs": [],
   "source": [
    "tu = np.arange(10,201,10)"
   ]
  },
  {
   "cell_type": "code",
   "execution_count": 363,
   "id": "3b074ebb-93c4-4538-8aeb-4f04b39526dd",
   "metadata": {},
   "outputs": [
    {
     "data": {
      "text/plain": [
       "array([ 10,  20,  30,  40,  50,  60,  70,  80,  90, 100, 110, 120, 130,\n",
       "       140, 150, 160, 170, 180, 190, 200])"
      ]
     },
     "execution_count": 363,
     "metadata": {},
     "output_type": "execute_result"
    }
   ],
   "source": [
    "tu"
   ]
  },
  {
   "cell_type": "code",
   "execution_count": 364,
   "id": "7daf80a7-ed99-4a2d-97d0-7d5e44b788cf",
   "metadata": {},
   "outputs": [
    {
     "data": {
      "text/plain": [
       "(20,)"
      ]
     },
     "execution_count": 364,
     "metadata": {},
     "output_type": "execute_result"
    }
   ],
   "source": [
    "tu.shape"
   ]
  },
  {
   "cell_type": "code",
   "execution_count": 365,
   "id": "aae83cc2-9771-4943-998d-43163753afb3",
   "metadata": {},
   "outputs": [],
   "source": [
    "pu= tu.reshape(2,5,2)"
   ]
  },
  {
   "cell_type": "code",
   "execution_count": 366,
   "id": "89714711-fe71-4bc8-92b4-18284e3736e6",
   "metadata": {},
   "outputs": [
    {
     "data": {
      "text/plain": [
       "array([[[ 10,  20],\n",
       "        [ 30,  40],\n",
       "        [ 50,  60],\n",
       "        [ 70,  80],\n",
       "        [ 90, 100]],\n",
       "\n",
       "       [[110, 120],\n",
       "        [130, 140],\n",
       "        [150, 160],\n",
       "        [170, 180],\n",
       "        [190, 200]]])"
      ]
     },
     "execution_count": 366,
     "metadata": {},
     "output_type": "execute_result"
    }
   ],
   "source": [
    "pu"
   ]
  },
  {
   "cell_type": "markdown",
   "id": "ded4f997-0641-4abf-bc92-a23d18da0c79",
   "metadata": {},
   "source": [
    "### Linspace: Creates linearly spaced array\n",
    "\n",
    "- create n datapoints between start and stop\n",
    "\n",
    "- np.linspace(start,stop,number of points)\n",
    "\n",
    "- stopping point is also included while using linspace"
   ]
  },
  {
   "cell_type": "code",
   "execution_count": 368,
   "id": "47fc7329-c317-499d-bbb5-74dc118bb8d4",
   "metadata": {},
   "outputs": [],
   "source": [
    "### Create satuartion values starting 0 to 1 having 100 data points\n",
    "\n",
    "saturations =np.linspace(0,0.99,100)"
   ]
  },
  {
   "cell_type": "code",
   "execution_count": 369,
   "id": "7e63ff57-b517-4f90-b120-37c5bc294494",
   "metadata": {},
   "outputs": [
    {
     "data": {
      "text/plain": [
       "array([0.  , 0.01, 0.02, 0.03, 0.04, 0.05, 0.06, 0.07, 0.08, 0.09, 0.1 ,\n",
       "       0.11, 0.12, 0.13, 0.14, 0.15, 0.16, 0.17, 0.18, 0.19, 0.2 , 0.21,\n",
       "       0.22, 0.23, 0.24, 0.25, 0.26, 0.27, 0.28, 0.29, 0.3 , 0.31, 0.32,\n",
       "       0.33, 0.34, 0.35, 0.36, 0.37, 0.38, 0.39, 0.4 , 0.41, 0.42, 0.43,\n",
       "       0.44, 0.45, 0.46, 0.47, 0.48, 0.49, 0.5 , 0.51, 0.52, 0.53, 0.54,\n",
       "       0.55, 0.56, 0.57, 0.58, 0.59, 0.6 , 0.61, 0.62, 0.63, 0.64, 0.65,\n",
       "       0.66, 0.67, 0.68, 0.69, 0.7 , 0.71, 0.72, 0.73, 0.74, 0.75, 0.76,\n",
       "       0.77, 0.78, 0.79, 0.8 , 0.81, 0.82, 0.83, 0.84, 0.85, 0.86, 0.87,\n",
       "       0.88, 0.89, 0.9 , 0.91, 0.92, 0.93, 0.94, 0.95, 0.96, 0.97, 0.98,\n",
       "       0.99])"
      ]
     },
     "execution_count": 369,
     "metadata": {},
     "output_type": "execute_result"
    }
   ],
   "source": [
    "saturations"
   ]
  },
  {
   "cell_type": "code",
   "execution_count": 370,
   "id": "4cd3603b-dd0b-46b8-b24d-f3e166ba28f7",
   "metadata": {},
   "outputs": [],
   "source": [
    "tu =np.linspace(1,20,20)"
   ]
  },
  {
   "cell_type": "code",
   "execution_count": 371,
   "id": "554f9c00-041e-47b5-98b7-8d5f93204b72",
   "metadata": {},
   "outputs": [
    {
     "data": {
      "text/plain": [
       "array([ 1.,  2.,  3.,  4.,  5.,  6.,  7.,  8.,  9., 10., 11., 12., 13.,\n",
       "       14., 15., 16., 17., 18., 19., 20.])"
      ]
     },
     "execution_count": 371,
     "metadata": {},
     "output_type": "execute_result"
    }
   ],
   "source": [
    "tu"
   ]
  },
  {
   "cell_type": "code",
   "execution_count": 372,
   "id": "a1be3742-1251-4031-86e3-bcdc8c9d9c6e",
   "metadata": {},
   "outputs": [],
   "source": [
    "mu =np.linspace(1,40,40)"
   ]
  },
  {
   "cell_type": "code",
   "execution_count": 373,
   "id": "f91438d4-b3f4-469e-a760-20ea7dc8f12f",
   "metadata": {},
   "outputs": [
    {
     "data": {
      "text/plain": [
       "array([ 1.,  2.,  3.,  4.,  5.,  6.,  7.,  8.,  9., 10., 11., 12., 13.,\n",
       "       14., 15., 16., 17., 18., 19., 20., 21., 22., 23., 24., 25., 26.,\n",
       "       27., 28., 29., 30., 31., 32., 33., 34., 35., 36., 37., 38., 39.,\n",
       "       40.])"
      ]
     },
     "execution_count": 373,
     "metadata": {},
     "output_type": "execute_result"
    }
   ],
   "source": [
    "mu"
   ]
  },
  {
   "cell_type": "markdown",
   "id": "c1bbea18-4b62-45b3-9b5a-4511a8a2bd8e",
   "metadata": {},
   "source": [
    "## Indexing in higher dimensions"
   ]
  },
  {
   "cell_type": "code",
   "execution_count": 375,
   "id": "33824a58-ef60-4194-be32-afbb811a3c80",
   "metadata": {},
   "outputs": [],
   "source": [
    "arr = np.array(range(24))"
   ]
  },
  {
   "cell_type": "code",
   "execution_count": 376,
   "id": "da0229f3-e50f-4f61-9987-d080dd46e9d1",
   "metadata": {},
   "outputs": [
    {
     "data": {
      "text/plain": [
       "array([ 0,  1,  2,  3,  4,  5,  6,  7,  8,  9, 10, 11, 12, 13, 14, 15, 16,\n",
       "       17, 18, 19, 20, 21, 22, 23])"
      ]
     },
     "execution_count": 376,
     "metadata": {},
     "output_type": "execute_result"
    }
   ],
   "source": [
    "arr"
   ]
  },
  {
   "cell_type": "code",
   "execution_count": 377,
   "id": "2f2a215f-bf32-4db6-94c6-1ba02828c4d2",
   "metadata": {},
   "outputs": [],
   "source": [
    "brr = arr.reshape(3,2,4)"
   ]
  },
  {
   "cell_type": "code",
   "execution_count": 378,
   "id": "4b5b3953-c945-47d1-81e8-8c463d778755",
   "metadata": {},
   "outputs": [
    {
     "data": {
      "text/plain": [
       "array([[[ 0,  1,  2,  3],\n",
       "        [ 4,  5,  6,  7]],\n",
       "\n",
       "       [[ 8,  9, 10, 11],\n",
       "        [12, 13, 14, 15]],\n",
       "\n",
       "       [[16, 17, 18, 19],\n",
       "        [20, 21, 22, 23]]])"
      ]
     },
     "execution_count": 378,
     "metadata": {},
     "output_type": "execute_result"
    }
   ],
   "source": [
    "brr"
   ]
  },
  {
   "cell_type": "code",
   "execution_count": 379,
   "id": "dd432324-b342-4955-a5f4-c4e15d9af6ae",
   "metadata": {},
   "outputs": [
    {
     "data": {
      "text/plain": [
       "18"
      ]
     },
     "execution_count": 379,
     "metadata": {},
     "output_type": "execute_result"
    }
   ],
   "source": [
    "brr[2][0][2]"
   ]
  },
  {
   "cell_type": "code",
   "execution_count": 380,
   "id": "bc3e95b0-cc89-4c6a-bb61-bb39fb4ae8ce",
   "metadata": {},
   "outputs": [
    {
     "data": {
      "text/plain": [
       "23"
      ]
     },
     "execution_count": 380,
     "metadata": {},
     "output_type": "execute_result"
    }
   ],
   "source": [
    "#23\n",
    "brr[2][1][3]"
   ]
  },
  {
   "cell_type": "markdown",
   "id": "0e636c51-7f86-41fc-9121-35996187da35",
   "metadata": {},
   "source": [
    "## SLicing higher dimension arrays"
   ]
  },
  {
   "cell_type": "code",
   "execution_count": 382,
   "id": "8f1d03a6-a3f7-46d9-8c97-667e79570dee",
   "metadata": {},
   "outputs": [
    {
     "data": {
      "text/plain": [
       "array([[[ 0,  1,  2,  3],\n",
       "        [ 4,  5,  6,  7],\n",
       "        [ 8,  9, 10, 11]],\n",
       "\n",
       "       [[12, 13, 14, 15],\n",
       "        [16, 17, 18, 19],\n",
       "        [20, 21, 22, 23]],\n",
       "\n",
       "       [[24, 25, 26, 27],\n",
       "        [28, 29, 30, 31],\n",
       "        [32, 33, 34, 35]],\n",
       "\n",
       "       [[36, 37, 38, 39],\n",
       "        [40, 41, 42, 43],\n",
       "        [44, 45, 46, 47]]])"
      ]
     },
     "execution_count": 382,
     "metadata": {},
     "output_type": "execute_result"
    }
   ],
   "source": [
    "ar"
   ]
  },
  {
   "cell_type": "code",
   "execution_count": 383,
   "id": "221f5766-583a-4fcc-84ac-a8bdd0101254",
   "metadata": {},
   "outputs": [],
   "source": [
    "br = ar.reshape(6,8)"
   ]
  },
  {
   "cell_type": "code",
   "execution_count": 384,
   "id": "dffc5db9-24c8-4334-8e20-7f4db79ab53b",
   "metadata": {},
   "outputs": [
    {
     "data": {
      "text/plain": [
       "array([[ 0,  1,  2,  3,  4,  5,  6,  7],\n",
       "       [ 8,  9, 10, 11, 12, 13, 14, 15],\n",
       "       [16, 17, 18, 19, 20, 21, 22, 23],\n",
       "       [24, 25, 26, 27, 28, 29, 30, 31],\n",
       "       [32, 33, 34, 35, 36, 37, 38, 39],\n",
       "       [40, 41, 42, 43, 44, 45, 46, 47]])"
      ]
     },
     "execution_count": 384,
     "metadata": {},
     "output_type": "execute_result"
    }
   ],
   "source": [
    "br"
   ]
  },
  {
   "cell_type": "code",
   "execution_count": 385,
   "id": "2cd4c5b7-6272-4112-8205-2a8a96d43a72",
   "metadata": {},
   "outputs": [
    {
     "data": {
      "text/plain": [
       "array([[17, 18, 19, 20, 21, 22],\n",
       "       [25, 26, 27, 28, 29, 30]])"
      ]
     },
     "execution_count": 385,
     "metadata": {},
     "output_type": "execute_result"
    }
   ],
   "source": [
    "br[2:4,1:7]"
   ]
  },
  {
   "cell_type": "code",
   "execution_count": 386,
   "id": "edde165a-1fb3-4cb1-abce-35922e321b9f",
   "metadata": {},
   "outputs": [
    {
     "data": {
      "text/plain": [
       "array([[34, 35, 36],\n",
       "       [42, 43, 44]])"
      ]
     },
     "execution_count": 386,
     "metadata": {},
     "output_type": "execute_result"
    }
   ],
   "source": [
    "br[4: ,2:5]"
   ]
  },
  {
   "cell_type": "code",
   "execution_count": 387,
   "id": "ae034c09-c090-4b59-b5d1-438722def25c",
   "metadata": {},
   "outputs": [
    {
     "data": {
      "text/plain": [
       "array([[ 8, 10, 12, 14],\n",
       "       [16, 18, 20, 22],\n",
       "       [24, 26, 28, 30]])"
      ]
     },
     "execution_count": 387,
     "metadata": {},
     "output_type": "execute_result"
    }
   ],
   "source": [
    "br[1:4,0::2]"
   ]
  },
  {
   "cell_type": "code",
   "execution_count": 388,
   "id": "9e3a5da6-d3f5-4073-838f-b1a763a897c9",
   "metadata": {},
   "outputs": [
    {
     "data": {
      "text/plain": [
       "array([[27, 28, 29, 30],\n",
       "       [35, 36, 37, 38]])"
      ]
     },
     "execution_count": 388,
     "metadata": {},
     "output_type": "execute_result"
    }
   ],
   "source": [
    "br[3:5,3:7]"
   ]
  },
  {
   "cell_type": "code",
   "execution_count": 389,
   "id": "40041f5b-a227-45f3-ac2a-a787c087f59f",
   "metadata": {},
   "outputs": [],
   "source": [
    "perm = np.array([[13,23,32,43,54],[42,34,54,63,22],[43,53,65,36,32],[2,23,43,11,45]])"
   ]
  },
  {
   "cell_type": "code",
   "execution_count": 390,
   "id": "68eaad3a-03e8-4e90-bc3c-e088755cb63b",
   "metadata": {},
   "outputs": [
    {
     "data": {
      "text/plain": [
       "array([[13, 23, 32, 43, 54],\n",
       "       [42, 34, 54, 63, 22],\n",
       "       [43, 53, 65, 36, 32],\n",
       "       [ 2, 23, 43, 11, 45]])"
      ]
     },
     "execution_count": 390,
     "metadata": {},
     "output_type": "execute_result"
    }
   ],
   "source": [
    "perm"
   ]
  },
  {
   "cell_type": "code",
   "execution_count": 391,
   "id": "e969a89f-3e77-4fad-8fbf-812dc9236c1c",
   "metadata": {},
   "outputs": [],
   "source": [
    "import seaborn as sns\n",
    "import matplotlib.pyplot as plt"
   ]
  },
  {
   "cell_type": "code",
   "execution_count": 479,
   "id": "aa39e02b-ca4a-4e34-8762-c1d0c6ddbf14",
   "metadata": {},
   "outputs": [
    {
     "data": {
      "text/plain": [
       "<Axes: title={'center': 'Reservoir permeability Grids'}>"
      ]
     },
     "execution_count": 479,
     "metadata": {},
     "output_type": "execute_result"
    },
    {
     "data": {
      "image/png": "[encoded data removed]",
      "text/plain": [
       "<Figure size 800x600 with 2 Axes>"
      ]
     },
     "metadata": {},
     "output_type": "display_data"
    }
   ],
   "source": [
    "plt.figure(figsize = (8,6))\n",
    "plt.title('Reservoir permeability Grids')\n",
    "sns.heatmap(perm,annot=True)"
   ]
  },
  {
   "cell_type": "code",
   "execution_count": 393,
   "id": "aa71900e-68eb-47a4-8d77-756e3db790ea",
   "metadata": {},
   "outputs": [],
   "source": [
    "## by acidization in a selected qarea, permeability increased by 20%, create a new grid of permeability"
   ]
  },
  {
   "cell_type": "code",
   "execution_count": 485,
   "id": "4b243999-c630-4e68-92ca-e99b7f9eb953",
   "metadata": {},
   "outputs": [
    {
     "data": {
      "text/plain": [
       "array([[64.8, 75.6],\n",
       "       [78. , 43.2]])"
      ]
     },
     "execution_count": 485,
     "metadata": {},
     "output_type": "execute_result"
    }
   ],
   "source": [
    "perm[1:3,2:4]*1.2"
   ]
  },
  {
   "cell_type": "code",
   "execution_count": 488,
   "id": "e88f3766-1ff4-4137-9618-90857187ac35",
   "metadata": {},
   "outputs": [
    {
     "data": {
      "text/plain": [
       "array([[13, 23, 32, 43, 54],\n",
       "       [42, 34, 54, 63, 22],\n",
       "       [43, 53, 65, 36, 32],\n",
       "       [ 2, 23, 43, 11, 45]])"
      ]
     },
     "execution_count": 488,
     "metadata": {},
     "output_type": "execute_result"
    }
   ],
   "source": [
    "perm"
   ]
  },
  {
   "cell_type": "code",
   "execution_count": 490,
   "id": "54494118-e475-4065-a4c1-038dec041fc2",
   "metadata": {},
   "outputs": [],
   "source": [
    "perm[1:3,2:4] = perm[1:3,2:4]*1.2"
   ]
  },
  {
   "cell_type": "code",
   "execution_count": 492,
   "id": "146b0b36-73ef-497e-9ecf-4227299dbc6f",
   "metadata": {},
   "outputs": [
    {
     "data": {
      "text/plain": [
       "array([[13, 23, 32, 43, 54],\n",
       "       [42, 34, 64, 75, 22],\n",
       "       [43, 53, 78, 43, 32],\n",
       "       [ 2, 23, 43, 11, 45]])"
      ]
     },
     "execution_count": 492,
     "metadata": {},
     "output_type": "execute_result"
    }
   ],
   "source": [
    "perm"
   ]
  },
  {
   "cell_type": "code",
   "execution_count": 496,
   "id": "70c6e7c4-75f2-433c-b4d1-59d303a44aa9",
   "metadata": {},
   "outputs": [
    {
     "data": {
      "text/plain": [
       "<Axes: title={'center': 'Reservoir Permeability Grids'}>"
      ]
     },
     "execution_count": 496,
     "metadata": {},
     "output_type": "execute_result"
    },
    {
     "data": {
      "image/png": "[encoded data removed]",
      "text/plain": [
       "<Figure size 600x400 with 2 Axes>"
      ]
     },
     "metadata": {},
     "output_type": "display_data"
    }
   ],
   "source": [
    "plt.figure(figsize = (6,4))\n",
    "plt.title('Reservoir Permeability Grids')\n",
    "sns.heatmap(perm,annot=True)"
   ]
  },
  {
   "cell_type": "code",
   "execution_count": 498,
   "id": "0604603b-cd8d-41c6-836d-ca4cd49ea6c2",
   "metadata": {},
   "outputs": [
    {
     "data": {
      "text/plain": [
       "array([[[ 0,  1,  2,  3],\n",
       "        [ 4,  5,  6,  7],\n",
       "        [ 8,  9, 10, 11]],\n",
       "\n",
       "       [[12, 13, 14, 15],\n",
       "        [16, 17, 18, 19],\n",
       "        [20, 21, 22, 23]],\n",
       "\n",
       "       [[24, 25, 26, 27],\n",
       "        [28, 29, 30, 31],\n",
       "        [32, 33, 34, 35]],\n",
       "\n",
       "       [[36, 37, 38, 39],\n",
       "        [40, 41, 42, 43],\n",
       "        [44, 45, 46, 47]]])"
      ]
     },
     "execution_count": 498,
     "metadata": {},
     "output_type": "execute_result"
    }
   ],
   "source": [
    "ar"
   ]
  },
  {
   "cell_type": "code",
   "execution_count": 500,
   "id": "5e5f1593-e306-417e-86ea-d6c2f4035442",
   "metadata": {},
   "outputs": [
    {
     "data": {
      "text/plain": [
       "array([[ 0,  1,  2,  3,  4,  5,  6,  7],\n",
       "       [ 8,  9, 10, 11, 12, 13, 14, 15],\n",
       "       [16, 17, 18, 19, 20, 21, 22, 23],\n",
       "       [24, 25, 26, 27, 28, 29, 30, 31],\n",
       "       [32, 33, 34, 35, 36, 37, 38, 39],\n",
       "       [40, 41, 42, 43, 44, 45, 46, 47]])"
      ]
     },
     "execution_count": 500,
     "metadata": {},
     "output_type": "execute_result"
    }
   ],
   "source": [
    "ar.reshape(6,8)"
   ]
  },
  {
   "cell_type": "code",
   "execution_count": 504,
   "id": "e8ed6dad-76ea-4507-aa00-e23f44dff87d",
   "metadata": {},
   "outputs": [
    {
     "ename": "ValueError",
     "evalue": "Must pass 2-d input. shape=(4, 3, 4)",
     "output_type": "error",
     "traceback": [
      "\u001b[1;31m---------------------------------------------------------------------------\u001b[0m",
      "\u001b[1;31mValueError\u001b[0m                                Traceback (most recent call last)",
      "Cell \u001b[1;32mIn[504], line 3\u001b[0m\n\u001b[0;32m      1\u001b[0m plt\u001b[38;5;241m.\u001b[39mfigure(figsize \u001b[38;5;241m=\u001b[39m (\u001b[38;5;241m10\u001b[39m,\u001b[38;5;241m8\u001b[39m))\n\u001b[0;32m      2\u001b[0m plt\u001b[38;5;241m.\u001b[39mtitle(\u001b[38;5;124m'\u001b[39m\u001b[38;5;124mreservoir permeability grids\u001b[39m\u001b[38;5;124m'\u001b[39m)\n\u001b[1;32m----> 3\u001b[0m sns\u001b[38;5;241m.\u001b[39mheatmap(ar,annot\u001b[38;5;241m=\u001b[39m\u001b[38;5;28;01mTrue\u001b[39;00m)\n",
      "File \u001b[1;32m~\\anaconda3\\Lib\\site-packages\\seaborn\\matrix.py:446\u001b[0m, in \u001b[0;36mheatmap\u001b[1;34m(data, vmin, vmax, cmap, center, robust, annot, fmt, annot_kws, linewidths, linecolor, cbar, cbar_kws, cbar_ax, square, xticklabels, yticklabels, mask, ax, **kwargs)\u001b[0m\n\u001b[0;32m    365\u001b[0m \u001b[38;5;250m\u001b[39m\u001b[38;5;124;03m\"\"\"Plot rectangular data as a color-encoded matrix.\u001b[39;00m\n\u001b[0;32m    366\u001b[0m \n\u001b[0;32m    367\u001b[0m \u001b[38;5;124;03mThis is an Axes-level function and will draw the heatmap into the\u001b[39;00m\n\u001b[1;32m   (...)\u001b[0m\n\u001b[0;32m    443\u001b[0m \n\u001b[0;32m    444\u001b[0m \u001b[38;5;124;03m\"\"\"\u001b[39;00m\n\u001b[0;32m    445\u001b[0m \u001b[38;5;66;03m# Initialize the plotter object\u001b[39;00m\n\u001b[1;32m--> 446\u001b[0m plotter \u001b[38;5;241m=\u001b[39m _HeatMapper(data, vmin, vmax, cmap, center, robust, annot, fmt,\n\u001b[0;32m    447\u001b[0m                       annot_kws, cbar, cbar_kws, xticklabels,\n\u001b[0;32m    448\u001b[0m                       yticklabels, mask)\n\u001b[0;32m    450\u001b[0m \u001b[38;5;66;03m# Add the pcolormesh kwargs here\u001b[39;00m\n\u001b[0;32m    451\u001b[0m kwargs[\u001b[38;5;124m\"\u001b[39m\u001b[38;5;124mlinewidths\u001b[39m\u001b[38;5;124m\"\u001b[39m] \u001b[38;5;241m=\u001b[39m linewidths\n",
      "File \u001b[1;32m~\\anaconda3\\Lib\\site-packages\\seaborn\\matrix.py:110\u001b[0m, in \u001b[0;36m_HeatMapper.__init__\u001b[1;34m(self, data, vmin, vmax, cmap, center, robust, annot, fmt, annot_kws, cbar, cbar_kws, xticklabels, yticklabels, mask)\u001b[0m\n\u001b[0;32m    108\u001b[0m \u001b[38;5;28;01melse\u001b[39;00m:\n\u001b[0;32m    109\u001b[0m     plot_data \u001b[38;5;241m=\u001b[39m np\u001b[38;5;241m.\u001b[39masarray(data)\n\u001b[1;32m--> 110\u001b[0m     data \u001b[38;5;241m=\u001b[39m pd\u001b[38;5;241m.\u001b[39mDataFrame(plot_data)\n\u001b[0;32m    112\u001b[0m \u001b[38;5;66;03m# Validate the mask and convert to DataFrame\u001b[39;00m\n\u001b[0;32m    113\u001b[0m mask \u001b[38;5;241m=\u001b[39m _matrix_mask(data, mask)\n",
      "File \u001b[1;32m~\\anaconda3\\Lib\\site-packages\\pandas\\core\\frame.py:827\u001b[0m, in \u001b[0;36mDataFrame.__init__\u001b[1;34m(self, data, index, columns, dtype, copy)\u001b[0m\n\u001b[0;32m    816\u001b[0m         mgr \u001b[38;5;241m=\u001b[39m dict_to_mgr(\n\u001b[0;32m    817\u001b[0m             \u001b[38;5;66;03m# error: Item \"ndarray\" of \"Union[ndarray, Series, Index]\" has no\u001b[39;00m\n\u001b[0;32m    818\u001b[0m             \u001b[38;5;66;03m# attribute \"name\"\u001b[39;00m\n\u001b[1;32m   (...)\u001b[0m\n\u001b[0;32m    824\u001b[0m             copy\u001b[38;5;241m=\u001b[39m_copy,\n\u001b[0;32m    825\u001b[0m         )\n\u001b[0;32m    826\u001b[0m     \u001b[38;5;28;01melse\u001b[39;00m:\n\u001b[1;32m--> 827\u001b[0m         mgr \u001b[38;5;241m=\u001b[39m ndarray_to_mgr(\n\u001b[0;32m    828\u001b[0m             data,\n\u001b[0;32m    829\u001b[0m             index,\n\u001b[0;32m    830\u001b[0m             columns,\n\u001b[0;32m    831\u001b[0m             dtype\u001b[38;5;241m=\u001b[39mdtype,\n\u001b[0;32m    832\u001b[0m             copy\u001b[38;5;241m=\u001b[39mcopy,\n\u001b[0;32m    833\u001b[0m             typ\u001b[38;5;241m=\u001b[39mmanager,\n\u001b[0;32m    834\u001b[0m         )\n\u001b[0;32m    836\u001b[0m \u001b[38;5;66;03m# For data is list-like, or Iterable (will consume into list)\u001b[39;00m\n\u001b[0;32m    837\u001b[0m \u001b[38;5;28;01melif\u001b[39;00m is_list_like(data):\n",
      "File \u001b[1;32m~\\anaconda3\\Lib\\site-packages\\pandas\\core\\internals\\construction.py:314\u001b[0m, in \u001b[0;36mndarray_to_mgr\u001b[1;34m(values, index, columns, dtype, copy, typ)\u001b[0m\n\u001b[0;32m    308\u001b[0m     _copy \u001b[38;5;241m=\u001b[39m (\n\u001b[0;32m    309\u001b[0m         copy_on_sanitize\n\u001b[0;32m    310\u001b[0m         \u001b[38;5;28;01mif\u001b[39;00m (dtype \u001b[38;5;129;01mis\u001b[39;00m \u001b[38;5;28;01mNone\u001b[39;00m \u001b[38;5;129;01mor\u001b[39;00m astype_is_view(values\u001b[38;5;241m.\u001b[39mdtype, dtype))\n\u001b[0;32m    311\u001b[0m         \u001b[38;5;28;01melse\u001b[39;00m \u001b[38;5;28;01mFalse\u001b[39;00m\n\u001b[0;32m    312\u001b[0m     )\n\u001b[0;32m    313\u001b[0m     values \u001b[38;5;241m=\u001b[39m np\u001b[38;5;241m.\u001b[39marray(values, copy\u001b[38;5;241m=\u001b[39m_copy)\n\u001b[1;32m--> 314\u001b[0m     values \u001b[38;5;241m=\u001b[39m _ensure_2d(values)\n\u001b[0;32m    316\u001b[0m \u001b[38;5;28;01melse\u001b[39;00m:\n\u001b[0;32m    317\u001b[0m     \u001b[38;5;66;03m# by definition an array here\u001b[39;00m\n\u001b[0;32m    318\u001b[0m     \u001b[38;5;66;03m# the dtypes will be coerced to a single dtype\u001b[39;00m\n\u001b[0;32m    319\u001b[0m     values \u001b[38;5;241m=\u001b[39m _prep_ndarraylike(values, copy\u001b[38;5;241m=\u001b[39mcopy_on_sanitize)\n",
      "File \u001b[1;32m~\\anaconda3\\Lib\\site-packages\\pandas\\core\\internals\\construction.py:592\u001b[0m, in \u001b[0;36m_ensure_2d\u001b[1;34m(values)\u001b[0m\n\u001b[0;32m    590\u001b[0m     values \u001b[38;5;241m=\u001b[39m values\u001b[38;5;241m.\u001b[39mreshape((values\u001b[38;5;241m.\u001b[39mshape[\u001b[38;5;241m0\u001b[39m], \u001b[38;5;241m1\u001b[39m))\n\u001b[0;32m    591\u001b[0m \u001b[38;5;28;01melif\u001b[39;00m values\u001b[38;5;241m.\u001b[39mndim \u001b[38;5;241m!=\u001b[39m \u001b[38;5;241m2\u001b[39m:\n\u001b[1;32m--> 592\u001b[0m     \u001b[38;5;28;01mraise\u001b[39;00m \u001b[38;5;167;01mValueError\u001b[39;00m(\u001b[38;5;124mf\u001b[39m\u001b[38;5;124m\"\u001b[39m\u001b[38;5;124mMust pass 2-d input. shape=\u001b[39m\u001b[38;5;132;01m{\u001b[39;00mvalues\u001b[38;5;241m.\u001b[39mshape\u001b[38;5;132;01m}\u001b[39;00m\u001b[38;5;124m\"\u001b[39m)\n\u001b[0;32m    593\u001b[0m \u001b[38;5;28;01mreturn\u001b[39;00m values\n",
      "\u001b[1;31mValueError\u001b[0m: Must pass 2-d input. shape=(4, 3, 4)"
     ]
    },
    {
     "data": {
      "image/png": "[encoded data removed]",
      "text/plain": [
       "<Figure size 1000x800 with 1 Axes>"
      ]
     },
     "metadata": {},
     "output_type": "display_data"
    }
   ],
   "source": [
    "plt.figure(figsize = (10,8))\n",
    "plt.title('reservoir permeability grids')\n",
    "sns.heatmap(ar,annot=True)"
   ]
  },
  {
   "cell_type": "code",
   "execution_count": 506,
   "id": "5214026a-7ea5-4b6a-a97b-80dca908ddf7",
   "metadata": {},
   "outputs": [
    {
     "data": {
      "text/plain": [
       "array([[[ 0,  1,  2,  3],\n",
       "        [ 4,  5,  6,  7],\n",
       "        [ 8,  9, 10, 11]],\n",
       "\n",
       "       [[12, 13, 14, 15],\n",
       "        [16, 17, 18, 19],\n",
       "        [20, 21, 22, 23]],\n",
       "\n",
       "       [[24, 25, 26, 27],\n",
       "        [28, 29, 30, 31],\n",
       "        [32, 33, 34, 35]],\n",
       "\n",
       "       [[36, 37, 38, 39],\n",
       "        [40, 41, 42, 43],\n",
       "        [44, 45, 46, 47]]])"
      ]
     },
     "execution_count": 506,
     "metadata": {},
     "output_type": "execute_result"
    }
   ],
   "source": [
    "ar"
   ]
  },
  {
   "cell_type": "code",
   "execution_count": 542,
   "id": "544df1aa-d2dd-471c-b1ac-d10f3cf5b4e1",
   "metadata": {},
   "outputs": [],
   "source": [
    "br = ar.reshape(8,6)"
   ]
  },
  {
   "cell_type": "code",
   "execution_count": 544,
   "id": "db494bf2-8198-4d68-8356-a1ed49e489d7",
   "metadata": {},
   "outputs": [
    {
     "data": {
      "text/plain": [
       "array([[ 0,  1,  2,  3,  4,  5],\n",
       "       [ 6,  7,  8,  9, 10, 11],\n",
       "       [12, 13, 14, 15, 16, 17],\n",
       "       [18, 19, 20, 21, 22, 23],\n",
       "       [24, 25, 26, 27, 28, 29],\n",
       "       [30, 31, 32, 33, 34, 35],\n",
       "       [36, 37, 38, 39, 40, 41],\n",
       "       [42, 43, 44, 45, 46, 47]])"
      ]
     },
     "execution_count": 544,
     "metadata": {},
     "output_type": "execute_result"
    }
   ],
   "source": [
    "br"
   ]
  },
  {
   "cell_type": "code",
   "execution_count": 520,
   "id": "3fb55d0e-516f-4a7f-a567-9896bdb14639",
   "metadata": {},
   "outputs": [
    {
     "data": {
      "text/plain": [
       "<Axes: title={'center': 'resevoir permeability grids'}>"
      ]
     },
     "execution_count": 520,
     "metadata": {},
     "output_type": "execute_result"
    },
    {
     "data": {
      "image/png": "[encoded data removed]",
      "text/plain": [
       "<Figure size 800x600 with 2 Axes>"
      ]
     },
     "metadata": {},
     "output_type": "display_data"
    }
   ],
   "source": [
    "plt.figure(figsize = (8,6))\n",
    "plt.title('resevoir permeability grids')\n",
    "sns.heatmap(br,annot=True)"
   ]
  },
  {
   "cell_type": "code",
   "execution_count": 526,
   "id": "ed5dcd36-158a-492d-b766-1cc26f888c89",
   "metadata": {},
   "outputs": [
    {
     "data": {
      "text/plain": [
       "array([[26, 28, 30, 32],\n",
       "       [38, 40, 42, 44],\n",
       "       [50, 52, 54, 56]])"
      ]
     },
     "execution_count": 526,
     "metadata": {},
     "output_type": "execute_result"
    }
   ],
   "source": [
    "br[2:5,1:5]*2"
   ]
  },
  {
   "cell_type": "code",
   "execution_count": 546,
   "id": "7139033e-b06e-4c54-a76c-257c385e73db",
   "metadata": {},
   "outputs": [],
   "source": [
    "br[2:5,1:5] = br[2:5,1:5]*2"
   ]
  },
  {
   "cell_type": "code",
   "execution_count": 548,
   "id": "c7c7be7c-867b-44f1-aa7f-05be991a02f8",
   "metadata": {},
   "outputs": [
    {
     "data": {
      "text/plain": [
       "array([[ 0,  1,  2,  3,  4,  5],\n",
       "       [ 6,  7,  8,  9, 10, 11],\n",
       "       [12, 26, 28, 30, 32, 17],\n",
       "       [18, 38, 40, 42, 44, 23],\n",
       "       [24, 50, 52, 54, 56, 29],\n",
       "       [30, 31, 32, 33, 34, 35],\n",
       "       [36, 37, 38, 39, 40, 41],\n",
       "       [42, 43, 44, 45, 46, 47]])"
      ]
     },
     "execution_count": 548,
     "metadata": {},
     "output_type": "execute_result"
    }
   ],
   "source": [
    "br"
   ]
  },
  {
   "cell_type": "code",
   "execution_count": 556,
   "id": "5ba47837-52f5-4ba7-bd0e-d4b2b6e36ce6",
   "metadata": {},
   "outputs": [
    {
     "data": {
      "text/plain": [
       "<Axes: title={'center': 'reservoir permeability grids'}>"
      ]
     },
     "execution_count": 556,
     "metadata": {},
     "output_type": "execute_result"
    },
    {
     "data": {
      "image/png": "[encoded data removed]",
      "text/plain": [
       "<Figure size 800x600 with 2 Axes>"
      ]
     },
     "metadata": {},
     "output_type": "display_data"
    }
   ],
   "source": [
    "plt.figure(figsize = (8,6))\n",
    "plt.title('reservoir permeability grids')\n",
    "sns.heatmap(br,annot=True)"
   ]
  },
  {
   "cell_type": "code",
   "execution_count": 558,
   "id": "09d20b11-e278-4a8b-bb60-c6cd843fa318",
   "metadata": {},
   "outputs": [
    {
     "data": {
      "text/plain": [
       "array([[[ 0,  1,  2,  3],\n",
       "        [ 4,  5,  6,  7],\n",
       "        [ 8,  9, 10, 11]],\n",
       "\n",
       "       [[12, 26, 28, 30],\n",
       "        [32, 17, 18, 38],\n",
       "        [40, 42, 44, 23]],\n",
       "\n",
       "       [[24, 50, 52, 54],\n",
       "        [56, 29, 30, 31],\n",
       "        [32, 33, 34, 35]],\n",
       "\n",
       "       [[36, 37, 38, 39],\n",
       "        [40, 41, 42, 43],\n",
       "        [44, 45, 46, 47]]])"
      ]
     },
     "execution_count": 558,
     "metadata": {},
     "output_type": "execute_result"
    }
   ],
   "source": [
    "ar"
   ]
  },
  {
   "cell_type": "code",
   "execution_count": 570,
   "id": "06491e57-e20c-4fec-9650-a1c55da5033e",
   "metadata": {},
   "outputs": [],
   "source": [
    "arr = ar.reshape(12,4)"
   ]
  },
  {
   "cell_type": "code",
   "execution_count": 572,
   "id": "c307a2d2-d117-4467-8b30-b4843a9c86d1",
   "metadata": {},
   "outputs": [
    {
     "data": {
      "text/plain": [
       "array([[ 0,  1,  2,  3],\n",
       "       [ 4,  5,  6,  7],\n",
       "       [ 8,  9, 10, 11],\n",
       "       [12, 26, 28, 30],\n",
       "       [32, 17, 18, 38],\n",
       "       [40, 42, 44, 23],\n",
       "       [24, 50, 52, 54],\n",
       "       [56, 29, 30, 31],\n",
       "       [32, 33, 34, 35],\n",
       "       [36, 37, 38, 39],\n",
       "       [40, 41, 42, 43],\n",
       "       [44, 45, 46, 47]])"
      ]
     },
     "execution_count": 572,
     "metadata": {},
     "output_type": "execute_result"
    }
   ],
   "source": [
    "arr"
   ]
  },
  {
   "cell_type": "code",
   "execution_count": 574,
   "id": "0a1a3c02-d2c8-4e45-a0ce-3e260a11fafb",
   "metadata": {},
   "outputs": [
    {
     "data": {
      "text/plain": [
       "<Axes: title={'center': 'reservoir wob grids'}>"
      ]
     },
     "execution_count": 574,
     "metadata": {},
     "output_type": "execute_result"
    },
    {
     "data": {
      "image/png": "[encoded data removed]",
      "text/plain": [
       "<Figure size 300x2400 with 2 Axes>"
      ]
     },
     "metadata": {},
     "output_type": "display_data"
    }
   ],
   "source": [
    "plt.figure(figsize = (3,24))\n",
    "plt.title('reservoir wob grids')\n",
    "sns.heatmap(arr,annot=True)"
   ]
  },
  {
   "cell_type": "code",
   "execution_count": null,
   "id": "e3526291-1d6f-4bd9-aef1-bc4128aacc92",
   "metadata": {},
   "outputs": [],
   "source": []
  }
 ],
 "metadata": {
  "kernelspec": {
   "display_name": "Python 3 (ipykernel)",
   "language": "python",
   "name": "python3"
  },
  "language_info": {
   "codemirror_mode": {
    "name": "ipython",
    "version": 3
   },
   "file_extension": ".py",
   "mimetype": "text/x-python",
   "name": "python",
   "nbconvert_exporter": "python",
   "pygments_lexer": "ipython3",
   "version": "3.12.4"
  }
 },
 "nbformat": 4,
 "nbformat_minor": 5
}

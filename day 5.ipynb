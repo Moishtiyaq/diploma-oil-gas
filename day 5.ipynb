{
 "cells": [
  {
   "cell_type": "markdown",
   "id": "27fa5b6a-296b-4c4c-91c4-2dc60f4d085a",
   "metadata": {},
   "source": [
    "## For Loop\n",
    "- utilise the power of computation by running iterations on iterables: list,tuples,string.\n",
    "- For loop will go in my list and it will take the elements at different indexes and perform the action that we want it to perform."
   ]
  },
  {
   "cell_type": "code",
   "execution_count": 6,
   "id": "911ec42d-e396-47d9-8d87-5a440cf2b483",
   "metadata": {},
   "outputs": [],
   "source": [
    "d = {12:\"a\",13:\"b\",14:\"c\",15:\"e\"}"
   ]
  },
  {
   "cell_type": "code",
   "execution_count": 7,
   "id": "4a92861f-c0f0-47df-a7f0-3965ac060b2f",
   "metadata": {},
   "outputs": [
    {
     "data": {
      "text/plain": [
       "dict"
      ]
     },
     "execution_count": 7,
     "metadata": {},
     "output_type": "execute_result"
    }
   ],
   "source": [
    "type (d)"
   ]
  },
  {
   "cell_type": "code",
   "execution_count": 8,
   "id": "d44fe809-95b6-49ec-8c54-151c5974ff74",
   "metadata": {},
   "outputs": [],
   "source": [
    "woh = (12,13,14,15,16,17,18,19)"
   ]
  },
  {
   "cell_type": "code",
   "execution_count": 9,
   "id": "43f32b82-d75b-4586-96ec-b1ee2294908d",
   "metadata": {},
   "outputs": [
    {
     "name": "stdout",
     "output_type": "stream",
     "text": [
      "12\n",
      "13\n",
      "14\n",
      "15\n",
      "16\n",
      "17\n",
      "18\n"
     ]
    }
   ],
   "source": [
    "print (woh[0])\n",
    "print (woh[1])\n",
    "print (woh[2])\n",
    "print (woh[3])\n",
    "print (woh[4])\n",
    "print (woh[5])\n",
    "print (woh[6])"
   ]
  },
  {
   "cell_type": "code",
   "execution_count": 10,
   "id": "af5cae0b-e596-41cd-b6fd-9ae7d52c9d81",
   "metadata": {},
   "outputs": [
    {
     "name": "stdout",
     "output_type": "stream",
     "text": [
      "12\n",
      "13\n",
      "14\n",
      "15\n",
      "16\n",
      "17\n",
      "18\n",
      "19\n"
     ]
    }
   ],
   "source": [
    "for i in woh:\n",
    "    print(i)"
   ]
  },
  {
   "cell_type": "code",
   "execution_count": 11,
   "id": "c42a0e4d-3feb-447e-85c3-37a3400813df",
   "metadata": {},
   "outputs": [
    {
     "name": "stdout",
     "output_type": "stream",
     "text": [
      "12\n",
      "13\n",
      "14\n",
      "15\n"
     ]
    }
   ],
   "source": [
    "for i in woh[:4]:\n",
    "    print(i)"
   ]
  },
  {
   "cell_type": "code",
   "execution_count": 12,
   "id": "ba4d4110-71e0-43fe-a98e-fd059cf60cd9",
   "metadata": {},
   "outputs": [
    {
     "data": {
      "text/plain": [
       "(12, 13, 14, 15)"
      ]
     },
     "execution_count": 12,
     "metadata": {},
     "output_type": "execute_result"
    }
   ],
   "source": [
    "woh [:4]"
   ]
  },
  {
   "cell_type": "code",
   "execution_count": 13,
   "id": "fd7277eb-75e0-462b-8799-a2644ec62e4f",
   "metadata": {},
   "outputs": [
    {
     "name": "stdout",
     "output_type": "stream",
     "text": [
      "14\n",
      "15\n",
      "16\n",
      "17\n"
     ]
    }
   ],
   "source": [
    "for i in  woh[2:6]:\n",
    "    print(i)"
   ]
  },
  {
   "cell_type": "code",
   "execution_count": 14,
   "id": "d8952564-2df0-49f5-a445-edd8ddeaab32",
   "metadata": {},
   "outputs": [
    {
     "data": {
      "text/plain": [
       "8"
      ]
     },
     "execution_count": 14,
     "metadata": {},
     "output_type": "execute_result"
    }
   ],
   "source": [
    "len (woh)"
   ]
  },
  {
   "cell_type": "code",
   "execution_count": 15,
   "id": "7dd604ef-61a7-4d12-a016-47e392884dd5",
   "metadata": {},
   "outputs": [],
   "source": [
    "spec_gravity = [0.1,0.2,0.3,0.4,0.5,0.6,0.7,0.8]"
   ]
  },
  {
   "cell_type": "code",
   "execution_count": 16,
   "id": "26e0d9a3-ff02-40b4-a3c0-6030e2fbf570",
   "metadata": {},
   "outputs": [
    {
     "data": {
      "text/plain": [
       "list"
      ]
     },
     "execution_count": 16,
     "metadata": {},
     "output_type": "execute_result"
    }
   ],
   "source": [
    "type (spec_gravity)"
   ]
  },
  {
   "cell_type": "code",
   "execution_count": 17,
   "id": "8eac9678-a16e-4c11-a03a-2943a45f7abb",
   "metadata": {},
   "outputs": [
    {
     "name": "stdout",
     "output_type": "stream",
     "text": [
      "API Gravity of crude oil corresponding to specific gravity of 0.1 is 1283.5\n",
      "API Gravity of crude oil corresponding to specific gravity of 0.2 is 576.0\n",
      "API Gravity of crude oil corresponding to specific gravity of 0.3 is 340.1666666666667\n",
      "API Gravity of crude oil corresponding to specific gravity of 0.4 is 222.25\n",
      "API Gravity of crude oil corresponding to specific gravity of 0.5 is 151.5\n",
      "API Gravity of crude oil corresponding to specific gravity of 0.6 is 104.33333333333334\n",
      "API Gravity of crude oil corresponding to specific gravity of 0.7 is 70.64285714285717\n",
      "API Gravity of crude oil corresponding to specific gravity of 0.8 is 45.375\n",
      "list of Api gravity is: [1283.5, 576.0, 340.1666666666667, 222.25, 151.5, 104.33333333333334, 70.64285714285717, 45.375]\n"
     ]
    }
   ],
   "source": [
    "Api = []\n",
    "\n",
    "for i in spec_gravity:\n",
    "    api = (141.5/i)-131.5\n",
    "    Api.append(api)\n",
    "    print(f\"API Gravity of crude oil corresponding to specific gravity of {i} is {api}\")\n",
    "\n",
    "print (f\"list of Api gravity is: {Api}\")"
   ]
  },
  {
   "cell_type": "code",
   "execution_count": 18,
   "id": "1d6fb79e-c99b-4c59-8354-f6ad51c321cf",
   "metadata": {},
   "outputs": [],
   "source": [
    "gwdc = []"
   ]
  },
  {
   "cell_type": "code",
   "execution_count": 19,
   "id": "c3a4277f-b304-4b1d-a72d-bc721064bb77",
   "metadata": {},
   "outputs": [
    {
     "data": {
      "text/plain": [
       "list"
      ]
     },
     "execution_count": 19,
     "metadata": {},
     "output_type": "execute_result"
    }
   ],
   "source": [
    "type(gwdc)"
   ]
  },
  {
   "cell_type": "code",
   "execution_count": 20,
   "id": "38e60e66-1fc7-4131-9315-a5215cad9992",
   "metadata": {},
   "outputs": [],
   "source": [
    "api = (141.5/i)-131.5"
   ]
  },
  {
   "cell_type": "code",
   "execution_count": 21,
   "id": "ce91b551-2b6f-4d40-a141-95d2426c2100",
   "metadata": {},
   "outputs": [],
   "source": [
    "gwdc.append(api)"
   ]
  },
  {
   "cell_type": "code",
   "execution_count": 22,
   "id": "10a9d701-fbc9-420b-abd8-0af1ca923886",
   "metadata": {},
   "outputs": [
    {
     "name": "stdout",
     "output_type": "stream",
     "text": [
      " gwdc gravity of oil 0.8 is 45.375\n"
     ]
    }
   ],
   "source": [
    "print(f\" gwdc gravity of oil {i} is {api}\")"
   ]
  },
  {
   "cell_type": "code",
   "execution_count": 23,
   "id": "7b26ab1a-08e9-4eb2-b0b4-085eaf424743",
   "metadata": {},
   "outputs": [
    {
     "data": {
      "text/plain": [
       "8"
      ]
     },
     "execution_count": 23,
     "metadata": {},
     "output_type": "execute_result"
    }
   ],
   "source": [
    "len(spec_gravity)"
   ]
  },
  {
   "cell_type": "code",
   "execution_count": 24,
   "id": "fa701295-52a9-4b6f-9995-bf4f1e86a347",
   "metadata": {},
   "outputs": [],
   "source": [
    "field_names = [\"sadi\",\"mutriba\",\"burgan\",\"rawdatain\",\"abdali\",\"magwa\",\"mauddud\",\"ahmadi\"]"
   ]
  },
  {
   "cell_type": "code",
   "execution_count": 25,
   "id": "23b96d0b-6d01-4e52-9850-6bf7b5427808",
   "metadata": {},
   "outputs": [
    {
     "data": {
      "text/plain": [
       "['sadi',\n",
       " 'mutriba',\n",
       " 'burgan',\n",
       " 'rawdatain',\n",
       " 'abdali',\n",
       " 'magwa',\n",
       " 'mauddud',\n",
       " 'ahmadi']"
      ]
     },
     "execution_count": 25,
     "metadata": {},
     "output_type": "execute_result"
    }
   ],
   "source": [
    "field_names"
   ]
  },
  {
   "cell_type": "code",
   "execution_count": 26,
   "id": "ec9db8e4-355f-4e82-b575-e751269c33a5",
   "metadata": {},
   "outputs": [
    {
     "data": {
      "text/plain": [
       "8"
      ]
     },
     "execution_count": 26,
     "metadata": {},
     "output_type": "execute_result"
    }
   ],
   "source": [
    "len(field_names)"
   ]
  },
  {
   "cell_type": "markdown",
   "id": "4574fafd-e40b-4af3-92c0-8199daf5ad8c",
   "metadata": {},
   "source": [
    "## Zip"
   ]
  },
  {
   "cell_type": "code",
   "execution_count": 28,
   "id": "a7013eb9-16dc-474e-a960-a61dd078c9fc",
   "metadata": {},
   "outputs": [
    {
     "data": {
      "text/plain": [
       "[('sadi', 12, 0.1),\n",
       " ('mutriba', 13, 0.2),\n",
       " ('burgan', 14, 0.3),\n",
       " ('rawdatain', 15, 0.4),\n",
       " ('abdali', 16, 0.5),\n",
       " ('magwa', 17, 0.6),\n",
       " ('mauddud', 18, 0.7),\n",
       " ('ahmadi', 19, 0.8)]"
      ]
     },
     "execution_count": 28,
     "metadata": {},
     "output_type": "execute_result"
    }
   ],
   "source": [
    "list(zip(field_names,woh,spec_gravity))"
   ]
  },
  {
   "cell_type": "code",
   "execution_count": 29,
   "id": "b3583c56-0ad3-4204-84c8-46aa8695b51a",
   "metadata": {},
   "outputs": [
    {
     "name": "stdout",
     "output_type": "stream",
     "text": [
      "field of sadi woh is 12 klb, and specific gravity of oil is 0.1\n",
      "field of mutriba woh is 13 klb, and specific gravity of oil is 0.2\n",
      "field of burgan woh is 14 klb, and specific gravity of oil is 0.3\n",
      "field of rawdatain woh is 15 klb, and specific gravity of oil is 0.4\n",
      "field of abdali woh is 16 klb, and specific gravity of oil is 0.5\n",
      "field of magwa woh is 17 klb, and specific gravity of oil is 0.6\n",
      "field of mauddud woh is 18 klb, and specific gravity of oil is 0.7\n",
      "field of ahmadi woh is 19 klb, and specific gravity of oil is 0.8\n"
     ]
    }
   ],
   "source": [
    "for i,j,k in zip(field_names,woh,spec_gravity):\n",
    "    print(f\"field of {i} woh is {j} klb, and specific gravity of oil is {k}\")"
   ]
  },
  {
   "cell_type": "code",
   "execution_count": 30,
   "id": "7eab09af-c54f-4e6a-b3c2-34d78b09c9de",
   "metadata": {},
   "outputs": [
    {
     "data": {
      "text/plain": [
       "(12, 13, 14, 15, 16, 17, 18, 19)"
      ]
     },
     "execution_count": 30,
     "metadata": {},
     "output_type": "execute_result"
    }
   ],
   "source": [
    "woh"
   ]
  },
  {
   "cell_type": "code",
   "execution_count": 31,
   "id": "264a7c46-0498-45b2-8339-6c3e6e179756",
   "metadata": {},
   "outputs": [
    {
     "data": {
      "text/plain": [
       "[0.1, 0.2, 0.3, 0.4, 0.5, 0.6, 0.7, 0.8]"
      ]
     },
     "execution_count": 31,
     "metadata": {},
     "output_type": "execute_result"
    }
   ],
   "source": [
    "spec_gravity"
   ]
  },
  {
   "cell_type": "code",
   "execution_count": 32,
   "id": "0768579e-48e0-477e-869a-24efbe6eb39d",
   "metadata": {},
   "outputs": [
    {
     "data": {
      "text/plain": [
       "[(12, 0.1),\n",
       " (13, 0.2),\n",
       " (14, 0.3),\n",
       " (15, 0.4),\n",
       " (16, 0.5),\n",
       " (17, 0.6),\n",
       " (18, 0.7),\n",
       " (19, 0.8)]"
      ]
     },
     "execution_count": 32,
     "metadata": {},
     "output_type": "execute_result"
    }
   ],
   "source": [
    "list(zip(woh,spec_gravity))"
   ]
  },
  {
   "cell_type": "code",
   "execution_count": 33,
   "id": "a3037d65-dce4-419a-8b81-1f96ce565f0a",
   "metadata": {},
   "outputs": [
    {
     "data": {
      "text/plain": [
       "['sadi',\n",
       " 'mutriba',\n",
       " 'burgan',\n",
       " 'rawdatain',\n",
       " 'abdali',\n",
       " 'magwa',\n",
       " 'mauddud',\n",
       " 'ahmadi']"
      ]
     },
     "execution_count": 33,
     "metadata": {},
     "output_type": "execute_result"
    }
   ],
   "source": [
    "field_names"
   ]
  },
  {
   "cell_type": "code",
   "execution_count": 34,
   "id": "e0353552-68b9-4178-85da-d58a0feedb3c",
   "metadata": {},
   "outputs": [
    {
     "data": {
      "text/plain": [
       "[('sadi', 12, 0.1),\n",
       " ('mutriba', 13, 0.2),\n",
       " ('burgan', 14, 0.3),\n",
       " ('rawdatain', 15, 0.4),\n",
       " ('abdali', 16, 0.5),\n",
       " ('magwa', 17, 0.6),\n",
       " ('mauddud', 18, 0.7),\n",
       " ('ahmadi', 19, 0.8)]"
      ]
     },
     "execution_count": 34,
     "metadata": {},
     "output_type": "execute_result"
    }
   ],
   "source": [
    "list(zip(field_names,woh,spec_gravity))"
   ]
  },
  {
   "cell_type": "code",
   "execution_count": 35,
   "id": "3dcef7eb-70f4-407b-9ab5-d7efac8a1997",
   "metadata": {},
   "outputs": [],
   "source": [
    "a = (\"bird1\",\"bird2\",\"bird3\")\n",
    "b = (\"sparrow\",\"crow\",\"eagle\")"
   ]
  },
  {
   "cell_type": "code",
   "execution_count": 36,
   "id": "a347cad5-b8c7-4aec-ae22-39c476d6eb6f",
   "metadata": {},
   "outputs": [
    {
     "data": {
      "text/plain": [
       "[('bird1', 'sparrow'), ('bird2', 'crow'), ('bird3', 'eagle')]"
      ]
     },
     "execution_count": 36,
     "metadata": {},
     "output_type": "execute_result"
    }
   ],
   "source": [
    "list(zip(a,b))"
   ]
  },
  {
   "cell_type": "code",
   "execution_count": 37,
   "id": "398bcba5-6ec6-4236-8591-5c26318b938c",
   "metadata": {},
   "outputs": [
    {
     "name": "stdout",
     "output_type": "stream",
     "text": [
      "the bird1 is sparrow\n",
      "the bird2 is crow\n",
      "the bird3 is eagle\n"
     ]
    }
   ],
   "source": [
    "for i,j in list(zip(a,b)):\n",
    "    print(f\"the {i} is {j}\")"
   ]
  },
  {
   "cell_type": "code",
   "execution_count": 38,
   "id": "cf85d009-a2d1-4952-88c7-e429594ea647",
   "metadata": {},
   "outputs": [
    {
     "data": {
      "text/plain": [
       "['sadi',\n",
       " 'mutriba',\n",
       " 'burgan',\n",
       " 'rawdatain',\n",
       " 'abdali',\n",
       " 'magwa',\n",
       " 'mauddud',\n",
       " 'ahmadi']"
      ]
     },
     "execution_count": 38,
     "metadata": {},
     "output_type": "execute_result"
    }
   ],
   "source": [
    "field_names"
   ]
  },
  {
   "cell_type": "code",
   "execution_count": 39,
   "id": "fc71fd9a-4d57-4665-9af8-c31d4ae60c01",
   "metadata": {},
   "outputs": [
    {
     "data": {
      "text/plain": [
       "(12, 13, 14, 15, 16, 17, 18, 19)"
      ]
     },
     "execution_count": 39,
     "metadata": {},
     "output_type": "execute_result"
    }
   ],
   "source": [
    "woh"
   ]
  },
  {
   "cell_type": "code",
   "execution_count": 40,
   "id": "dd6cdfc3-07af-4e0e-8dd5-d9ba534f4dc4",
   "metadata": {},
   "outputs": [
    {
     "data": {
      "text/plain": [
       "[0.1, 0.2, 0.3, 0.4, 0.5, 0.6, 0.7, 0.8]"
      ]
     },
     "execution_count": 40,
     "metadata": {},
     "output_type": "execute_result"
    }
   ],
   "source": [
    "spec_gravity"
   ]
  },
  {
   "cell_type": "code",
   "execution_count": 41,
   "id": "904ed0fe-2c31-4de0-b36a-56d128d73407",
   "metadata": {},
   "outputs": [
    {
     "name": "stdout",
     "output_type": "stream",
     "text": [
      "woh of sadi field is 12 klb, and specific gravity of oil is 0.1\n",
      "woh of mutriba field is 13 klb, and specific gravity of oil is 0.2\n",
      "woh of burgan field is 14 klb, and specific gravity of oil is 0.3\n",
      "woh of rawdatain field is 15 klb, and specific gravity of oil is 0.4\n",
      "woh of abdali field is 16 klb, and specific gravity of oil is 0.5\n",
      "woh of magwa field is 17 klb, and specific gravity of oil is 0.6\n",
      "woh of mauddud field is 18 klb, and specific gravity of oil is 0.7\n",
      "woh of ahmadi field is 19 klb, and specific gravity of oil is 0.8\n"
     ]
    }
   ],
   "source": [
    "for i,j,k in zip(field_names,woh,spec_gravity):\n",
    "    print(f\"woh of {i} field is {j} klb, and specific gravity of oil is {k}\")"
   ]
  },
  {
   "cell_type": "code",
   "execution_count": 42,
   "id": "24724232-0f21-45e5-942e-565c5efaf37d",
   "metadata": {},
   "outputs": [],
   "source": [
    "field_properties={\n",
    "    \"sadi\": {\"woh\" : 12,\" spec_gravity\" : 0.1}\n",
    "}"
   ]
  },
  {
   "cell_type": "code",
   "execution_count": 43,
   "id": "856d9796-0be1-4706-b83b-9d6335a51b01",
   "metadata": {},
   "outputs": [
    {
     "data": {
      "text/plain": [
       "{'sadi': {'woh': 12, ' spec_gravity': 0.1}}"
      ]
     },
     "execution_count": 43,
     "metadata": {},
     "output_type": "execute_result"
    }
   ],
   "source": [
    "field_properties"
   ]
  },
  {
   "cell_type": "code",
   "execution_count": 44,
   "id": "45fe3e89-372c-4b0a-98fb-e9619f23ff90",
   "metadata": {},
   "outputs": [],
   "source": [
    "field_properties= {}\n",
    "for i,j,k in zip(field_names,woh,spec_gravity):\n",
    "     field_properties[i] = {\"woh\":j,\"spec_gravity\":k}"
   ]
  },
  {
   "cell_type": "code",
   "execution_count": 45,
   "id": "87802d83-702b-499b-9063-de5a9682a7ae",
   "metadata": {},
   "outputs": [
    {
     "data": {
      "text/plain": [
       "{'sadi': {'woh': 12, 'spec_gravity': 0.1},\n",
       " 'mutriba': {'woh': 13, 'spec_gravity': 0.2},\n",
       " 'burgan': {'woh': 14, 'spec_gravity': 0.3},\n",
       " 'rawdatain': {'woh': 15, 'spec_gravity': 0.4},\n",
       " 'abdali': {'woh': 16, 'spec_gravity': 0.5},\n",
       " 'magwa': {'woh': 17, 'spec_gravity': 0.6},\n",
       " 'mauddud': {'woh': 18, 'spec_gravity': 0.7},\n",
       " 'ahmadi': {'woh': 19, 'spec_gravity': 0.8}}"
      ]
     },
     "execution_count": 45,
     "metadata": {},
     "output_type": "execute_result"
    }
   ],
   "source": [
    "field_properties"
   ]
  },
  {
   "cell_type": "code",
   "execution_count": 46,
   "id": "6eb07b21-bde9-4e63-8840-61cb7a4e36d2",
   "metadata": {},
   "outputs": [
    {
     "data": {
      "text/plain": [
       "dict"
      ]
     },
     "execution_count": 46,
     "metadata": {},
     "output_type": "execute_result"
    }
   ],
   "source": [
    "type(field_properties)"
   ]
  },
  {
   "cell_type": "code",
   "execution_count": 47,
   "id": "74aa539a-4c88-4dff-87c9-96be3307b0d4",
   "metadata": {},
   "outputs": [
    {
     "data": {
      "text/plain": [
       "17"
      ]
     },
     "execution_count": 47,
     "metadata": {},
     "output_type": "execute_result"
    }
   ],
   "source": [
    "field_properties[\"magwa\"][\"woh\"]"
   ]
  },
  {
   "cell_type": "code",
   "execution_count": 48,
   "id": "7e7743fa-7347-4708-a7e9-b92e23a8a5ce",
   "metadata": {},
   "outputs": [
    {
     "data": {
      "text/plain": [
       "0.8"
      ]
     },
     "execution_count": 48,
     "metadata": {},
     "output_type": "execute_result"
    }
   ],
   "source": [
    "field_properties[\"ahmadi\"][\"spec_gravity\"]"
   ]
  },
  {
   "cell_type": "code",
   "execution_count": 49,
   "id": "7a005ae9-d61d-4a79-a143-d6198bf060bb",
   "metadata": {},
   "outputs": [],
   "source": [
    "a = {1: {'woh': 12, 'spec_gravity': 0.1},\n",
    " 2: {'woh': 13, 'spec_gravity': 0.2},\n",
    " 3: {'woh': 14, 'spec_gravity': 0.3},\n",
    " 'rawdatain': {'woh': 15, 'spec_gravity': 0.4},\n",
    " 'abdali': {'woh': 16, 'spec_gravity': 0.5},\n",
    " 'magwa': {'woh': 17, 'spec_gravity': 0.6},\n",
    " 'mauddud': {'woh': 18, 'spec_gravity': 0.7},\n",
    " 'ahmadi': {'woh': 19, 'spec_gravity': 0.8}}"
   ]
  },
  {
   "cell_type": "code",
   "execution_count": 50,
   "id": "04944864-a789-4ea0-86f9-534c11b8c300",
   "metadata": {},
   "outputs": [
    {
     "data": {
      "text/plain": [
       "{1: {'woh': 12, 'spec_gravity': 0.1},\n",
       " 2: {'woh': 13, 'spec_gravity': 0.2},\n",
       " 3: {'woh': 14, 'spec_gravity': 0.3},\n",
       " 'rawdatain': {'woh': 15, 'spec_gravity': 0.4},\n",
       " 'abdali': {'woh': 16, 'spec_gravity': 0.5},\n",
       " 'magwa': {'woh': 17, 'spec_gravity': 0.6},\n",
       " 'mauddud': {'woh': 18, 'spec_gravity': 0.7},\n",
       " 'ahmadi': {'woh': 19, 'spec_gravity': 0.8}}"
      ]
     },
     "execution_count": 50,
     "metadata": {},
     "output_type": "execute_result"
    }
   ],
   "source": [
    "a"
   ]
  },
  {
   "cell_type": "code",
   "execution_count": 51,
   "id": "e06d10f2-4f0f-4f6c-a6bf-cc475105bdd8",
   "metadata": {},
   "outputs": [
    {
     "data": {
      "text/plain": [
       "{'woh': 17, 'spec_gravity': 0.6}"
      ]
     },
     "execution_count": 51,
     "metadata": {},
     "output_type": "execute_result"
    }
   ],
   "source": [
    "a[\"magwa\"]"
   ]
  },
  {
   "cell_type": "code",
   "execution_count": null,
   "id": "56f61485-82f2-4a04-bb2e-8eba84e665ea",
   "metadata": {},
   "outputs": [],
   "source": []
  }
 ],
 "metadata": {
  "kernelspec": {
   "display_name": "Python 3 (ipykernel)",
   "language": "python",
   "name": "python3"
  },
  "language_info": {
   "codemirror_mode": {
    "name": "ipython",
    "version": 3
   },
   "file_extension": ".py",
   "mimetype": "text/x-python",
   "name": "python",
   "nbconvert_exporter": "python",
   "pygments_lexer": "ipython3",
   "version": "3.12.4"
  }
 },
 "nbformat": 4,
 "nbformat_minor": 5
}

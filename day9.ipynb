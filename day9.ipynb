{
 "cells": [
  {
   "cell_type": "code",
   "execution_count": 1,
   "id": "ce1734c7-4230-415a-ad40-d185503c11b3",
   "metadata": {},
   "outputs": [],
   "source": [
    "import numpy as np"
   ]
  },
  {
   "cell_type": "code",
   "execution_count": 2,
   "id": "21092ac3-46bd-4816-8183-333c1264cb6a",
   "metadata": {},
   "outputs": [],
   "source": [
    "poro = np.array([23,43,3,2,12,3,4,2,2,1,3,4,2,21,34,23,42,2,76,54,32,23,54,5,45,5,5,4,3,4,3,2,53,2,4,6])"
   ]
  },
  {
   "cell_type": "code",
   "execution_count": 3,
   "id": "177c1eb5-984b-47b5-9969-1367e5428e6c",
   "metadata": {},
   "outputs": [
    {
     "data": {
      "text/plain": [
       "array([23, 43,  3,  2, 12,  3,  4,  2,  2,  1,  3,  4,  2, 21, 34, 23, 42,\n",
       "        2, 76, 54, 32, 23, 54,  5, 45,  5,  5,  4,  3,  4,  3,  2, 53,  2,\n",
       "        4,  6])"
      ]
     },
     "execution_count": 3,
     "metadata": {},
     "output_type": "execute_result"
    }
   ],
   "source": [
    "poro"
   ]
  },
  {
   "cell_type": "code",
   "execution_count": 4,
   "id": "a96f6586-f41a-45a1-b184-afbbe6737346",
   "metadata": {},
   "outputs": [
    {
     "data": {
      "text/plain": [
       "(36,)"
      ]
     },
     "execution_count": 4,
     "metadata": {},
     "output_type": "execute_result"
    }
   ],
   "source": [
    "poro.shape"
   ]
  },
  {
   "cell_type": "code",
   "execution_count": 5,
   "id": "8233c7f2-bf4e-47ff-9f90-5340e558778f",
   "metadata": {},
   "outputs": [],
   "source": [
    "#2d array\n",
    "ar = poro.reshape(6,6)"
   ]
  },
  {
   "cell_type": "code",
   "execution_count": 6,
   "id": "4b94bef0-c458-421c-aa87-6e8352acab14",
   "metadata": {},
   "outputs": [
    {
     "data": {
      "text/plain": [
       "array([[23, 43,  3,  2, 12,  3],\n",
       "       [ 4,  2,  2,  1,  3,  4],\n",
       "       [ 2, 21, 34, 23, 42,  2],\n",
       "       [76, 54, 32, 23, 54,  5],\n",
       "       [45,  5,  5,  4,  3,  4],\n",
       "       [ 3,  2, 53,  2,  4,  6]])"
      ]
     },
     "execution_count": 6,
     "metadata": {},
     "output_type": "execute_result"
    }
   ],
   "source": [
    "ar"
   ]
  },
  {
   "cell_type": "code",
   "execution_count": 7,
   "id": "6e9f0315-b0ee-4192-994b-a3c3a277d45f",
   "metadata": {},
   "outputs": [
    {
     "data": {
      "text/plain": [
       "(6, 6)"
      ]
     },
     "execution_count": 7,
     "metadata": {},
     "output_type": "execute_result"
    }
   ],
   "source": [
    "ar.shape"
   ]
  },
  {
   "cell_type": "code",
   "execution_count": 8,
   "id": "d75c4e32-b390-4d0f-bc26-90dd2894d06a",
   "metadata": {},
   "outputs": [],
   "source": [
    "#3d array\n",
    "br = poro.reshape(2,3,6)"
   ]
  },
  {
   "cell_type": "code",
   "execution_count": 9,
   "id": "6f3beed7-389b-43ae-b9e2-7d54b3ac0806",
   "metadata": {},
   "outputs": [
    {
     "data": {
      "text/plain": [
       "array([[[23, 43,  3,  2, 12,  3],\n",
       "        [ 4,  2,  2,  1,  3,  4],\n",
       "        [ 2, 21, 34, 23, 42,  2]],\n",
       "\n",
       "       [[76, 54, 32, 23, 54,  5],\n",
       "        [45,  5,  5,  4,  3,  4],\n",
       "        [ 3,  2, 53,  2,  4,  6]]])"
      ]
     },
     "execution_count": 9,
     "metadata": {},
     "output_type": "execute_result"
    }
   ],
   "source": [
    "br"
   ]
  },
  {
   "cell_type": "code",
   "execution_count": 10,
   "id": "8d93fdad-0f8f-4946-871f-71108f0435ae",
   "metadata": {},
   "outputs": [],
   "source": [
    "#4d array\n",
    "cr = poro.reshape(2,3,2,3)"
   ]
  },
  {
   "cell_type": "code",
   "execution_count": 11,
   "id": "cd3dc943-a998-461d-8952-00ff69d71bc5",
   "metadata": {},
   "outputs": [
    {
     "data": {
      "text/plain": [
       "array([[[[23, 43,  3],\n",
       "         [ 2, 12,  3]],\n",
       "\n",
       "        [[ 4,  2,  2],\n",
       "         [ 1,  3,  4]],\n",
       "\n",
       "        [[ 2, 21, 34],\n",
       "         [23, 42,  2]]],\n",
       "\n",
       "\n",
       "       [[[76, 54, 32],\n",
       "         [23, 54,  5]],\n",
       "\n",
       "        [[45,  5,  5],\n",
       "         [ 4,  3,  4]],\n",
       "\n",
       "        [[ 3,  2, 53],\n",
       "         [ 2,  4,  6]]]])"
      ]
     },
     "execution_count": 11,
     "metadata": {},
     "output_type": "execute_result"
    }
   ],
   "source": [
    "cr"
   ]
  },
  {
   "cell_type": "code",
   "execution_count": 12,
   "id": "d75afe1b-f290-4b99-ba10-44cca7ccbd91",
   "metadata": {},
   "outputs": [
    {
     "data": {
      "text/plain": [
       "array([[23, 43,  3,  2, 12,  3],\n",
       "       [ 4,  2,  2,  1,  3,  4],\n",
       "       [ 2, 21, 34, 23, 42,  2],\n",
       "       [76, 54, 32, 23, 54,  5],\n",
       "       [45,  5,  5,  4,  3,  4],\n",
       "       [ 3,  2, 53,  2,  4,  6]])"
      ]
     },
     "execution_count": 12,
     "metadata": {},
     "output_type": "execute_result"
    }
   ],
   "source": [
    "ar"
   ]
  },
  {
   "cell_type": "code",
   "execution_count": 13,
   "id": "2a37f02a-a4ac-48dc-9f1e-274c75421fba",
   "metadata": {},
   "outputs": [],
   "source": [
    "np.random.seed(2)\n",
    "perm = np.random.randint(15,35,(4,5))"
   ]
  },
  {
   "cell_type": "code",
   "execution_count": 14,
   "id": "248fe503-a25e-4684-9801-d0daeec81ea1",
   "metadata": {},
   "outputs": [
    {
     "data": {
      "text/plain": [
       "array([[23, 30, 28, 23, 26],\n",
       "       [33, 26, 23, 22, 17],\n",
       "       [32, 26, 30, 20, 22],\n",
       "       [18, 21, 19, 25, 26]])"
      ]
     },
     "execution_count": 14,
     "metadata": {},
     "output_type": "execute_result"
    }
   ],
   "source": [
    "perm"
   ]
  },
  {
   "cell_type": "code",
   "execution_count": 15,
   "id": "d3a8ebcf-b21c-4718-837c-c3a9dd6dc2b0",
   "metadata": {},
   "outputs": [],
   "source": [
    "np.random.seed(12345)\n",
    "saturation = np.random.rand(3,4)"
   ]
  },
  {
   "cell_type": "code",
   "execution_count": 16,
   "id": "ec2013d5-9f15-4ce1-b7d9-39b4d0bf73bb",
   "metadata": {},
   "outputs": [
    {
     "data": {
      "text/plain": [
       "array([[0.92961609, 0.31637555, 0.18391881, 0.20456028],\n",
       "       [0.56772503, 0.5955447 , 0.96451452, 0.6531771 ],\n",
       "       [0.74890664, 0.65356987, 0.74771481, 0.96130674]])"
      ]
     },
     "execution_count": 16,
     "metadata": {},
     "output_type": "execute_result"
    }
   ],
   "source": [
    "saturation"
   ]
  },
  {
   "cell_type": "code",
   "execution_count": 17,
   "id": "d250f4b4-0c6d-4b2a-8799-57d24912f22e",
   "metadata": {},
   "outputs": [],
   "source": [
    "poro = np.random.randint(10,200,(4,3,5))"
   ]
  },
  {
   "cell_type": "code",
   "execution_count": 18,
   "id": "776d7a2f-881c-4d96-9ff0-9571586165d4",
   "metadata": {},
   "outputs": [
    {
     "data": {
      "text/plain": [
       "array([[[ 87, 148,  91, 176,  17],\n",
       "        [ 53,  33,  39, 194, 193],\n",
       "        [ 41, 199, 107, 101,  97]],\n",
       "\n",
       "       [[ 46,  74, 141, 134, 143],\n",
       "        [153, 129,  85, 152, 125],\n",
       "        [ 91, 117, 143,  44,  63]],\n",
       "\n",
       "       [[125,  82,  15, 118,  15],\n",
       "        [ 69,  93,  22, 152,  90],\n",
       "        [165,  48,  98,  15,  84]],\n",
       "\n",
       "       [[ 86,  32,  22,  72,  51],\n",
       "        [156, 188,  92, 195,  56],\n",
       "        [ 68,  33, 159,  17,  91]]])"
      ]
     },
     "execution_count": 18,
     "metadata": {},
     "output_type": "execute_result"
    }
   ],
   "source": [
    "poro"
   ]
  },
  {
   "cell_type": "code",
   "execution_count": 19,
   "id": "40d16d9d-bfa3-4582-ae73-201bfcc99a4f",
   "metadata": {},
   "outputs": [
    {
     "ename": "AttributeError",
     "evalue": "module 'numpy.random' has no attribute 'randfloat'",
     "output_type": "error",
     "traceback": [
      "\u001b[1;31m---------------------------------------------------------------------------\u001b[0m",
      "\u001b[1;31mAttributeError\u001b[0m                            Traceback (most recent call last)",
      "Cell \u001b[1;32mIn[19], line 1\u001b[0m\n\u001b[1;32m----> 1\u001b[0m poro \u001b[38;5;241m=\u001b[39m np\u001b[38;5;241m.\u001b[39mrandom\u001b[38;5;241m.\u001b[39mrandfloat(\u001b[38;5;241m10\u001b[39m,\u001b[38;5;241m200\u001b[39m,(\u001b[38;5;241m4\u001b[39m,\u001b[38;5;241m3\u001b[39m,\u001b[38;5;241m5\u001b[39m))\n",
      "\u001b[1;31mAttributeError\u001b[0m: module 'numpy.random' has no attribute 'randfloat'"
     ]
    }
   ],
   "source": [
    "poro = np.random.randfloat(10,200,(4,3,5))"
   ]
  },
  {
   "cell_type": "code",
   "execution_count": 20,
   "id": "b45fe033-64fc-43ec-99bc-4c368da2c152",
   "metadata": {},
   "outputs": [
    {
     "data": {
      "text/plain": [
       "array([[[ 87, 148,  91, 176,  17],\n",
       "        [ 53,  33,  39, 194, 193],\n",
       "        [ 41, 199, 107, 101,  97]],\n",
       "\n",
       "       [[ 46,  74, 141, 134, 143],\n",
       "        [153, 129,  85, 152, 125],\n",
       "        [ 91, 117, 143,  44,  63]],\n",
       "\n",
       "       [[125,  82,  15, 118,  15],\n",
       "        [ 69,  93,  22, 152,  90],\n",
       "        [165,  48,  98,  15,  84]],\n",
       "\n",
       "       [[ 86,  32,  22,  72,  51],\n",
       "        [156, 188,  92, 195,  56],\n",
       "        [ 68,  33, 159,  17,  91]]])"
      ]
     },
     "execution_count": 20,
     "metadata": {},
     "output_type": "execute_result"
    }
   ],
   "source": [
    "poro"
   ]
  },
  {
   "cell_type": "code",
   "execution_count": 21,
   "id": "e68499f4-75ca-4dff-ba99-53ca00edb4de",
   "metadata": {},
   "outputs": [],
   "source": [
    "random_int = np.random.randint(10,200,(4,3,5))\n",
    "random_float = np.random.rand(4,3,5)\n",
    "random = random_int+random_float"
   ]
  },
  {
   "cell_type": "code",
   "execution_count": 22,
   "id": "a2319392-fe9d-495b-9390-a529c1f045c2",
   "metadata": {},
   "outputs": [
    {
     "data": {
      "text/plain": [
       "array([[[ 73.35356565, 133.65085179,  10.3129329 , 182.76873545,\n",
       "         195.7818371 ],\n",
       "        [152.85240948, 164.94990574, 181.10732291, 168.91072536,\n",
       "          42.33605516],\n",
       "        [ 13.82638043,  16.89810064, 187.0427153 , 134.195795  ,\n",
       "          47.29450132]],\n",
       "\n",
       "       [[ 53.62699988,  72.08622311,  31.14294502,  75.51582652,\n",
       "          15.68934133],\n",
       "        [124.85662581, 131.64736168, 131.58161868,  79.71111596,\n",
       "          55.25241686],\n",
       "        [156.90015968, 126.44229369, 156.02052082, 143.95966101,\n",
       "          70.65222542]],\n",
       "\n",
       "       [[128.51320625,  47.68235638, 147.48954039, 118.92649017,\n",
       "         135.51587977],\n",
       "        [112.07215988,  75.5675083 ,  56.61524318, 163.94154629,\n",
       "         181.41536335],\n",
       "        [ 87.26443997,  18.09739317, 146.48584422, 156.46466286,\n",
       "         121.02975932]],\n",
       "\n",
       "       [[153.69427746, 100.71694711,  42.72981142, 124.41435102,\n",
       "         106.01509884],\n",
       "        [ 96.90897516,  79.78937872,  89.16519917, 108.31278596,\n",
       "          38.61094531],\n",
       "        [145.36449029,  14.15603859, 177.17730381, 141.86788967,\n",
       "          96.29009467]]])"
      ]
     },
     "execution_count": 22,
     "metadata": {},
     "output_type": "execute_result"
    }
   ],
   "source": [
    "random"
   ]
  },
  {
   "cell_type": "markdown",
   "id": "3490d75a-f48d-4629-bc2c-d28e383d4c86",
   "metadata": {},
   "source": [
    "## Random Number Generation"
   ]
  },
  {
   "cell_type": "code",
   "execution_count": 24,
   "id": "244da452-e8e1-498a-9b30-4bcb51f5807b",
   "metadata": {},
   "outputs": [],
   "source": [
    "## Techniques that doesn't follow any probability distribution"
   ]
  },
  {
   "cell_type": "code",
   "execution_count": 25,
   "id": "e350bd68-d068-4497-80a8-c10d6e7ccb4a",
   "metadata": {},
   "outputs": [],
   "source": [
    "## Randint: for generating random integers\n",
    "\n",
    "# => np.random.randint(min,max,shape)"
   ]
  },
  {
   "cell_type": "code",
   "execution_count": 26,
   "id": "e0c2199f-3cce-40a2-a33f-26385adbd57c",
   "metadata": {},
   "outputs": [],
   "source": [
    "np.random.seed(22)\n",
    "perm = np.random.randint(15,35,(4,5))"
   ]
  },
  {
   "cell_type": "code",
   "execution_count": 27,
   "id": "3ff43225-402b-4a3a-9c3d-c98fc7598980",
   "metadata": {},
   "outputs": [
    {
     "data": {
      "text/plain": [
       "array([[19, 27, 15, 19, 21],\n",
       "       [26, 23, 19, 33, 29],\n",
       "       [28, 22, 17, 24, 23],\n",
       "       [23, 20, 30, 17, 33]])"
      ]
     },
     "execution_count": 27,
     "metadata": {},
     "output_type": "execute_result"
    }
   ],
   "source": [
    "perm"
   ]
  },
  {
   "cell_type": "code",
   "execution_count": 28,
   "id": "7fa719e1-ff8d-4a0c-a286-f11ee214c5b2",
   "metadata": {},
   "outputs": [
    {
     "data": {
      "text/plain": [
       "array([[[ 887,  134,  814,  962,  358, 1384,  504],\n",
       "        [ 493, 1622,  906,  481,  486,  991, 1684],\n",
       "        [1552,  766, 1583,  474, 1020, 1119,  937],\n",
       "        [1316,  939, 1921, 1034,  682, 1159, 1393],\n",
       "        [ 541,  598,  676,  543,  724, 1107, 1320],\n",
       "        [1659,  917,  789, 1732,  989, 1033, 1693],\n",
       "        [ 873,  537, 1264,  281, 1899,  653, 1504],\n",
       "        [ 399, 1078,  973, 1654,  361, 1585,  767]],\n",
       "\n",
       "       [[1651, 1667,  433,  729, 1109,  828, 1787],\n",
       "        [1086, 1586, 1631,  957,  991,  323, 1631],\n",
       "        [ 663,  622,   55, 1419, 1531, 1366, 1171],\n",
       "        [ 822, 1413,  629, 1638,  397,  415, 1790],\n",
       "        [1122, 1236,  965,  392, 1873,  446,  158],\n",
       "        [1954, 1001,  859, 1719, 1106, 1495,  602],\n",
       "        [ 464, 1555, 1471, 1930,  410, 1429,  236],\n",
       "        [1344,  620, 1251,  519,  968, 1903, 1543]],\n",
       "\n",
       "       [[ 840, 1339,  192,   71, 1240, 1282,  999],\n",
       "        [ 576,  435,  916,  731, 1131,   98,   65],\n",
       "        [ 181, 1737, 1240,  291, 1486, 1706, 1750],\n",
       "        [ 762, 1531,  186, 1681, 1559, 1495,  455],\n",
       "        [1798,  582, 1109, 1730, 1921, 1418, 1516],\n",
       "        [1910, 1554, 1315,  279, 1736, 1402, 1572],\n",
       "        [1832,  679,  744, 1324, 1096, 1948,  249],\n",
       "        [ 697,  462, 1638,   95,  726,  705,  384]]])"
      ]
     },
     "execution_count": 28,
     "metadata": {},
     "output_type": "execute_result"
    }
   ],
   "source": [
    "np.random.seed(22)\n",
    "np.random.randint(2,2000,(3,8,7))"
   ]
  },
  {
   "cell_type": "code",
   "execution_count": 29,
   "id": "aa10221f-53cd-436b-b511-f64295ed045d",
   "metadata": {},
   "outputs": [],
   "source": [
    "#rand = 0 and 1\n",
    "\n",
    "# syntax = np.random.rand(shape)"
   ]
  },
  {
   "cell_type": "code",
   "execution_count": 30,
   "id": "88868689-ac41-4c97-8e74-c6d094286803",
   "metadata": {},
   "outputs": [
    {
     "data": {
      "text/plain": [
       "array([[0.51729788, 0.9469626 , 0.76545976, 0.28239584],\n",
       "       [0.22104536, 0.68622209, 0.1671392 , 0.39244247],\n",
       "       [0.61805235, 0.41193009, 0.00246488, 0.88403218]])"
      ]
     },
     "execution_count": 30,
     "metadata": {},
     "output_type": "execute_result"
    }
   ],
   "source": [
    "np.random.seed(23)\n",
    "np.random.rand(3,4)"
   ]
  },
  {
   "cell_type": "code",
   "execution_count": 31,
   "id": "a4913896-9158-4b65-9fa4-e7ff1f8181ee",
   "metadata": {},
   "outputs": [],
   "source": [
    "# random float values between 10 to 200 of shape 4,3,5"
   ]
  },
  {
   "cell_type": "code",
   "execution_count": 32,
   "id": "419037d3-ddde-4ec0-b853-5f45cd1d4288",
   "metadata": {},
   "outputs": [
    {
     "data": {
      "text/plain": [
       "array([[[ 22,  31,  58,  51,  89],\n",
       "        [100,  67, 157, 171, 197],\n",
       "        [ 49, 153,  46,  75, 139]],\n",
       "\n",
       "       [[126, 181,  25, 113, 196],\n",
       "        [128,  35, 135,  45,  66],\n",
       "        [ 23,  70,  32, 176,  41]],\n",
       "\n",
       "       [[104,  10, 159,  16,  42],\n",
       "        [108,  42, 152,  41,  88],\n",
       "        [ 90,  80,  76, 193,  37]],\n",
       "\n",
       "       [[ 72,  53,  81, 180,  31],\n",
       "        [ 16,  78, 160,  53, 146],\n",
       "        [170,  70, 110,  21,  11]]])"
      ]
     },
     "execution_count": 32,
     "metadata": {},
     "output_type": "execute_result"
    }
   ],
   "source": [
    "np.random.randint(10,200,(4,3,5))"
   ]
  },
  {
   "cell_type": "code",
   "execution_count": 41,
   "id": "182182e5-bcf7-4d4a-bb33-4bd78608e7fc",
   "metadata": {},
   "outputs": [],
   "source": [
    "a = np.random.randint(10,200,(4,3,5))\n",
    "b = np.random.rand(4,3,5)\n",
    "c = (a+b)"
   ]
  },
  {
   "cell_type": "code",
   "execution_count": 47,
   "id": "fa750f1f-c25d-47b5-a8aa-16e8c364ee8f",
   "metadata": {},
   "outputs": [
    {
     "data": {
      "text/plain": [
       "array([[[ 66.24522108, 151.6533114 ,  12.33737679, 151.02155963,\n",
       "         117.2724111 ],\n",
       "        [102.96148914, 180.71252575,  15.61326292,  85.04259386,\n",
       "          12.97878489],\n",
       "        [105.54783413, 192.51198502,  75.81101386, 179.71614764,\n",
       "          36.83088516]],\n",
       "\n",
       "       [[ 53.14696007, 126.59025079, 131.84711365,  60.34239562,\n",
       "         167.14485983],\n",
       "        [ 86.18364837,  79.16350706, 147.42543236, 119.60558851,\n",
       "          87.09412098],\n",
       "        [ 19.02678854,  60.08871545,  46.27166828, 178.34224801,\n",
       "         110.77672538]],\n",
       "\n",
       "       [[120.74362736, 121.10997748,  69.47806896,  92.64788485,\n",
       "          43.8425487 ],\n",
       "        [ 13.38846885, 170.31522836, 159.41688427, 116.44175712,\n",
       "         145.61676212],\n",
       "        [ 48.99622907,  23.65218306, 115.63551147, 199.53451268,\n",
       "         192.35557837]],\n",
       "\n",
       "       [[199.85496379, 145.16329575,  23.76582379,  88.75783186,\n",
       "          26.04946705],\n",
       "        [ 12.4557885 ,  77.71299629, 101.57047639,  28.36095819,\n",
       "         160.27260304],\n",
       "        [123.0489662 ,  67.08651654,  51.99517284, 124.63068939,\n",
       "         154.79432928]]])"
      ]
     },
     "execution_count": 47,
     "metadata": {},
     "output_type": "execute_result"
    }
   ],
   "source": [
    "c"
   ]
  },
  {
   "cell_type": "code",
   "execution_count": 49,
   "id": "73c091a9-cdb5-4963-9fd4-dba75c165bee",
   "metadata": {},
   "outputs": [
    {
     "data": {
      "text/plain": [
       "array([[[ 66.25, 151.65,  12.34, 151.02, 117.27],\n",
       "        [102.96, 180.71,  15.61,  85.04,  12.98],\n",
       "        [105.55, 192.51,  75.81, 179.72,  36.83]],\n",
       "\n",
       "       [[ 53.15, 126.59, 131.85,  60.34, 167.14],\n",
       "        [ 86.18,  79.16, 147.43, 119.61,  87.09],\n",
       "        [ 19.03,  60.09,  46.27, 178.34, 110.78]],\n",
       "\n",
       "       [[120.74, 121.11,  69.48,  92.65,  43.84],\n",
       "        [ 13.39, 170.32, 159.42, 116.44, 145.62],\n",
       "        [ 49.  ,  23.65, 115.64, 199.53, 192.36]],\n",
       "\n",
       "       [[199.85, 145.16,  23.77,  88.76,  26.05],\n",
       "        [ 12.46,  77.71, 101.57,  28.36, 160.27],\n",
       "        [123.05,  67.09,  52.  , 124.63, 154.79]]])"
      ]
     },
     "execution_count": 49,
     "metadata": {},
     "output_type": "execute_result"
    }
   ],
   "source": [
    "np.round(c,2)"
   ]
  },
  {
   "cell_type": "code",
   "execution_count": 51,
   "id": "c4fac82f-2cb6-4d81-99e3-99d0369b0754",
   "metadata": {},
   "outputs": [],
   "source": [
    "## choice \n",
    "\n",
    "# => generate random values from your provided"
   ]
  },
  {
   "cell_type": "code",
   "execution_count": 59,
   "id": "fa602715-b886-4474-9b33-db83026d4a4a",
   "metadata": {},
   "outputs": [
    {
     "data": {
      "text/plain": [
       "7"
      ]
     },
     "execution_count": 59,
     "metadata": {},
     "output_type": "execute_result"
    }
   ],
   "source": [
    "np.random.choice([54,43,69,42,5,6,7])"
   ]
  },
  {
   "cell_type": "code",
   "execution_count": 61,
   "id": "c60a6261-5ef9-4e8a-8d04-8d8634581445",
   "metadata": {},
   "outputs": [
    {
     "data": {
      "text/plain": [
       "array([3, 6, 3, 5, 4, 1, 5, 4])"
      ]
     },
     "execution_count": 61,
     "metadata": {},
     "output_type": "execute_result"
    }
   ],
   "source": [
    "np.random.choice([1,2,3,4,5,6],size = (8,))"
   ]
  },
  {
   "cell_type": "code",
   "execution_count": 80,
   "id": "44100203-9e6d-4d61-a87b-c4cee1462ecc",
   "metadata": {},
   "outputs": [
    {
     "data": {
      "text/plain": [
       "array([1, 1, 1, 1, 1, 5, 1])"
      ]
     },
     "execution_count": 80,
     "metadata": {},
     "output_type": "execute_result"
    }
   ],
   "source": [
    "np.random.choice([1,2,3,4,5,6],size = (7,), p = [0.5,0,0,0,0.5,0])"
   ]
  },
  {
   "cell_type": "code",
   "execution_count": 92,
   "id": "3b86c329-f58e-4898-9642-88b51bf74280",
   "metadata": {},
   "outputs": [],
   "source": [
    "a = np.random.choice([1,2,3,4,5,6],size = (200,), p = [0.2,0.2,0.0,0.3,0.1,0.2])"
   ]
  },
  {
   "cell_type": "code",
   "execution_count": 94,
   "id": "98e5cc06-19cf-47be-a766-01eb36e04651",
   "metadata": {},
   "outputs": [
    {
     "data": {
      "text/plain": [
       "array([5, 4, 6, 4, 1, 4, 6, 4, 1, 6, 5, 4, 4, 2, 1, 1, 1, 2, 4, 4, 2, 4,\n",
       "       5, 4, 4, 1, 2, 2, 1, 4, 2, 6, 4, 2, 2, 1, 1, 4, 2, 1, 1, 2, 1, 2,\n",
       "       1, 4, 6, 2, 6, 4, 4, 1, 4, 6, 1, 1, 2, 4, 2, 4, 4, 6, 6, 6, 6, 2,\n",
       "       2, 1, 4, 5, 1, 4, 4, 1, 4, 4, 2, 4, 2, 1, 1, 4, 6, 1, 6, 2, 6, 2,\n",
       "       6, 6, 1, 6, 2, 1, 2, 4, 6, 2, 2, 6, 2, 4, 1, 4, 4, 4, 2, 4, 4, 2,\n",
       "       2, 1, 2, 1, 2, 1, 4, 4, 5, 4, 1, 4, 1, 4, 1, 6, 4, 4, 5, 1, 2, 4,\n",
       "       2, 2, 1, 6, 4, 1, 6, 4, 5, 4, 2, 6, 6, 6, 1, 1, 2, 4, 6, 1, 2, 6,\n",
       "       4, 6, 5, 1, 4, 2, 1, 6, 4, 4, 1, 4, 4, 2, 5, 2, 1, 6, 6, 1, 6, 4,\n",
       "       1, 1, 1, 2, 4, 1, 4, 1, 6, 2, 4, 4, 1, 1, 4, 1, 5, 2, 4, 6, 2, 4,\n",
       "       4, 4])"
      ]
     },
     "execution_count": 94,
     "metadata": {},
     "output_type": "execute_result"
    }
   ],
   "source": [
    "a"
   ]
  },
  {
   "cell_type": "code",
   "execution_count": 96,
   "id": "263de359-39a8-4183-8ce3-35beab03fe49",
   "metadata": {},
   "outputs": [],
   "source": [
    "import matplotlib.pyplot as plt\n",
    "import seaborn as sns"
   ]
  },
  {
   "cell_type": "code",
   "execution_count": 98,
   "id": "37144d8c-31a7-4167-b650-b4fe865f6d87",
   "metadata": {},
   "outputs": [
    {
     "data": {
      "text/plain": [
       "<Axes: ylabel='Count'>"
      ]
     },
     "execution_count": 98,
     "metadata": {},
     "output_type": "execute_result"
    },
    {
     "data": {
      "image/png": "[encoded data removed]",
      "text/plain": [
       "<Figure size 640x480 with 1 Axes>"
      ]
     },
     "metadata": {},
     "output_type": "display_data"
    }
   ],
   "source": [
    "sns.histplot(a)"
   ]
  },
  {
   "cell_type": "code",
   "execution_count": 114,
   "id": "22736948-3f9e-4b94-a86e-2be34ca244f5",
   "metadata": {},
   "outputs": [],
   "source": [
    "b = np.random.uniform(1,10,2000)"
   ]
  },
  {
   "cell_type": "code",
   "execution_count": 116,
   "id": "dd51d958-f841-4b48-aa70-6b6259657dff",
   "metadata": {},
   "outputs": [
    {
     "data": {
      "text/plain": [
       "array([9.06070647, 2.52448852, 6.51688581, ..., 7.48300653, 5.17619601,\n",
       "       7.23048098])"
      ]
     },
     "execution_count": 116,
     "metadata": {},
     "output_type": "execute_result"
    }
   ],
   "source": [
    "b"
   ]
  },
  {
   "cell_type": "code",
   "execution_count": 118,
   "id": "94b262d6-141c-4118-92bd-f48cfcaa97c7",
   "metadata": {},
   "outputs": [
    {
     "data": {
      "text/plain": [
       "<Axes: ylabel='Count'>"
      ]
     },
     "execution_count": 118,
     "metadata": {},
     "output_type": "execute_result"
    },
    {
     "data": {
      "image/png": "[encoded data removed]",
      "text/plain": [
       "<Figure size 640x480 with 1 Axes>"
      ]
     },
     "metadata": {},
     "output_type": "display_data"
    }
   ],
   "source": [
    "sns.histplot(b)"
   ]
  },
  {
   "cell_type": "markdown",
   "id": "2162ecfd-a565-44bf-9a75-7ad61fac70d0",
   "metadata": {},
   "source": [
    "## np.random.normal(loc=mean,scale=std,size)"
   ]
  },
  {
   "cell_type": "code",
   "execution_count": 179,
   "id": "fbe02f6f-c439-41ea-887d-7b7a10ff777c",
   "metadata": {},
   "outputs": [],
   "source": [
    "x = np.random.normal(loc=10,scale=8,size=(1000))\n",
    "y = np.random.normal(loc=25,scale=2,size=(1000))"
   ]
  },
  {
   "cell_type": "code",
   "execution_count": 181,
   "id": "ba6489e3-8859-4fcd-9688-7f7f306ae7cb",
   "metadata": {},
   "outputs": [
    {
     "data": {
      "text/plain": [
       "array([ 2.01439055e+01,  1.76235715e+01,  1.71692744e+01,  9.75572662e+00,\n",
       "        1.59900433e+01,  1.10405881e+01,  1.21530798e+01, -7.58064313e-01,\n",
       "        6.11764260e+00,  7.79041316e+00,  1.83599063e+01,  7.06813417e+00,\n",
       "        4.43878245e+00,  1.25183794e+01,  2.13183659e+01,  1.00243851e+01,\n",
       "        2.69271019e+01,  2.45146172e+01,  6.91943368e+00,  2.01328381e+01,\n",
       "        1.66809869e+01,  7.06612083e+00,  1.32261496e+01,  8.90990830e+00,\n",
       "        5.30234210e-01,  6.72777707e+00,  1.47547813e+01,  6.90868437e+00,\n",
       "        1.33509877e+01,  2.11154267e+01,  9.58559195e+00,  2.05060619e+01,\n",
       "        2.35564202e+00,  2.65461989e-01,  2.58810900e+01,  4.67287985e+00,\n",
       "       -2.59745469e+00,  1.04619257e+01, -1.66315371e-01,  1.13367017e+01,\n",
       "        9.18905160e+00,  1.64261932e+01,  4.53923826e+00,  2.00950930e+00,\n",
       "        1.24321328e+01,  2.94867798e+00,  2.41147972e+01,  1.19154131e+01,\n",
       "       -7.28883410e+00,  1.21094361e+01,  9.33973341e+00, -1.34239569e+00,\n",
       "        1.60367867e+01,  5.60364559e+00,  7.80918763e+00,  1.30126038e+01,\n",
       "        1.63749202e+01,  1.48344585e+01,  1.13855933e+01,  1.15304760e+01,\n",
       "        1.48903030e+01,  1.42861906e+01,  1.89773390e+01,  1.91771356e+01,\n",
       "        1.52363026e+01, -2.80617116e+00, -9.01514098e+00,  1.99871119e+01,\n",
       "        1.00946873e+01,  1.96832943e+01, -3.42686736e+00,  2.85377437e+00,\n",
       "        1.61903199e+01,  2.65246051e+00,  5.22463394e+00,  1.43453518e+01,\n",
       "        1.70101056e+01,  6.01534158e-01,  7.34544811e+00,  1.22792249e+01,\n",
       "        5.38466877e+00,  1.11364653e+01, -1.81218966e+00,  1.37400586e+01,\n",
       "       -7.35238496e+00,  1.46998217e+01,  2.04971006e+01,  1.81093000e+01,\n",
       "        2.66155822e-01,  1.37228271e+01,  1.33198105e+01,  1.20839452e+01,\n",
       "        8.46886700e+00,  3.26165910e+00,  1.63622859e+01,  1.51221494e+01,\n",
       "        6.87741679e+00,  3.37266384e+00, -4.98913231e+00,  2.14512393e+01,\n",
       "        1.10654524e+01,  3.84012267e-01,  3.19901209e+00,  1.13674600e+01,\n",
       "        2.72267163e+01,  7.88804716e+00,  8.90325521e+00,  1.83852608e+01,\n",
       "        5.24206907e+00,  1.95861393e+01,  8.17512642e+00,  1.81412783e+01,\n",
       "        8.39339534e+00,  2.36316795e+01,  1.04820103e+01,  1.34959081e+01,\n",
       "        6.04244021e+00, -2.09360971e+00,  7.74448144e+00,  2.03953973e+01,\n",
       "        6.04789934e+00,  4.78542826e+00,  5.04894222e+00, -7.76256479e+00,\n",
       "        8.74555167e+00,  6.05601628e+00,  5.45961797e+00,  6.78347066e+00,\n",
       "        9.03962228e+00, -2.87959441e+00,  1.54278309e+01, -1.47087444e-01,\n",
       "        4.83320574e+00,  9.30828718e+00,  1.82065592e+01, -7.19127134e+00,\n",
       "        9.27588890e+00,  1.37783204e+01,  1.77642621e+01,  7.83546449e+00,\n",
       "        1.19822706e+01,  1.17712631e+01,  1.81964676e+00,  3.79762905e+00,\n",
       "        2.95915227e+00,  1.19803364e+01,  3.31679528e+00,  7.60539803e+00,\n",
       "        2.15399098e+01,  1.94469963e+01,  1.29427985e+01,  6.79453733e+00,\n",
       "        2.04370354e+01,  9.89371109e+00,  1.38009846e+01, -8.76679894e+00,\n",
       "        1.00347938e+01, -5.89169672e+00,  1.33717304e+01,  1.86850463e+01,\n",
       "        3.48209544e+00,  1.27741883e+01,  1.56330342e+01,  1.28459034e+01,\n",
       "        2.09222076e+01,  4.06817472e+00,  2.25635879e+01, -1.01328437e-01,\n",
       "        1.53742225e+01,  1.56182510e+01, -3.18937526e+00,  6.09383930e+00,\n",
       "        1.94575067e+01,  1.88961815e-01,  1.16420782e+01,  1.14770211e+00,\n",
       "        4.60649328e+00,  2.18595950e+01,  1.70931063e+01,  1.01100844e+01,\n",
       "       -1.64133125e+00,  1.74095407e+01, -1.17249328e+00,  1.07059028e+01,\n",
       "        1.81397621e+01,  8.77725188e+00,  1.48821013e+01,  1.98902036e+01,\n",
       "        5.80294523e+00,  1.09988772e+01,  1.96798965e+01,  1.27868905e+00,\n",
       "        8.54748736e+00,  6.73136289e+00,  8.79654544e+00,  1.06013002e+01,\n",
       "        3.46384679e+00,  2.59146395e+01,  1.38257506e+01, -1.03268449e+01,\n",
       "        2.13716770e+00,  1.23497364e+01,  1.08242395e+01, -2.38523393e+00,\n",
       "        6.54533405e+00,  1.36370979e+01,  2.11125892e+01,  1.42602198e+01,\n",
       "        1.48411412e+01, -3.04538158e-01,  7.83264794e+00,  3.10241271e+00,\n",
       "        1.10370414e+01,  1.41526778e+01,  1.66011403e+01,  1.98302919e+01,\n",
       "        7.17229190e+00,  1.10204066e+01,  1.56755728e+01,  2.29605240e+01,\n",
       "        1.56936909e+01,  3.02290342e+00,  1.70461645e+01,  2.70393986e+01,\n",
       "        1.57825324e+01,  7.79187310e+00,  1.45243995e+01,  2.27249534e+00,\n",
       "        3.22261724e+00,  9.38086741e+00,  4.96570113e+00,  3.54445542e+00,\n",
       "        1.77090152e+01,  1.79020184e+00,  1.31597525e+01,  1.23917374e+01,\n",
       "        8.82396029e+00,  1.47217741e+00,  1.56467045e+01,  2.21851690e+00,\n",
       "        1.26042679e+01,  1.20971860e+01,  3.74033358e+00,  6.48497309e+00,\n",
       "        1.83483988e+00,  1.14115778e+01,  1.28911408e+01,  1.74326269e+01,\n",
       "       -3.54419630e+00,  1.85862188e+01,  4.78795839e+00, -7.52022328e+00,\n",
       "        1.84616151e+01,  3.58526015e+00,  1.08520217e+00,  3.84849468e+00,\n",
       "        4.99784658e+00,  1.13429901e+01,  1.27802279e+01,  1.27392411e+01,\n",
       "        2.14980105e+01,  8.78128492e+00,  1.89164020e+01,  4.89283761e+00,\n",
       "        1.31082869e+01, -9.51064640e+00,  2.60471792e+01,  4.98660030e+00,\n",
       "        1.47909533e+00, -1.54820108e+00,  8.91292991e+00,  6.91149145e+00,\n",
       "       -6.76490400e-01,  7.91365271e-01,  2.25851642e+01,  1.54847421e+01,\n",
       "        1.65652756e+01,  1.01681123e+01,  1.15702889e+01,  1.30725244e+00,\n",
       "        1.65578640e+01,  8.68930736e+00,  7.65030995e+00,  2.30334600e+01,\n",
       "        4.19613071e+00,  2.01561014e+01,  1.23045234e+01,  1.83970643e+01,\n",
       "        1.56458129e+00,  2.58875030e+01,  1.69484486e+01,  1.10647897e+01,\n",
       "       -4.05399218e+00,  1.44352544e+01,  3.97778570e+00, -2.28862955e+00,\n",
       "        1.60166590e+01,  1.46209247e+01,  1.34883119e+01,  2.47026293e+01,\n",
       "        1.26371905e+01,  7.69634609e+00,  1.25116789e+01, -2.68906109e+00,\n",
       "        5.38775558e+00,  1.34473950e+01,  1.47005353e+01,  3.83227865e+00,\n",
       "        3.19648380e+00, -2.10563219e+00,  1.97436708e+00,  1.20337657e+01,\n",
       "        1.53526353e+01,  6.85980479e+00,  1.87730544e+01, -6.53941507e+00,\n",
       "        1.82475711e+01,  4.99206624e+00,  1.48307971e+01,  9.50417628e+00,\n",
       "        5.79407121e+00,  1.02448984e+01,  2.03449802e+01, -8.74582301e-01,\n",
       "        8.91399470e+00,  9.84595726e+00, -3.35740441e+00,  1.80746940e+01,\n",
       "        2.38092405e+01,  1.34965158e+01,  8.51156889e+00,  2.10290599e+01,\n",
       "        1.14810300e+01,  2.88140797e+00,  1.66145510e+00,  6.88698323e+00,\n",
       "       -5.91945168e+00,  2.12581941e+01,  1.36342430e+01,  9.96738293e+00,\n",
       "        1.52618589e+01,  9.54299149e+00, -9.90927291e+00,  1.83567808e+01,\n",
       "        1.37540600e+01,  1.90918074e+01,  1.29600601e+01,  2.38769999e+01,\n",
       "       -3.37669857e+00,  1.21701083e+01,  1.58679380e+01,  1.03300815e+01,\n",
       "        1.67883168e+01,  1.41169296e+01, -6.57491444e-01,  1.43346392e+01,\n",
       "       -1.26883227e+00,  9.83099905e+00,  2.31912155e+00,  1.61586560e+01,\n",
       "        2.55061700e+01,  1.40233527e+01, -2.20506643e+00,  1.93781884e+01,\n",
       "        2.11603155e+01,  1.38469268e+01,  3.19512684e+00, -9.84394864e+00,\n",
       "        1.42217514e+01,  1.39297680e+01,  1.26185073e+01,  2.78686712e+01,\n",
       "       -2.36418137e+00,  1.21118761e+01,  3.02928519e+00,  5.15894183e+00,\n",
       "        9.13983195e+00,  2.16788530e+01, -6.23515109e+00,  6.75292644e+00,\n",
       "        7.72106794e+00,  1.35425421e+00,  9.64763393e+00,  1.33357993e+01,\n",
       "        2.88104363e+00,  1.04454601e+01,  2.27803104e+01,  2.36741256e+00,\n",
       "        2.19210292e+01,  1.74930363e+01,  5.77035493e+00,  2.23601027e+01,\n",
       "        2.80638471e+01,  1.45776339e+00,  6.03778586e+00,  1.53725155e+01,\n",
       "        8.07960144e-01, -1.12127722e+01, -2.56865962e+00,  3.59972284e+00,\n",
       "        1.04254118e+01,  9.97123421e+00, -5.47612557e+00,  2.02860580e+01,\n",
       "        1.82753091e+01,  1.25328395e+01,  9.68274651e+00,  5.88139518e+00,\n",
       "        7.90296957e+00,  2.03258221e+01,  5.99378423e+00,  3.34262130e+00,\n",
       "        6.77661883e+00, -1.68458497e+00,  1.53631630e+01,  1.16821231e+01,\n",
       "        1.12854574e+00,  4.93082126e+00,  7.35142272e+00,  1.38172813e+01,\n",
       "        6.21254192e+00,  1.67672061e+00, -4.05258638e+00,  7.99437024e+00,\n",
       "        1.04272851e+01,  1.76102715e+01,  1.19415666e+01,  1.16847439e+01,\n",
       "       -1.37182066e+00,  1.17755492e+01,  1.08206058e+01,  2.73610456e+01,\n",
       "        1.73332070e+01,  4.90076182e+00,  1.47453735e+01,  6.82082229e+00,\n",
       "        2.00150367e+01,  1.09234848e+01,  1.28191856e+01,  5.88920625e+00,\n",
       "        2.55048322e+00,  1.66364102e+01,  1.96077212e+01,  8.72398811e+00,\n",
       "        1.11636568e+01, -1.02282405e+00,  1.94905704e+01,  1.14373830e+01,\n",
       "        1.77477124e+01, -5.59949191e+00,  1.21430276e+01,  1.12890414e+01,\n",
       "        4.41619186e-01,  5.58490582e+00,  1.13750172e+01,  7.58453989e+00,\n",
       "        6.49290392e+00, -2.40194499e-01,  1.45017029e+01,  1.20937998e+01,\n",
       "        1.61252102e+01,  1.39621866e+01,  4.78811269e+00,  1.60060771e+00,\n",
       "        1.61728273e+00,  2.99150432e+00,  1.32037288e+01,  2.31909706e+01,\n",
       "        8.71344866e+00,  8.91330174e+00,  5.39528290e+00,  1.52295875e+01,\n",
       "        2.22195366e+01,  1.22496293e+01, -2.15414655e+00,  1.68766781e+01,\n",
       "        7.62685444e+00,  2.72236724e+01,  7.65458747e+00,  8.78660680e+00,\n",
       "        4.31707087e+00,  1.81284373e+01,  1.10707764e+01,  1.72775426e+00,\n",
       "        4.87930348e+00,  6.09829613e+00,  1.77164439e+01,  6.86373555e-02,\n",
       "        1.96600756e+01,  2.19010038e+01,  1.06481236e+01,  1.34154667e+01,\n",
       "        7.06663035e+00,  1.02253026e+01,  2.07218293e+01,  1.35233390e+01,\n",
       "        1.48184810e+01,  1.40838906e+01,  5.26755429e+00,  1.97291555e+01,\n",
       "        2.01983710e+01,  3.38895768e+00,  1.13086618e+01,  2.12122414e+01,\n",
       "        4.69800524e-01,  2.15342445e+01,  1.09736450e+00,  8.74485485e+00,\n",
       "        1.36209182e+00,  2.70556056e+01,  1.64639994e+01,  3.92090375e+00,\n",
       "        1.52057828e+01,  1.17746130e+01,  1.01423608e+00,  1.50894548e+01,\n",
       "        2.57853014e+01,  1.61971561e+00,  1.08844726e+01,  1.46823874e+01,\n",
       "        1.46539326e+01,  5.38620579e+00,  7.04227055e+00,  1.59758435e+01,\n",
       "        5.20298450e-01,  1.76169873e+01,  5.97385347e+00,  1.77838071e+01,\n",
       "        1.89051922e+01,  1.47458513e+01,  3.72865794e+00,  2.21086790e+01,\n",
       "        1.50298410e+01,  1.14547026e+01,  1.04110298e+01,  1.78101627e+01,\n",
       "        2.03058256e+01,  3.84146192e+00,  2.29949639e+01,  6.73101566e+00,\n",
       "        8.88344805e+00, -2.06150836e+00,  1.74466053e-01,  8.78402586e+00,\n",
       "        4.26416266e+00,  4.55836004e+00,  1.89786774e+00,  8.65066239e+00,\n",
       "        2.05741323e+01,  2.18340220e+01,  1.21165414e+01,  8.82877728e+00,\n",
       "        9.90211769e+00,  1.29669152e+01,  2.39212969e+01,  1.02712066e+01,\n",
       "        1.77685898e+01,  9.95240755e+00,  8.12385499e+00,  1.28899151e+01,\n",
       "        6.82034462e+00,  8.91751413e+00,  1.09381249e+01,  1.76599501e+01,\n",
       "        1.59769309e+01,  1.22997809e+01,  4.44538373e+00,  1.71880570e+01,\n",
       "        1.95067540e+01,  2.13465364e+01,  8.75793730e+00,  1.65524798e+01,\n",
       "        7.70478863e+00,  6.41658653e+00,  6.32418874e+00,  4.07921884e+00,\n",
       "        1.81494685e+01, -1.75893107e+00, -1.38499002e+00,  6.86594364e+00,\n",
       "        1.75527390e+01, -6.32782583e+00,  4.21674480e+00,  7.31816993e-01,\n",
       "        7.10414397e+00,  6.75283569e+00,  2.52238085e+01,  1.08142341e+01,\n",
       "        2.26115811e+01,  9.09061887e+00,  1.53230518e+01,  5.95354372e+00,\n",
       "        7.40517099e+00, -5.43621161e-01,  2.82791474e+01,  1.72299252e+01,\n",
       "        6.99853936e+00,  1.10084360e+00,  1.87317569e+01, -3.90588708e+00,\n",
       "        2.08050599e+01,  2.81903521e+00,  1.35973154e+01, -6.59826092e-01,\n",
       "        2.73313878e+01,  1.51282775e+01,  2.51487372e+00, -1.10495600e+01,\n",
       "        1.25841872e+01,  1.41895300e+01, -1.24560212e+00,  1.50615630e+01,\n",
       "       -8.05619760e-01,  2.70392511e+01,  1.42371500e+01, -5.68842057e+00,\n",
       "        1.67003877e+01,  6.09722795e+00,  1.26339675e+01,  4.58405346e+00,\n",
       "        1.23943906e+01,  2.51735155e+01,  1.11407098e+01,  3.68239489e+00,\n",
       "        4.33820505e+00,  5.55384910e+00,  2.81797877e+01,  9.82464709e-01,\n",
       "        7.60805071e+00,  4.14775143e+00,  6.30164739e+00,  1.01909265e+01,\n",
       "        1.69781537e+01,  1.14960769e+01,  1.55874569e+01,  8.59829212e-01,\n",
       "        3.44211041e+00,  1.29387890e+01,  7.40840370e+00,  1.22378217e+01,\n",
       "        1.36796358e+01,  2.32285421e+01,  1.11458374e+01,  9.29904076e+00,\n",
       "        8.52691071e+00,  1.18713754e+01,  1.17473183e+01,  1.12120811e+01,\n",
       "        1.01938267e+01,  2.19006076e+01,  1.03143051e+01,  1.01802945e+01,\n",
       "        1.38937045e+01,  2.27355971e+01,  1.29204809e+01,  1.45300850e+01,\n",
       "        2.30668194e+01,  1.20659458e+01,  2.51446951e+01,  1.95516727e+01,\n",
       "        3.36739688e+00,  1.20138423e+01,  1.51554714e+01,  1.01809244e+01,\n",
       "        1.62840011e+00,  3.51480052e-01,  6.98883212e+00,  1.50035471e+01,\n",
       "        1.17186779e+01,  1.07366732e+00,  1.77214751e-01,  1.03446529e+01,\n",
       "        1.04787646e+01,  6.51963019e+00,  1.34316777e+01,  9.94050223e+00,\n",
       "        8.76409290e+00,  2.03320431e+01,  2.31707549e+01,  9.47489825e+00,\n",
       "        1.91481562e+00,  5.94423702e+00,  1.30083220e+01,  3.44388253e+00,\n",
       "        1.93346004e+01,  1.41867993e+01,  7.25085985e+00,  1.38798935e+01,\n",
       "        5.05215293e+00,  8.35952019e+00,  9.13138859e-01,  4.16867154e+00,\n",
       "        1.73469029e+01,  6.61780065e+00,  5.63533059e+00,  1.10186091e+00,\n",
       "        2.47944014e+00,  7.90269252e+00,  1.58177766e+01,  1.22625678e+01,\n",
       "        1.83768343e+00,  8.81701065e+00,  7.65744176e+00,  9.37747443e+00,\n",
       "        1.48042873e+01,  7.46802816e+00,  9.29385560e+00,  4.03919057e-01,\n",
       "        3.70412476e+00,  1.70996407e+01,  1.68880685e+01,  6.93373278e+00,\n",
       "        7.21904610e+00,  6.92401868e+00,  1.56426556e+01,  1.51818212e+01,\n",
       "        9.27772183e+00,  1.11212651e+01,  2.10494965e+01,  2.38036571e+01,\n",
       "        1.40981768e+01, -2.75687711e+00,  3.07604764e+00,  1.35379087e+01,\n",
       "       -5.28007141e-01,  1.63860494e+01,  2.08041584e+01,  9.00612168e+00,\n",
       "        4.27620374e+00, -5.49366764e+00, -4.78869116e+00,  7.15491460e+00,\n",
       "       -2.35637689e+00,  4.85082644e+00,  6.92849594e+00,  1.83939025e+00,\n",
       "        6.98481232e-01, -8.64091768e+00,  3.29428305e+01,  2.15159991e+01,\n",
       "        2.65293647e+00, -5.92645517e+00,  9.55519560e+00, -1.77240857e+00,\n",
       "        6.18518296e-01,  4.46089713e-01,  1.61279374e+01,  1.10847278e+01,\n",
       "        2.64433591e+00,  1.00465078e+01,  5.44693435e+00, -2.11529423e+00,\n",
       "        1.47138393e+00, -4.93240029e-01,  9.88781290e+00,  2.48248032e+01,\n",
       "        1.12417173e+01,  8.40963416e+00, -2.24587918e+00,  2.52674692e+01,\n",
       "        9.16194668e+00,  2.58488428e+01,  1.43860022e+01,  9.04861428e+00,\n",
       "        1.00424425e+01,  1.14501510e+01,  9.85367921e+00, -7.20276540e+00,\n",
       "        1.26258566e+01,  8.13161199e-01,  1.33316953e+01,  4.68557004e+00,\n",
       "        5.86458309e+00,  5.55495506e+00,  2.29218958e+01,  1.09022627e+01,\n",
       "        6.74222261e+00,  7.98837502e+00,  9.48949437e+00,  2.31043065e+01,\n",
       "       -7.68935217e+00,  9.62136256e+00,  2.02254154e+01,  3.03047458e+00,\n",
       "        6.33856289e+00,  8.85339366e+00,  1.21940871e+01, -6.07194154e+00,\n",
       "        1.60101595e+01, -1.34141371e+00,  3.34593393e+00,  9.41215221e+00,\n",
       "        1.63593939e+01,  8.95578743e+00,  4.81222647e+00,  4.20972086e+00,\n",
       "       -8.48670051e+00,  1.67000608e+01,  1.46856901e+01,  6.17350190e+00,\n",
       "        5.39615381e+00,  2.96898567e+00,  1.27684208e+01,  7.89433970e+00,\n",
       "        1.55884494e+01,  2.83407158e-01,  1.15343413e+01,  6.30421867e-01,\n",
       "        2.13772488e+01,  1.22553158e+01,  2.12575113e+01, -3.94172652e+00,\n",
       "        2.11462923e+01,  1.15088392e+01,  3.40447378e+00,  3.14519423e-01,\n",
       "        1.20449681e+01,  4.61175155e+00,  1.58088279e+01,  7.91145258e+00,\n",
       "       -4.22482006e+00,  3.28865522e-01,  1.56417861e+01,  3.62280656e+00,\n",
       "        1.64146811e+01,  1.00537963e+01,  1.38779185e+01,  3.51836853e+00,\n",
       "        2.18476388e+01,  1.75824813e+01,  1.53074483e+01,  5.68229100e+00,\n",
       "        2.09284981e+01,  5.10053992e+00,  6.20525038e+00,  2.16902022e+01,\n",
       "        1.69842611e+00,  1.72275298e+01,  2.06024238e+01,  1.51178739e+01,\n",
       "        9.20582401e+00,  1.48021486e+01,  8.58554238e+00,  1.27844756e+01,\n",
       "        1.19466191e+01,  2.31988878e+01, -1.89422498e+00,  2.75873983e+01,\n",
       "        1.22066810e+01,  9.39864344e+00,  2.38342927e+01,  9.30965385e+00,\n",
       "        5.67424164e+00,  2.20398483e+01,  1.00444684e+01,  1.99963704e+00,\n",
       "        1.10945342e+01,  1.21901946e+01,  1.25439103e+01,  7.57642905e+00,\n",
       "        4.09385722e+00,  2.59643165e+00,  3.80113059e+00, -5.53550703e+00,\n",
       "        1.02307005e+00,  1.59659768e+01,  1.27608584e+01,  2.06317320e+01,\n",
       "        8.04071525e+00,  2.16528353e+01,  7.11162638e+00,  2.52944863e+00,\n",
       "        3.02542360e+00,  6.17193220e+00, -2.40401970e+00,  2.54758151e+01,\n",
       "        9.69613328e+00,  2.66727262e+00,  1.71873169e+01,  2.23105146e+01,\n",
       "        1.29177535e+01, -2.87092618e+00,  8.67381044e+00,  1.68580918e+01,\n",
       "        1.84475315e+00,  1.85648035e+01,  3.68283821e+00,  3.05471913e+00,\n",
       "        1.38370201e+01,  1.46376919e+01,  3.23923981e+00,  2.41955009e+01,\n",
       "        8.96007619e+00,  8.07608573e-01,  3.41351264e+00,  1.42676060e+01,\n",
       "        1.48282158e+00,  4.94967200e+00, -5.04057452e+00,  1.25871267e+01,\n",
       "        5.61230063e+00, -2.31167030e+00,  6.20138985e+00,  9.91504125e+00,\n",
       "        1.85163392e+01,  2.20403297e+01,  4.44233781e+00,  7.20954117e-01,\n",
       "        2.24791226e+00,  3.30189447e+00,  2.27299512e+01,  8.19748477e+00,\n",
       "        6.68016664e+00,  8.75031731e+00,  1.27887442e+01, -2.71305756e+00,\n",
       "        1.92128395e+01,  1.18601128e+01,  1.41496036e+01,  1.74043751e+01,\n",
       "        6.50898760e+00,  9.17670190e+00,  3.70597468e+00,  1.51917794e+01,\n",
       "        1.00998564e+01,  1.83155238e+01,  8.49679431e+00,  2.04632347e+01,\n",
       "        1.08309738e+01,  1.32787023e+01, -4.52422287e+00,  9.14610336e+00,\n",
       "        5.46328240e+00,  1.09404973e+01, -3.56911224e+00,  4.53442697e+00,\n",
       "        1.42517251e+01,  5.22805905e+00,  1.02134526e+00,  1.61795293e+01,\n",
       "        1.86424603e+01,  2.02001444e+01,  1.73973429e+01,  7.45297203e+00,\n",
       "        6.15327787e+00,  2.22581832e+01,  2.21672419e+01,  1.54781793e+01,\n",
       "        1.53291189e+01, -1.17351654e+00,  9.22848147e+00,  2.19665423e+01,\n",
       "        1.19564483e+01,  1.09953556e+01,  1.41871916e+01,  2.53436210e+01,\n",
       "        9.38935115e+00,  1.06132057e+01,  1.35863546e+01,  8.50117212e+00,\n",
       "        7.70095257e+00,  2.66865925e+01,  7.58071370e+00, -2.06913262e+00,\n",
       "        6.63418262e+00,  2.88593049e+01,  1.56146390e+01,  2.35278707e+01,\n",
       "        1.80449750e+01,  2.24338071e+01,  2.00314560e+00,  3.83117387e+00,\n",
       "        8.49688331e+00,  1.40521849e+01,  1.94243763e-02,  8.48978487e+00,\n",
       "        1.20443132e+01,  2.65870946e+01,  6.44621795e+00,  6.82214634e+00,\n",
       "        1.32791899e+01,  6.43634167e+00,  1.74962154e+01,  7.92101148e+00,\n",
       "        1.21271163e+01,  1.71776578e+01,  7.10655753e+00,  3.05242692e+01,\n",
       "        4.43425470e+00,  6.07727748e+00,  1.02988967e+01,  3.25769747e+00,\n",
       "        1.67235357e+01,  5.81884469e+00,  5.41816224e+00, -1.17180853e+00,\n",
       "        1.21523549e+00,  2.23508511e+01,  6.45019517e+00,  2.19666556e+01])"
      ]
     },
     "execution_count": 181,
     "metadata": {},
     "output_type": "execute_result"
    }
   ],
   "source": [
    "x"
   ]
  },
  {
   "cell_type": "code",
   "execution_count": 183,
   "id": "e21e6771-ac24-47a4-9246-26f125595564",
   "metadata": {},
   "outputs": [
    {
     "data": {
      "text/plain": [
       "array([24.03303431, 26.28238239, 21.68467851, 26.65590257, 24.45329838,\n",
       "       24.74499639, 24.13509954, 28.04909089, 25.10449801, 24.24818332,\n",
       "       23.95250966, 27.35342219, 23.93041316, 26.1171617 , 24.55802232,\n",
       "       21.91669152, 23.13716134, 27.58833238, 25.36102348, 25.48705503,\n",
       "       25.86067155, 22.18050774, 24.31269083, 24.3302483 , 24.97901106,\n",
       "       24.71744991, 28.55582397, 25.41473399, 28.02919061, 25.77901276,\n",
       "       25.4170952 , 27.01558003, 21.84719794, 23.68477146, 25.45236826,\n",
       "       23.68149372, 26.32506489, 22.5406322 , 27.78323545, 23.55118142,\n",
       "       25.99468117, 24.86446132, 23.13240875, 24.92217004, 25.01379674,\n",
       "       24.95877325, 25.35457125, 26.92090264, 23.91537535, 25.43529864,\n",
       "       25.92060889, 26.02162701, 22.6092198 , 25.58381378, 23.72460161,\n",
       "       22.09819147, 25.71518599, 22.62245618, 24.03845192, 29.45607862,\n",
       "       23.55758355, 25.80140849, 25.10159836, 27.18395745, 25.92021319,\n",
       "       28.24985563, 21.039135  , 23.86083195, 27.31130154, 26.80899511,\n",
       "       27.73413147, 25.66160366, 28.829951  , 22.8435205 , 23.7351008 ,\n",
       "       23.70799729, 26.16991514, 24.87957232, 25.05928303, 23.19268053,\n",
       "       22.3423943 , 29.96608975, 28.30690641, 27.57583404, 23.66449407,\n",
       "       25.48463668, 23.89315423, 22.41866762, 26.05773931, 27.24422301,\n",
       "       20.74420048, 22.85165516, 25.05228669, 22.966078  , 28.35711493,\n",
       "       25.05385144, 30.35928539, 22.90377945, 23.38388242, 23.61524461,\n",
       "       23.84007732, 28.24125564, 27.4034024 , 26.31584621, 22.77549732,\n",
       "       23.67606661, 26.02548716, 25.52357028, 26.36517594, 28.2453261 ,\n",
       "       27.15889886, 24.86912569, 27.02331036, 24.32963419, 26.68924644,\n",
       "       23.20429905, 23.76517456, 23.82889825, 23.07162701, 24.16064723,\n",
       "       25.45216657, 20.93944678, 23.48673361, 25.65031044, 25.29869655,\n",
       "       24.65128694, 23.64538834, 25.83707544, 26.41098561, 25.75568355,\n",
       "       24.6885812 , 27.33608999, 26.76038751, 23.77037116, 29.52688618,\n",
       "       27.75150068, 24.96208307, 24.15599388, 25.51312257, 24.38907577,\n",
       "       24.62367106, 25.70011116, 25.20062716, 24.67726768, 22.81067529,\n",
       "       23.63721606, 25.29122664, 23.30307427, 24.36514322, 22.91580709,\n",
       "       24.3949008 , 25.90766975, 26.68534105, 22.6247728 , 23.02249889,\n",
       "       22.03846696, 26.13833624, 25.47569606, 22.49493919, 26.65169345,\n",
       "       27.94090893, 25.40477946, 22.60508618, 25.93780409, 27.05644058,\n",
       "       21.89077889, 28.91860313, 25.3414305 , 24.23409911, 24.93556203,\n",
       "       25.94238144, 25.5726849 , 25.61812382, 25.98041252, 27.0609438 ,\n",
       "       26.10550976, 27.89744388, 24.32003096, 23.20493578, 25.05175466,\n",
       "       24.67372168, 22.67633569, 28.63978961, 21.82874436, 22.12442516,\n",
       "       26.78222231, 29.46088308, 24.87409021, 23.73650058, 24.29918998,\n",
       "       24.91498043, 25.50378174, 25.30133349, 23.94591414, 27.45387042,\n",
       "       23.46502221, 26.18071656, 22.05455341, 23.66775477, 21.16584973,\n",
       "       22.63436324, 24.97345727, 22.32207705, 25.61139134, 29.11180672,\n",
       "       24.29058115, 25.28269321, 25.73329993, 24.59740018, 20.58755393,\n",
       "       22.07296849, 25.42256047, 22.42305879, 27.20903389, 24.65941899,\n",
       "       28.36832869, 27.00919113, 25.97310893, 25.60514772, 20.81450109,\n",
       "       21.87739221, 25.44302008, 25.06710418, 25.21129324, 24.89759972,\n",
       "       25.9157414 , 24.52982887, 22.15737285, 24.43958972, 20.84971515,\n",
       "       26.40646327, 25.33015487, 25.91271682, 25.09425816, 27.93759853,\n",
       "       21.78684741, 24.72285814, 27.13040772, 25.45758004, 26.84413674,\n",
       "       20.92085563, 26.19916102, 25.22045906, 24.32874887, 27.84771872,\n",
       "       18.99585804, 26.72077029, 26.49870222, 25.58252534, 25.92475941,\n",
       "       25.09812522, 25.46489873, 25.38542593, 22.35704417, 26.26275554,\n",
       "       23.58054388, 22.87350328, 25.24035093, 26.48912931, 26.72363605,\n",
       "       29.55486612, 28.75735214, 24.46850986, 23.9689868 , 26.08431123,\n",
       "       29.21004072, 21.96797212, 26.00991527, 27.96279093, 23.2836882 ,\n",
       "       26.97073048, 26.63875617, 27.36605164, 30.06973101, 25.6546989 ,\n",
       "       25.48383474, 22.61882938, 26.04897214, 21.83455116, 24.03383651,\n",
       "       26.10639378, 24.93985272, 25.59999482, 20.48626622, 23.08932278,\n",
       "       24.0718335 , 26.94361317, 21.01523306, 23.64809391, 23.5830358 ,\n",
       "       23.58263223, 25.66948501, 24.4333847 , 24.81481817, 23.44287808,\n",
       "       21.05380061, 24.1041158 , 22.23525107, 25.60568507, 29.17557233,\n",
       "       27.97293716, 24.52093006, 21.92157385, 25.66677916, 25.41399059,\n",
       "       25.39774193, 23.82309675, 23.92474966, 27.75792367, 22.3868089 ,\n",
       "       23.96272156, 21.26295331, 26.48711657, 24.97914637, 19.99129317,\n",
       "       22.70539959, 23.77355285, 26.53205453, 24.67807852, 28.95092753,\n",
       "       27.57487844, 26.35208322, 24.10731742, 29.43568919, 22.95079125,\n",
       "       22.13302296, 28.65803857, 25.42792673, 21.1093638 , 24.45490807,\n",
       "       22.02461473, 23.79580516, 24.53339236, 27.16080569, 24.46760339,\n",
       "       26.11970778, 26.69050297, 24.33574861, 27.54711189, 26.62388439,\n",
       "       25.24618756, 25.06593019, 25.83340866, 26.51732499, 25.13838209,\n",
       "       21.39053828, 25.92582099, 24.23078029, 25.06930907, 27.43263657,\n",
       "       25.67422647, 25.4587638 , 24.86059793, 25.8989415 , 25.76284059,\n",
       "       26.92918687, 24.25960194, 25.52625541, 25.87112431, 26.86087982,\n",
       "       23.12409096, 23.05930142, 27.10154871, 25.49254639, 26.5940565 ,\n",
       "       24.23158686, 24.0191326 , 23.30939631, 26.8189651 , 26.96782812,\n",
       "       28.52220839, 22.19131329, 24.42850458, 24.42134328, 23.31868962,\n",
       "       24.7330086 , 24.16197308, 23.40158094, 24.64173812, 26.55875602,\n",
       "       24.33959427, 25.43416614, 23.66208107, 24.58862313, 25.78457283,\n",
       "       24.92250358, 25.13542192, 25.10415035, 24.4137924 , 21.88956296,\n",
       "       25.95352522, 24.62206475, 30.13479851, 24.84457881, 24.08701801,\n",
       "       23.45586166, 23.31797529, 24.66114051, 29.45783226, 25.59016203,\n",
       "       25.73054195, 22.05456669, 24.74674753, 25.4976268 , 27.00569243,\n",
       "       25.45331287, 24.13237182, 24.30228915, 22.15585788, 26.68708969,\n",
       "       24.4179114 , 24.87704308, 26.83195685, 27.50767831, 24.65850218,\n",
       "       26.10621961, 23.81270466, 25.19817546, 24.99594522, 23.26022615,\n",
       "       27.07308183, 27.07823068, 25.30763783, 26.36332801, 27.19497938,\n",
       "       25.59375263, 26.65226558, 26.55700325, 24.54502319, 25.90328348,\n",
       "       27.94838017, 25.41199174, 24.3438993 , 25.93153008, 24.34680111,\n",
       "       27.56623381, 24.39640875, 28.00961753, 24.53010793, 21.80239936,\n",
       "       23.41632884, 28.11656204, 27.05927602, 26.7378732 , 25.97315031,\n",
       "       23.52795855, 26.67908946, 24.73322096, 27.0181058 , 25.78141428,\n",
       "       24.24294658, 31.2901221 , 26.98640507, 22.73168986, 25.80698815,\n",
       "       25.921031  , 23.87222389, 23.20310063, 27.38853183, 22.72252643,\n",
       "       23.01291464, 26.4705296 , 24.60453448, 27.39338212, 23.66191424,\n",
       "       25.06243356, 26.7955063 , 24.23411479, 26.90033357, 24.30799943,\n",
       "       23.02291075, 25.92641856, 23.86356609, 24.21548482, 23.95423818,\n",
       "       24.78175034, 28.16407904, 23.48319327, 23.45238829, 24.69233037,\n",
       "       21.85021772, 23.69802932, 26.27149715, 27.43168202, 26.88565425,\n",
       "       25.92997087, 20.18679814, 27.77869527, 24.66533868, 26.13846849,\n",
       "       24.87085401, 24.65437667, 23.31329791, 21.33554112, 27.84152873,\n",
       "       28.53658157, 25.45151716, 22.66665745, 22.66502292, 28.91244425,\n",
       "       21.74420544, 22.95557203, 25.89201841, 25.08919581, 24.64844538,\n",
       "       27.83481727, 25.13470291, 25.77055039, 26.15836637, 26.51690268,\n",
       "       25.01772665, 23.66398322, 26.53487121, 24.13782114, 25.97676428,\n",
       "       25.97947323, 22.71331721, 24.52925136, 23.91696101, 26.49015601,\n",
       "       26.48725078, 24.59436712, 23.43386224, 27.06674239, 22.95155959,\n",
       "       24.60939992, 25.89970587, 23.47581551, 29.4008391 , 23.11723977,\n",
       "       25.46358197, 24.70119207, 24.21245454, 27.47034942, 21.93641658,\n",
       "       26.76774715, 25.32673535, 28.75261605, 22.39709349, 25.6675889 ,\n",
       "       22.65539023, 23.86900639, 26.92385939, 24.82824664, 25.20272552,\n",
       "       28.66002171, 24.62838349, 24.83626912, 24.25838876, 24.7601395 ,\n",
       "       26.22015269, 23.75786101, 23.74389732, 28.05025215, 25.80754486,\n",
       "       25.90557511, 22.52274819, 25.94273246, 21.90512334, 25.68221685,\n",
       "       25.71777081, 24.83266092, 25.78863547, 22.30704939, 24.57708449,\n",
       "       26.12092292, 22.63067306, 25.60859448, 23.10670969, 22.05034364,\n",
       "       26.42621527, 25.5693255 , 26.19664585, 27.65432632, 23.4516368 ,\n",
       "       22.02034776, 30.44011141, 23.45745149, 25.98981668, 28.35062747,\n",
       "       25.50401209, 22.9811418 , 25.64575082, 28.05815169, 23.41656367,\n",
       "       24.40785503, 26.61186161, 23.23881571, 24.07551177, 23.41764054,\n",
       "       23.22686517, 22.30474596, 26.25908721, 21.45422359, 26.9241955 ,\n",
       "       26.99152459, 27.51862063, 22.62909216, 27.54913668, 25.29394474,\n",
       "       25.68534009, 26.7966195 , 23.83376461, 25.03315466, 23.75241815,\n",
       "       26.35281977, 20.97595944, 24.02248652, 26.22346071, 23.48061242,\n",
       "       25.33070473, 24.09518965, 25.28913499, 25.11671656, 25.97253027,\n",
       "       25.10746922, 26.29756588, 23.94029358, 25.87918776, 22.04088354,\n",
       "       23.01501038, 25.98354708, 20.65468697, 25.80345638, 22.41228061,\n",
       "       25.46515038, 25.81169499, 26.38583762, 23.99247949, 23.03238262,\n",
       "       24.68276493, 25.75044109, 25.93771979, 27.72996698, 22.57876876,\n",
       "       23.47271748, 25.1526724 , 21.1477226 , 28.40101417, 25.43272304,\n",
       "       29.07488815, 22.74587125, 25.44570323, 25.74118754, 22.64730144,\n",
       "       29.37320328, 24.20924916, 21.10776638, 23.84422071, 27.33249182,\n",
       "       23.27068697, 23.25630765, 25.90952792, 24.78452136, 26.88224476,\n",
       "       28.37645304, 27.03011388, 29.35199112, 28.16371166, 22.0115055 ,\n",
       "       25.61527077, 23.31862533, 22.39149145, 22.49437557, 21.9071757 ,\n",
       "       24.73475536, 26.67766085, 26.14820222, 27.76911301, 23.94001116,\n",
       "       23.03418672, 25.13139937, 25.39763802, 24.67763844, 24.86420808,\n",
       "       24.6490417 , 25.5121722 , 24.21475314, 27.48113547, 24.53653001,\n",
       "       23.64156423, 25.5969573 , 25.91656648, 26.7697005 , 25.81492136,\n",
       "       25.05746038, 23.17994459, 24.09215104, 27.31607742, 26.07967922,\n",
       "       26.2336953 , 23.86802379, 24.20932779, 24.43211581, 25.38901538,\n",
       "       25.47105487, 24.21260412, 19.8292104 , 19.30579977, 25.36588486,\n",
       "       24.99681587, 23.88467994, 23.34899172, 24.75101273, 24.45450296,\n",
       "       23.00744903, 27.30255896, 25.31809623, 24.44264587, 27.66659529,\n",
       "       23.53988991, 25.71007672, 26.51444594, 25.52334465, 26.42321178,\n",
       "       23.00387368, 21.06936207, 23.1952483 , 26.71562941, 26.95854892,\n",
       "       22.18098156, 25.18477655, 26.737436  , 26.58256258, 25.58050524,\n",
       "       27.01865291, 25.83617268, 28.47576261, 25.67511259, 23.73725112,\n",
       "       24.77216102, 24.51950443, 23.23470626, 24.04578833, 25.34365232,\n",
       "       23.4552397 , 22.69514957, 23.55132041, 24.71570869, 24.0461966 ,\n",
       "       24.984544  , 25.8276675 , 26.62103114, 25.3037897 , 25.50251581,\n",
       "       23.75905834, 24.41947245, 24.63927572, 27.92165545, 25.79835531,\n",
       "       23.59740591, 25.56035883, 23.40664489, 23.76379511, 23.47966551,\n",
       "       28.26470435, 26.25575477, 23.84966221, 28.35705837, 28.85893097,\n",
       "       27.97683361, 24.30431091, 25.71873494, 25.60158532, 20.71259595,\n",
       "       26.12131438, 24.78374688, 21.97711017, 22.8920993 , 22.97323099,\n",
       "       24.38129034, 26.43423013, 23.70328258, 27.42377213, 24.91975547,\n",
       "       23.51311052, 26.21695515, 27.89922123, 24.50688019, 24.06103315,\n",
       "       28.71587738, 28.98269413, 23.1976494 , 24.13360902, 27.8701558 ,\n",
       "       28.21764559, 28.35714642, 22.55356575, 24.53066694, 22.2296896 ,\n",
       "       22.11723653, 24.96974815, 21.92832603, 24.85298514, 22.69569039,\n",
       "       25.30893396, 25.26467353, 25.39877705, 26.57527032, 26.80368981,\n",
       "       21.78839919, 24.30903437, 26.46588852, 20.77685859, 28.66789111,\n",
       "       21.55231475, 24.09447049, 23.38031128, 23.97735874, 23.27750647,\n",
       "       28.82359707, 25.04281926, 22.32748543, 23.10396591, 24.55115945,\n",
       "       25.78135662, 27.61030424, 25.65221897, 25.1541487 , 24.44683301,\n",
       "       28.7291462 , 25.5755026 , 25.52623496, 26.78271311, 25.42905422,\n",
       "       28.42663004, 23.54852333, 27.34755947, 25.61972421, 23.81712905,\n",
       "       27.70823374, 25.55084673, 23.67245494, 24.99735212, 22.41812233,\n",
       "       25.95568867, 25.22519533, 23.63122994, 25.24980105, 26.28046351,\n",
       "       27.07043066, 23.63582336, 22.83066813, 25.26025081, 22.46829498,\n",
       "       23.78395724, 26.2436213 , 25.81701961, 23.11646976, 25.08256744,\n",
       "       24.024036  , 25.45899338, 22.7496716 , 26.42023068, 27.50533446,\n",
       "       24.86939955, 25.74248742, 26.21965046, 23.7675849 , 22.64130523,\n",
       "       23.96177653, 24.50142765, 26.17510813, 23.12321708, 25.62016927,\n",
       "       23.42875422, 21.69092084, 28.8865847 , 24.48750781, 24.35240904,\n",
       "       28.22990734, 23.43116339, 25.76495831, 24.60169124, 24.59048074,\n",
       "       19.95875953, 24.61759301, 22.74048242, 25.41143692, 22.97630282,\n",
       "       25.95994452, 23.7735793 , 27.2681618 , 20.09102729, 23.71863092,\n",
       "       23.42241427, 26.85220385, 26.19205866, 24.38643838, 25.02132586,\n",
       "       28.2635953 , 25.68341393, 27.06402339, 26.35886446, 24.22675495,\n",
       "       23.1699082 , 26.08698938, 22.26692208, 23.29271573, 26.6220571 ,\n",
       "       22.45067386, 26.70008104, 26.27087009, 24.02299589, 23.21099979,\n",
       "       19.52511845, 27.33476013, 25.08172465, 29.45269529, 24.38921725,\n",
       "       23.01701691, 23.6874407 , 25.31487648, 22.59367886, 23.75705418,\n",
       "       27.93046932, 28.8687609 , 28.05019423, 27.33452573, 26.18582348,\n",
       "       23.96240758, 25.21674982, 28.28273169, 28.3567616 , 24.28701194,\n",
       "       28.09614074, 25.94895676, 28.36303923, 23.33081037, 26.09924194,\n",
       "       27.49552899, 25.23089999, 20.9331954 , 22.2784952 , 24.8656402 ,\n",
       "       22.79162102, 24.76022038, 25.82080982, 20.88329819, 20.75424749,\n",
       "       24.68879137, 27.85418876, 27.06799291, 24.97003589, 26.62515919,\n",
       "       27.56230453, 25.89601995, 25.45450839, 21.01366001, 28.25689708,\n",
       "       25.68333388, 26.95003015, 24.17131203, 25.96444052, 27.88851862,\n",
       "       24.36713387, 28.36651149, 26.61677423, 24.5035625 , 23.59874859,\n",
       "       20.9658302 , 23.46498109, 24.12437161, 24.02308755, 23.784581  ,\n",
       "       23.78928443, 25.14480187, 20.37114645, 27.15544448, 24.08961465,\n",
       "       25.97896857, 24.00462367, 26.04859328, 28.28672379, 25.28041555,\n",
       "       26.82184343, 22.90888694, 24.78065274, 22.87401797, 21.44826581,\n",
       "       24.70388154, 27.31279735, 23.73546432, 31.85475135, 24.82230496,\n",
       "       23.87434848, 24.81525068, 25.19111255, 25.50985664, 21.73752964,\n",
       "       20.44299069, 24.55007758, 26.77294204, 25.21730367, 26.53484822,\n",
       "       25.73796016, 25.13973867, 21.75829135, 21.793714  , 23.60601086])"
      ]
     },
     "execution_count": 183,
     "metadata": {},
     "output_type": "execute_result"
    }
   ],
   "source": [
    "y"
   ]
  },
  {
   "cell_type": "code",
   "execution_count": 185,
   "id": "9e716f91-70b8-49e5-89cc-03da98bc3bac",
   "metadata": {},
   "outputs": [
    {
     "name": "stderr",
     "output_type": "stream",
     "text": [
      "C:\\Users\\tutua\\AppData\\Local\\Temp\\ipykernel_8092\\3796431026.py:1: UserWarning: \n",
      "\n",
      "`distplot` is a deprecated function and will be removed in seaborn v0.14.0.\n",
      "\n",
      "Please adapt your code to use either `displot` (a figure-level function with\n",
      "similar flexibility) or `histplot` (an axes-level function for histograms).\n",
      "\n",
      "For a guide to updating your code to use the new functions, please see\n",
      "https://gist.github.com/mwaskom/de44147ed2974457ad6372750bbe5751\n",
      "\n",
      "  sns.distplot(x)\n",
      "C:\\Users\\tutua\\AppData\\Local\\Temp\\ipykernel_8092\\3796431026.py:2: UserWarning: \n",
      "\n",
      "`distplot` is a deprecated function and will be removed in seaborn v0.14.0.\n",
      "\n",
      "Please adapt your code to use either `displot` (a figure-level function with\n",
      "similar flexibility) or `histplot` (an axes-level function for histograms).\n",
      "\n",
      "For a guide to updating your code to use the new functions, please see\n",
      "https://gist.github.com/mwaskom/de44147ed2974457ad6372750bbe5751\n",
      "\n",
      "  sns.distplot(y)\n"
     ]
    },
    {
     "data": {
      "image/png": "[encoded data removed]",
      "text/plain": [
       "<Figure size 640x480 with 1 Axes>"
      ]
     },
     "metadata": {},
     "output_type": "display_data"
    }
   ],
   "source": [
    "sns.distplot(x)\n",
    "sns.distplot(y)\n",
    "plt.grid(True)"
   ]
  },
  {
   "cell_type": "markdown",
   "id": "2d63f412-2a48-4744-a69d-5ffd498477d8",
   "metadata": {},
   "source": [
    "## standard Normal Distribution:\n",
    "- mean = 0\n",
    "-  std = 1"
   ]
  },
  {
   "cell_type": "markdown",
   "id": "3673784e-4876-4acd-bdc1-145237124461",
   "metadata": {},
   "source": [
    "## Numpy Functions"
   ]
  },
  {
   "cell_type": "code",
   "execution_count": 192,
   "id": "190c962b-7c4b-4a05-8a9b-13b3fc91ee7c",
   "metadata": {},
   "outputs": [],
   "source": [
    "a = [1,2,3,4,5,6]\n",
    "b = [3,4,5,6,7,8]"
   ]
  },
  {
   "cell_type": "code",
   "execution_count": 194,
   "id": "d59d36e2-f6d1-4791-aa50-a3da50fd3342",
   "metadata": {},
   "outputs": [],
   "source": [
    "c = np.array(a)\n",
    "d = np.array(b)"
   ]
  },
  {
   "cell_type": "code",
   "execution_count": 196,
   "id": "e13a4d2d-baf0-4c43-a4c5-67b19fcbf27a",
   "metadata": {},
   "outputs": [
    {
     "data": {
      "text/plain": [
       "array([ 4,  6,  8, 10, 12, 14])"
      ]
     },
     "execution_count": 196,
     "metadata": {},
     "output_type": "execute_result"
    }
   ],
   "source": [
    "c+d"
   ]
  },
  {
   "cell_type": "code",
   "execution_count": 198,
   "id": "33e574fb-56ea-44ac-9760-29a7f8da022c",
   "metadata": {},
   "outputs": [
    {
     "data": {
      "text/plain": [
       "array([ 3,  8, 15, 24, 35, 48])"
      ]
     },
     "execution_count": 198,
     "metadata": {},
     "output_type": "execute_result"
    }
   ],
   "source": [
    "c*d"
   ]
  },
  {
   "cell_type": "code",
   "execution_count": 200,
   "id": "01c65708-7d55-4a0b-9f19-658289ec50b5",
   "metadata": {},
   "outputs": [
    {
     "data": {
      "text/plain": [
       "numpy.ndarray"
      ]
     },
     "execution_count": 200,
     "metadata": {},
     "output_type": "execute_result"
    }
   ],
   "source": [
    "type (c)"
   ]
  },
  {
   "cell_type": "code",
   "execution_count": 202,
   "id": "c05cabda-e3fc-491f-8ea2-b2aa514fa5d4",
   "metadata": {},
   "outputs": [
    {
     "data": {
      "text/plain": [
       "array([1, 2, 3, 4, 5, 6])"
      ]
     },
     "execution_count": 202,
     "metadata": {},
     "output_type": "execute_result"
    }
   ],
   "source": [
    "c"
   ]
  },
  {
   "cell_type": "code",
   "execution_count": 204,
   "id": "c52fe087-95ad-44cd-8256-cac49702d6c8",
   "metadata": {},
   "outputs": [
    {
     "data": {
      "text/plain": [
       "array([3, 4, 5, 6, 7, 8])"
      ]
     },
     "execution_count": 204,
     "metadata": {},
     "output_type": "execute_result"
    }
   ],
   "source": [
    "d"
   ]
  },
  {
   "cell_type": "code",
   "execution_count": 206,
   "id": "c803367f-a163-4250-ae5a-ffbe30f546e0",
   "metadata": {},
   "outputs": [
    {
     "data": {
      "text/plain": [
       "2"
      ]
     },
     "execution_count": 206,
     "metadata": {},
     "output_type": "execute_result"
    }
   ],
   "source": [
    "np.abs(-2)"
   ]
  },
  {
   "cell_type": "code",
   "execution_count": 208,
   "id": "83cbb6e3-1c6c-4f21-a4f1-1b972c2da803",
   "metadata": {},
   "outputs": [
    {
     "data": {
      "text/plain": [
       "array([1.        , 1.41421356, 1.73205081, 2.        , 2.23606798,\n",
       "       2.44948974])"
      ]
     },
     "execution_count": 208,
     "metadata": {},
     "output_type": "execute_result"
    }
   ],
   "source": [
    "np.sqrt(c)"
   ]
  },
  {
   "cell_type": "code",
   "execution_count": 210,
   "id": "74381fde-d0a4-4024-9d6a-6a6f5bb9f04f",
   "metadata": {},
   "outputs": [
    {
     "name": "stderr",
     "output_type": "stream",
     "text": [
      "C:\\Users\\tutua\\AppData\\Local\\Temp\\ipykernel_8092\\97081324.py:1: RuntimeWarning: divide by zero encountered in divide\n",
      "  c/0\n"
     ]
    },
    {
     "data": {
      "text/plain": [
       "array([inf, inf, inf, inf, inf, inf])"
      ]
     },
     "execution_count": 210,
     "metadata": {},
     "output_type": "execute_result"
    }
   ],
   "source": [
    "c/0"
   ]
  },
  {
   "cell_type": "code",
   "execution_count": 212,
   "id": "4a610b41-fe6c-4ba7-8dbc-284bfc6f3f93",
   "metadata": {},
   "outputs": [
    {
     "data": {
      "text/plain": [
       "133"
      ]
     },
     "execution_count": 212,
     "metadata": {},
     "output_type": "execute_result"
    }
   ],
   "source": [
    "c.dot(d)"
   ]
  },
  {
   "cell_type": "code",
   "execution_count": 214,
   "id": "de54bc9d-5e49-409a-b764-4d3ee6cf6244",
   "metadata": {},
   "outputs": [
    {
     "data": {
      "text/plain": [
       "array([1, 2, 3, 4, 5, 6])"
      ]
     },
     "execution_count": 214,
     "metadata": {},
     "output_type": "execute_result"
    }
   ],
   "source": [
    "c"
   ]
  },
  {
   "cell_type": "code",
   "execution_count": 216,
   "id": "732d5c81-94d8-40d7-a776-2680d663e5b6",
   "metadata": {},
   "outputs": [
    {
     "data": {
      "text/plain": [
       "1"
      ]
     },
     "execution_count": 216,
     "metadata": {},
     "output_type": "execute_result"
    }
   ],
   "source": [
    "c.min()"
   ]
  },
  {
   "cell_type": "code",
   "execution_count": 218,
   "id": "b7859817-f0dd-4460-9b72-4d99d3fec2a5",
   "metadata": {},
   "outputs": [
    {
     "data": {
      "text/plain": [
       "6"
      ]
     },
     "execution_count": 218,
     "metadata": {},
     "output_type": "execute_result"
    }
   ],
   "source": [
    "c.max()"
   ]
  },
  {
   "cell_type": "code",
   "execution_count": 220,
   "id": "31e61b7b-3fa7-4783-bc4a-705112c7544b",
   "metadata": {},
   "outputs": [
    {
     "data": {
      "text/plain": [
       "0"
      ]
     },
     "execution_count": 220,
     "metadata": {},
     "output_type": "execute_result"
    }
   ],
   "source": [
    "c.argmin()"
   ]
  },
  {
   "cell_type": "code",
   "execution_count": 222,
   "id": "ba161786-886f-4129-9cbf-55e98e62d76e",
   "metadata": {},
   "outputs": [
    {
     "data": {
      "text/plain": [
       "5"
      ]
     },
     "execution_count": 222,
     "metadata": {},
     "output_type": "execute_result"
    }
   ],
   "source": [
    "c.argmax()"
   ]
  },
  {
   "cell_type": "code",
   "execution_count": 224,
   "id": "64c510f8-85ba-4c99-8647-5640312dd7d0",
   "metadata": {},
   "outputs": [
    {
     "data": {
      "text/plain": [
       "3.5"
      ]
     },
     "execution_count": 224,
     "metadata": {},
     "output_type": "execute_result"
    }
   ],
   "source": [
    "c.mean()"
   ]
  },
  {
   "cell_type": "code",
   "execution_count": 226,
   "id": "3ffe0b14-091b-4f16-92c8-683a6b3ab353",
   "metadata": {},
   "outputs": [
    {
     "data": {
      "text/plain": [
       "1.707825127659933"
      ]
     },
     "execution_count": 226,
     "metadata": {},
     "output_type": "execute_result"
    }
   ],
   "source": [
    "c.std()"
   ]
  },
  {
   "cell_type": "code",
   "execution_count": null,
   "id": "728f9216-3a1f-4a64-9791-4294456cf4d8",
   "metadata": {},
   "outputs": [],
   "source": []
  }
 ],
 "metadata": {
  "kernelspec": {
   "display_name": "Python 3 (ipykernel)",
   "language": "python",
   "name": "python3"
  },
  "language_info": {
   "codemirror_mode": {
    "name": "ipython",
    "version": 3
   },
   "file_extension": ".py",
   "mimetype": "text/x-python",
   "name": "python",
   "nbconvert_exporter": "python",
   "pygments_lexer": "ipython3",
   "version": "3.12.4"
  }
 },
 "nbformat": 4,
 "nbformat_minor": 5
}

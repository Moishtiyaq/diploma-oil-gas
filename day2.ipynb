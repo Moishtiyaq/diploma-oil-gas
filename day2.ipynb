{
 "cells": [
  {
   "cell_type": "code",
   "execution_count": 1,
   "id": "52ad5190-9083-4ea6-a9e5-d34c09ce88cf",
   "metadata": {},
   "outputs": [
    {
     "name": "stdout",
     "output_type": "stream",
     "text": [
      "hello world\n"
     ]
    }
   ],
   "source": [
    "print  (\"hello world\")"
   ]
  },
  {
   "cell_type": "code",
   "execution_count": 7,
   "id": "5e41bb86-08de-4b97-a638-12717f77c31c",
   "metadata": {},
   "outputs": [
    {
     "name": "stdout",
     "output_type": "stream",
     "text": [
      "123\n"
     ]
    }
   ],
   "source": [
    "print (123)"
   ]
  },
  {
   "cell_type": "code",
   "execution_count": 48,
   "id": "58592f2d-96e9-44cc-96e0-513d2b51fbde",
   "metadata": {},
   "outputs": [
    {
     "name": "stdout",
     "output_type": "stream",
     "text": [
      " Hello tutu \n",
      " How's your day today\n"
     ]
    }
   ],
   "source": [
    "print(\" Hello tutu \\n How's your day today\")"
   ]
  },
  {
   "cell_type": "markdown",
   "id": "471eb2a9-301b-4e99-b9fc-43a7291897ce",
   "metadata": {},
   "source": [
    "### Integers"
   ]
  },
  {
   "cell_type": "code",
   "execution_count": 9,
   "id": "e1b9141a-45c0-41cd-bf32-09fd4fe043c4",
   "metadata": {},
   "outputs": [
    {
     "data": {
      "text/plain": [
       "123"
      ]
     },
     "execution_count": 9,
     "metadata": {},
     "output_type": "execute_result"
    }
   ],
   "source": [
    "123"
   ]
  },
  {
   "cell_type": "code",
   "execution_count": 12,
   "id": "f25523f4-ccd2-4a37-aa80-7a2bc5dd6533",
   "metadata": {},
   "outputs": [
    {
     "data": {
      "text/plain": [
       "12344556"
      ]
     },
     "execution_count": 12,
     "metadata": {},
     "output_type": "execute_result"
    }
   ],
   "source": [
    "12344556"
   ]
  },
  {
   "cell_type": "code",
   "execution_count": 14,
   "id": "48a2a3cf-0795-460d-a13f-98729567e85f",
   "metadata": {},
   "outputs": [
    {
     "data": {
      "text/plain": [
       "'1234'"
      ]
     },
     "execution_count": 14,
     "metadata": {},
     "output_type": "execute_result"
    }
   ],
   "source": [
    "\"1234\""
   ]
  },
  {
   "cell_type": "code",
   "execution_count": 16,
   "id": "95070ecb-a007-48e9-96b2-cb793d014cb5",
   "metadata": {},
   "outputs": [
    {
     "data": {
      "text/plain": [
       "str"
      ]
     },
     "execution_count": 16,
     "metadata": {},
     "output_type": "execute_result"
    }
   ],
   "source": [
    "type ('1234')"
   ]
  },
  {
   "cell_type": "code",
   "execution_count": 18,
   "id": "92ae5acc-6895-4ad6-80a4-4e1798b7887f",
   "metadata": {},
   "outputs": [
    {
     "name": "stdout",
     "output_type": "stream",
     "text": [
      "1234\n"
     ]
    }
   ],
   "source": [
    "print (\"1234\")"
   ]
  },
  {
   "cell_type": "code",
   "execution_count": 22,
   "id": "f64471c5-d1a0-43ed-a76d-b6451e876bcb",
   "metadata": {},
   "outputs": [
    {
     "data": {
      "text/plain": [
       "int"
      ]
     },
     "execution_count": 22,
     "metadata": {},
     "output_type": "execute_result"
    }
   ],
   "source": [
    "type (1234)"
   ]
  },
  {
   "cell_type": "code",
   "execution_count": 41,
   "id": "34f81b1b-218e-43a6-8f81-ec9b0f3cc5f2",
   "metadata": {},
   "outputs": [
    {
     "data": {
      "text/plain": [
       "2"
      ]
     },
     "execution_count": 41,
     "metadata": {},
     "output_type": "execute_result"
    }
   ],
   "source": [
    "int (12/5)"
   ]
  },
  {
   "cell_type": "code",
   "execution_count": 43,
   "id": "64bd9398-d2b4-4167-9ada-061439675b10",
   "metadata": {},
   "outputs": [
    {
     "data": {
      "text/plain": [
       "2.4"
      ]
     },
     "execution_count": 43,
     "metadata": {},
     "output_type": "execute_result"
    }
   ],
   "source": [
    "float (12/5)"
   ]
  },
  {
   "cell_type": "markdown",
   "id": "201c28e9-30d5-4acd-815e-117db47a7797",
   "metadata": {},
   "source": [
    "### Floats: decimal Values:"
   ]
  },
  {
   "cell_type": "code",
   "execution_count": 1,
   "id": "54b0e458-50f6-45e7-8074-e2bce1b7d1c0",
   "metadata": {},
   "outputs": [
    {
     "data": {
      "text/plain": [
       "8.0"
      ]
     },
     "execution_count": 1,
     "metadata": {},
     "output_type": "execute_result"
    }
   ],
   "source": [
    "8.0"
   ]
  },
  {
   "cell_type": "code",
   "execution_count": 5,
   "id": "9d87b950-82b3-405a-83af-c1c7831ba5f4",
   "metadata": {},
   "outputs": [
    {
     "name": "stdout",
     "output_type": "stream",
     "text": [
      "8.0\n"
     ]
    }
   ],
   "source": [
    "print (8.0)"
   ]
  },
  {
   "cell_type": "code",
   "execution_count": 9,
   "id": "e484c304-9b1f-4224-b008-9d45f4d6c393",
   "metadata": {},
   "outputs": [
    {
     "data": {
      "text/plain": [
       "float"
      ]
     },
     "execution_count": 9,
     "metadata": {},
     "output_type": "execute_result"
    }
   ],
   "source": [
    "type (8.0)"
   ]
  },
  {
   "cell_type": "code",
   "execution_count": 13,
   "id": "89824303-dfa6-4044-abd3-69f7f6bed25a",
   "metadata": {},
   "outputs": [
    {
     "data": {
      "text/plain": [
       "str"
      ]
     },
     "execution_count": 13,
     "metadata": {},
     "output_type": "execute_result"
    }
   ],
   "source": [
    "type ('8.0')"
   ]
  },
  {
   "cell_type": "code",
   "execution_count": 23,
   "id": "a856c3df-5b52-43e2-9a54-0767c9c80993",
   "metadata": {},
   "outputs": [
    {
     "data": {
      "text/plain": [
       "9"
      ]
     },
     "execution_count": 23,
     "metadata": {},
     "output_type": "execute_result"
    }
   ],
   "source": [
    "int (8+1)"
   ]
  },
  {
   "cell_type": "markdown",
   "id": "4d4a2bf0-abfa-45cb-aa06-2ff00ceecb45",
   "metadata": {},
   "source": [
    "### Strings:"
   ]
  },
  {
   "cell_type": "code",
   "execution_count": 27,
   "id": "b3c2b7c4-5caf-497d-ba9f-09ece40f8b9d",
   "metadata": {},
   "outputs": [
    {
     "data": {
      "text/plain": [
       "'12'"
      ]
     },
     "execution_count": 27,
     "metadata": {},
     "output_type": "execute_result"
    }
   ],
   "source": [
    "\"12\""
   ]
  },
  {
   "cell_type": "code",
   "execution_count": 29,
   "id": "95982217-d757-4278-ad5a-56e017a76cd8",
   "metadata": {},
   "outputs": [
    {
     "data": {
      "text/plain": [
       "str"
      ]
     },
     "execution_count": 29,
     "metadata": {},
     "output_type": "execute_result"
    }
   ],
   "source": [
    "type ('12')"
   ]
  },
  {
   "cell_type": "code",
   "execution_count": 31,
   "id": "a6c20ca4-325d-4c52-af35-6da473c2442d",
   "metadata": {},
   "outputs": [
    {
     "data": {
      "text/plain": [
       "str"
      ]
     },
     "execution_count": 31,
     "metadata": {},
     "output_type": "execute_result"
    }
   ],
   "source": [
    "type ('name')"
   ]
  },
  {
   "cell_type": "code",
   "execution_count": 33,
   "id": "e7da7a1c-fdf7-4014-be7f-318a559f7d3d",
   "metadata": {},
   "outputs": [
    {
     "data": {
      "text/plain": [
       "'13'"
      ]
     },
     "execution_count": 33,
     "metadata": {},
     "output_type": "execute_result"
    }
   ],
   "source": [
    "str (13)"
   ]
  },
  {
   "cell_type": "code",
   "execution_count": 35,
   "id": "4a1d0785-fe4b-4a24-98b7-e07610990316",
   "metadata": {},
   "outputs": [
    {
     "data": {
      "text/plain": [
       "'27'"
      ]
     },
     "execution_count": 35,
     "metadata": {},
     "output_type": "execute_result"
    }
   ],
   "source": [
    "str(13+14)"
   ]
  },
  {
   "cell_type": "code",
   "execution_count": 39,
   "id": "f983a3fb-1868-48b9-83e1-85d8c0fa7b86",
   "metadata": {},
   "outputs": [
    {
     "data": {
      "text/plain": [
       "'4.0'"
      ]
     },
     "execution_count": 39,
     "metadata": {},
     "output_type": "execute_result"
    }
   ],
   "source": [
    "str(48/12)"
   ]
  },
  {
   "cell_type": "code",
   "execution_count": 50,
   "id": "ece1419e-7214-4a96-b53b-bc728f94f2f3",
   "metadata": {},
   "outputs": [
    {
     "data": {
      "text/plain": [
       "int"
      ]
     },
     "execution_count": 50,
     "metadata": {},
     "output_type": "execute_result"
    }
   ],
   "source": [
    "type (4)"
   ]
  },
  {
   "cell_type": "markdown",
   "id": "a430b2d9-1de3-4636-aa33-9bf5749193db",
   "metadata": {},
   "source": [
    "### Booleans;"
   ]
  },
  {
   "cell_type": "code",
   "execution_count": 46,
   "id": "94537983-6bf9-47c3-b16f-f7f0e4886b78",
   "metadata": {},
   "outputs": [
    {
     "data": {
      "text/plain": [
       "True"
      ]
     },
     "execution_count": 46,
     "metadata": {},
     "output_type": "execute_result"
    }
   ],
   "source": [
    "7>6"
   ]
  },
  {
   "cell_type": "code",
   "execution_count": 62,
   "id": "8f687a1a-a555-4ba4-9841-2d3a5e588187",
   "metadata": {},
   "outputs": [
    {
     "name": "stdout",
     "output_type": "stream",
     "text": [
      "4\n"
     ]
    }
   ],
   "source": [
    "## for reminder\n",
    "print (40%6)"
   ]
  },
  {
   "cell_type": "code",
   "execution_count": 60,
   "id": "8891383a-0e9f-4e69-9377-b6a2c10d5940",
   "metadata": {},
   "outputs": [
    {
     "data": {
      "text/plain": [
       "6"
      ]
     },
     "execution_count": 60,
     "metadata": {},
     "output_type": "execute_result"
    }
   ],
   "source": [
    "40//6"
   ]
  },
  {
   "cell_type": "code",
   "execution_count": 64,
   "id": "1e2ac712-0b97-4a2a-a925-28d72c4a2174",
   "metadata": {},
   "outputs": [
    {
     "data": {
      "text/plain": [
       "64"
      ]
     },
     "execution_count": 64,
     "metadata": {},
     "output_type": "execute_result"
    }
   ],
   "source": [
    "# exponential power\n",
    "8**2"
   ]
  },
  {
   "cell_type": "code",
   "execution_count": 70,
   "id": "7b610698-c8bd-4286-a658-2b7462d99735",
   "metadata": {},
   "outputs": [
    {
     "data": {
      "text/plain": [
       "16"
      ]
     },
     "execution_count": 70,
     "metadata": {},
     "output_type": "execute_result"
    }
   ],
   "source": [
    "2**4"
   ]
  },
  {
   "cell_type": "code",
   "execution_count": 74,
   "id": "d7a4529e-9a08-49c0-bf86-522daa5b1f94",
   "metadata": {},
   "outputs": [
    {
     "data": {
      "text/plain": [
       "8"
      ]
     },
     "execution_count": 74,
     "metadata": {},
     "output_type": "execute_result"
    }
   ],
   "source": [
    "## quiotent of a division: //\n",
    "58//7"
   ]
  },
  {
   "cell_type": "code",
   "execution_count": 78,
   "id": "0caee5fa-0328-4db4-a805-2e1f9cad3047",
   "metadata": {},
   "outputs": [
    {
     "data": {
      "text/plain": [
       "2"
      ]
     },
     "execution_count": 78,
     "metadata": {},
     "output_type": "execute_result"
    }
   ],
   "source": [
    "## Reminder of a division: %\n",
    "58%7"
   ]
  },
  {
   "cell_type": "code",
   "execution_count": 80,
   "id": "fbab3378-7750-4afc-b661-58f1413a39a8",
   "metadata": {},
   "outputs": [
    {
     "data": {
      "text/plain": [
       "True"
      ]
     },
     "execution_count": 80,
     "metadata": {},
     "output_type": "execute_result"
    }
   ],
   "source": [
    "(56/7)>(35/7)"
   ]
  },
  {
   "cell_type": "code",
   "execution_count": 82,
   "id": "1f2e2646-be26-4704-a555-201f05792c39",
   "metadata": {},
   "outputs": [
    {
     "data": {
      "text/plain": [
       "3.0"
      ]
     },
     "execution_count": 82,
     "metadata": {},
     "output_type": "execute_result"
    }
   ],
   "source": [
    "(56/7)-(35/7)"
   ]
  },
  {
   "cell_type": "code",
   "execution_count": 86,
   "id": "e6262e82-ea8f-41fb-85ef-03199198c3c6",
   "metadata": {},
   "outputs": [
    {
     "data": {
      "text/plain": [
       "float"
      ]
     },
     "execution_count": 86,
     "metadata": {},
     "output_type": "execute_result"
    }
   ],
   "source": [
    "type (3.0)"
   ]
  },
  {
   "cell_type": "code",
   "execution_count": 109,
   "id": "be7387d9-fa40-4656-8ce9-ec30a7ba342a",
   "metadata": {},
   "outputs": [
    {
     "name": "stdout",
     "output_type": "stream",
     "text": [
      "today lecture is good \n",
      "lecture was very informative\n"
     ]
    }
   ],
   "source": [
    "print ( \"today lecture is good \\nlecture was very informative\")"
   ]
  },
  {
   "cell_type": "markdown",
   "id": "0c9feea2-b84c-4455-9e89-954c9137693d",
   "metadata": {},
   "source": [
    "## Variables:\n",
    "\n",
    "- container for storing information\n",
    "\n",
    "- variables are created \"=\""
   ]
  },
  {
   "cell_type": "code",
   "execution_count": 214,
   "id": "32369e67-79c0-40a9-ae10-c45f1d8f56ef",
   "metadata": {},
   "outputs": [],
   "source": [
    "tutu = 22"
   ]
  },
  {
   "cell_type": "code",
   "execution_count": 130,
   "id": "83bcc161-2d0c-4681-b755-75ce1631cd58",
   "metadata": {},
   "outputs": [
    {
     "data": {
      "text/plain": [
       "22"
      ]
     },
     "execution_count": 130,
     "metadata": {},
     "output_type": "execute_result"
    }
   ],
   "source": [
    "tutu"
   ]
  },
  {
   "cell_type": "code",
   "execution_count": 216,
   "id": "c7f75fc3-bf93-4cfc-b07a-2e044cd5efb6",
   "metadata": {},
   "outputs": [
    {
     "data": {
      "text/plain": [
       "22"
      ]
     },
     "execution_count": 216,
     "metadata": {},
     "output_type": "execute_result"
    }
   ],
   "source": [
    "tutu"
   ]
  },
  {
   "cell_type": "code",
   "execution_count": 134,
   "id": "a7dd2d8e-89e1-4c68-867e-1740881106d7",
   "metadata": {},
   "outputs": [
    {
     "data": {
      "text/plain": [
       "12"
      ]
     },
     "execution_count": 134,
     "metadata": {},
     "output_type": "execute_result"
    }
   ],
   "source": [
    "tutu-10"
   ]
  },
  {
   "cell_type": "code",
   "execution_count": 136,
   "id": "ecae339d-39a3-457f-b1ea-06d16d4e25ce",
   "metadata": {},
   "outputs": [
    {
     "data": {
      "text/plain": [
       "44"
      ]
     },
     "execution_count": 136,
     "metadata": {},
     "output_type": "execute_result"
    }
   ],
   "source": [
    "tutu*2"
   ]
  },
  {
   "cell_type": "code",
   "execution_count": 140,
   "id": "d4819553-8c9a-4a88-9cbf-9c1261ec2537",
   "metadata": {},
   "outputs": [
    {
     "data": {
      "text/plain": [
       "False"
      ]
     },
     "execution_count": 140,
     "metadata": {},
     "output_type": "execute_result"
    }
   ],
   "source": [
    "tutu<21"
   ]
  },
  {
   "cell_type": "code",
   "execution_count": 142,
   "id": "c0544ab8-b12a-42a7-8964-d6550f2cf73c",
   "metadata": {},
   "outputs": [],
   "source": [
    "golu = 24"
   ]
  },
  {
   "cell_type": "code",
   "execution_count": 144,
   "id": "9b99c6c5-05a5-471a-ba72-7e02a7854d19",
   "metadata": {},
   "outputs": [
    {
     "data": {
      "text/plain": [
       "24"
      ]
     },
     "execution_count": 144,
     "metadata": {},
     "output_type": "execute_result"
    }
   ],
   "source": [
    "golu"
   ]
  },
  {
   "cell_type": "code",
   "execution_count": 146,
   "id": "f7b8467f-f5ed-42ac-8ec0-0a95530a6974",
   "metadata": {},
   "outputs": [
    {
     "data": {
      "text/plain": [
       "2"
      ]
     },
     "execution_count": 146,
     "metadata": {},
     "output_type": "execute_result"
    }
   ],
   "source": [
    "golu-tutu"
   ]
  },
  {
   "cell_type": "code",
   "execution_count": 148,
   "id": "79c467bc-51f9-44d8-ae35-d93041e00eec",
   "metadata": {},
   "outputs": [
    {
     "data": {
      "text/plain": [
       "1.0909090909090908"
      ]
     },
     "execution_count": 148,
     "metadata": {},
     "output_type": "execute_result"
    }
   ],
   "source": [
    "golu/tutu"
   ]
  },
  {
   "cell_type": "code",
   "execution_count": 150,
   "id": "df2439a7-7ee7-4986-a37d-c74de5ddc44a",
   "metadata": {},
   "outputs": [
    {
     "data": {
      "text/plain": [
       "1"
      ]
     },
     "execution_count": 150,
     "metadata": {},
     "output_type": "execute_result"
    }
   ],
   "source": [
    "golu//tutu"
   ]
  },
  {
   "cell_type": "code",
   "execution_count": 152,
   "id": "f258f083-a5f2-46aa-a385-84ca683794b0",
   "metadata": {},
   "outputs": [
    {
     "data": {
      "text/plain": [
       "2"
      ]
     },
     "execution_count": 152,
     "metadata": {},
     "output_type": "execute_result"
    }
   ],
   "source": [
    "golu%tutu"
   ]
  },
  {
   "cell_type": "code",
   "execution_count": 154,
   "id": "0440214c-564a-4947-8e99-de3888a7d8e6",
   "metadata": {},
   "outputs": [
    {
     "data": {
      "text/plain": [
       "528"
      ]
     },
     "execution_count": 154,
     "metadata": {},
     "output_type": "execute_result"
    }
   ],
   "source": [
    "golu*tutu"
   ]
  },
  {
   "cell_type": "code",
   "execution_count": 166,
   "id": "9ea8d3bf-9f98-4f76-a001-c8e7688c4d6d",
   "metadata": {},
   "outputs": [],
   "source": [
    "paggal = 528"
   ]
  },
  {
   "cell_type": "code",
   "execution_count": 158,
   "id": "e07611fc-45e6-422a-b0ea-6aede4e8c07b",
   "metadata": {},
   "outputs": [
    {
     "data": {
      "text/plain": [
       "528"
      ]
     },
     "execution_count": 158,
     "metadata": {},
     "output_type": "execute_result"
    }
   ],
   "source": [
    "golu*tutu"
   ]
  },
  {
   "cell_type": "code",
   "execution_count": 168,
   "id": "105a40d3-da33-4615-9bed-a5c9df9cf10b",
   "metadata": {},
   "outputs": [
    {
     "data": {
      "text/plain": [
       "528"
      ]
     },
     "execution_count": 168,
     "metadata": {},
     "output_type": "execute_result"
    }
   ],
   "source": [
    "paggal"
   ]
  },
  {
   "cell_type": "code",
   "execution_count": 218,
   "id": "6bd7d45b-e4af-445a-a581-2f5f63362383",
   "metadata": {},
   "outputs": [
    {
     "data": {
      "text/plain": [
       "0"
      ]
     },
     "execution_count": 218,
     "metadata": {},
     "output_type": "execute_result"
    }
   ],
   "source": [
    "golu*tutu-paggal"
   ]
  },
  {
   "cell_type": "code",
   "execution_count": 172,
   "id": "4e726a07-103f-4026-9f36-b13092724f8f",
   "metadata": {},
   "outputs": [
    {
     "data": {
      "text/plain": [
       "int"
      ]
     },
     "execution_count": 172,
     "metadata": {},
     "output_type": "execute_result"
    }
   ],
   "source": [
    "type (0)"
   ]
  },
  {
   "cell_type": "code",
   "execution_count": 176,
   "id": "2a5d9ebf-7eda-4c5e-98c7-1354f5ab0da1",
   "metadata": {},
   "outputs": [
    {
     "data": {
      "text/plain": [
       "'golututu'"
      ]
     },
     "execution_count": 176,
     "metadata": {},
     "output_type": "execute_result"
    }
   ],
   "source": [
    "\"golu\"+\"tutu\""
   ]
  },
  {
   "cell_type": "code",
   "execution_count": 180,
   "id": "6d429d7f-2c47-439a-a3e0-bb3ff055618e",
   "metadata": {},
   "outputs": [
    {
     "data": {
      "text/plain": [
       "'5665'"
      ]
     },
     "execution_count": 180,
     "metadata": {},
     "output_type": "execute_result"
    }
   ],
   "source": [
    "\"56\"+\"65\""
   ]
  },
  {
   "cell_type": "code",
   "execution_count": 182,
   "id": "cc45f39b-891d-4517-8d6b-6eb2e8a0a439",
   "metadata": {},
   "outputs": [
    {
     "data": {
      "text/plain": [
       "'56+65'"
      ]
     },
     "execution_count": 182,
     "metadata": {},
     "output_type": "execute_result"
    }
   ],
   "source": [
    "\"56+65\""
   ]
  },
  {
   "cell_type": "code",
   "execution_count": 184,
   "id": "e5a4f45d-293f-4926-a5e2-53c9217f7e61",
   "metadata": {},
   "outputs": [
    {
     "data": {
      "text/plain": [
       "True"
      ]
     },
     "execution_count": 184,
     "metadata": {},
     "output_type": "execute_result"
    }
   ],
   "source": [
    "\"56\"<\"65\""
   ]
  },
  {
   "cell_type": "code",
   "execution_count": 230,
   "id": "6afb0519-2455-4ed2-97de-adf6a873cd76",
   "metadata": {},
   "outputs": [
    {
     "data": {
      "text/plain": [
       "'22golu'"
      ]
     },
     "execution_count": 230,
     "metadata": {},
     "output_type": "execute_result"
    }
   ],
   "source": [
    "tutu+\"golu\""
   ]
  },
  {
   "cell_type": "code",
   "execution_count": 188,
   "id": "6ef56768-d273-441a-af13-6420b41971b9",
   "metadata": {},
   "outputs": [
    {
     "data": {
      "text/plain": [
       "24"
      ]
     },
     "execution_count": 188,
     "metadata": {},
     "output_type": "execute_result"
    }
   ],
   "source": [
    "golu"
   ]
  },
  {
   "cell_type": "code",
   "execution_count": 222,
   "id": "aa92a6b1-939c-4778-a92e-83ddb48c1658",
   "metadata": {},
   "outputs": [
    {
     "name": "stdin",
     "output_type": "stream",
     "text": [
      " 22\n"
     ]
    }
   ],
   "source": [
    "tutu = input()"
   ]
  },
  {
   "cell_type": "code",
   "execution_count": 226,
   "id": "04e50879-6df7-4c30-b2cd-e4d34511d317",
   "metadata": {},
   "outputs": [
    {
     "data": {
      "text/plain": [
       "'22'"
      ]
     },
     "execution_count": 226,
     "metadata": {},
     "output_type": "execute_result"
    }
   ],
   "source": [
    "tutu"
   ]
  },
  {
   "cell_type": "code",
   "execution_count": 204,
   "id": "d4c87509-3e37-493d-9b3c-cbb2bdf9bd09",
   "metadata": {},
   "outputs": [
    {
     "data": {
      "text/plain": [
       "'666'"
      ]
     },
     "execution_count": 204,
     "metadata": {},
     "output_type": "execute_result"
    }
   ],
   "source": [
    "\"6\"+\"6\"+\"6\""
   ]
  },
  {
   "cell_type": "code",
   "execution_count": 206,
   "id": "12c8e0f4-6afb-4938-8fef-452bcdfd53c1",
   "metadata": {},
   "outputs": [
    {
     "data": {
      "text/plain": [
       "24"
      ]
     },
     "execution_count": 206,
     "metadata": {},
     "output_type": "execute_result"
    }
   ],
   "source": [
    "4*6"
   ]
  },
  {
   "cell_type": "code",
   "execution_count": 208,
   "id": "ed699af4-fe9b-4c7c-9074-662cb72fea45",
   "metadata": {},
   "outputs": [
    {
     "data": {
      "text/plain": [
       "'6666'"
      ]
     },
     "execution_count": 208,
     "metadata": {},
     "output_type": "execute_result"
    }
   ],
   "source": [
    "4*\"6\""
   ]
  },
  {
   "cell_type": "code",
   "execution_count": 224,
   "id": "e60b7000-3775-435e-a2f1-21765c056753",
   "metadata": {},
   "outputs": [
    {
     "data": {
      "text/plain": [
       "'22222222'"
      ]
     },
     "execution_count": 224,
     "metadata": {},
     "output_type": "execute_result"
    }
   ],
   "source": [
    "4*tutu"
   ]
  },
  {
   "cell_type": "code",
   "execution_count": 232,
   "id": "91320cce-dfb3-477a-80f6-360c4cd5fde1",
   "metadata": {},
   "outputs": [
    {
     "name": "stdin",
     "output_type": "stream",
     "text": [
      " ahmad\n"
     ]
    }
   ],
   "source": [
    "golu = input()"
   ]
  },
  {
   "cell_type": "code",
   "execution_count": 240,
   "id": "32bb4498-b3e0-47f0-b331-8bff18bd6e61",
   "metadata": {},
   "outputs": [
    {
     "data": {
      "text/plain": [
       "'ahmad'"
      ]
     },
     "execution_count": 240,
     "metadata": {},
     "output_type": "execute_result"
    }
   ],
   "source": [
    "golu"
   ]
  },
  {
   "cell_type": "code",
   "execution_count": 242,
   "id": "8eef9506-6985-4adf-9596-33658870fe5d",
   "metadata": {},
   "outputs": [
    {
     "data": {
      "text/plain": [
       "'tutuahmad'"
      ]
     },
     "execution_count": 242,
     "metadata": {},
     "output_type": "execute_result"
    }
   ],
   "source": [
    "\"tutu\"+golu"
   ]
  },
  {
   "cell_type": "code",
   "execution_count": 254,
   "id": "d652cc6a-43a0-4aae-bef9-b273158f8a57",
   "metadata": {},
   "outputs": [
    {
     "data": {
      "text/plain": [
       "True"
      ]
     },
     "execution_count": 254,
     "metadata": {},
     "output_type": "execute_result"
    }
   ],
   "source": [
    "67==67"
   ]
  },
  {
   "cell_type": "code",
   "execution_count": 258,
   "id": "89e05dc3-738e-4938-b759-e48af3394d67",
   "metadata": {},
   "outputs": [
    {
     "data": {
      "text/plain": [
       "True"
      ]
     },
     "execution_count": 258,
     "metadata": {},
     "output_type": "execute_result"
    }
   ],
   "source": [
    "67!=67.5"
   ]
  },
  {
   "cell_type": "code",
   "execution_count": 264,
   "id": "f683a90b-d966-4552-a839-d975e172cd38",
   "metadata": {},
   "outputs": [
    {
     "data": {
      "text/plain": [
       "float"
      ]
     },
     "execution_count": 264,
     "metadata": {},
     "output_type": "execute_result"
    }
   ],
   "source": [
    "type (67.5)"
   ]
  },
  {
   "cell_type": "code",
   "execution_count": 266,
   "id": "5bdfc844-a32a-407e-8c03-dd396cefadb8",
   "metadata": {},
   "outputs": [
    {
     "data": {
      "text/plain": [
       "67"
      ]
     },
     "execution_count": 266,
     "metadata": {},
     "output_type": "execute_result"
    }
   ],
   "source": [
    "int(67.5)"
   ]
  },
  {
   "cell_type": "code",
   "execution_count": 274,
   "id": "3fe9602f-0098-447d-810f-c493813ef04b",
   "metadata": {},
   "outputs": [
    {
     "name": "stdout",
     "output_type": "stream",
     "text": [
      "maharaja is verry good \n",
      "movie\n"
     ]
    }
   ],
   "source": [
    "print (\"maharaja is verry good \\nmovie\")"
   ]
  },
  {
   "cell_type": "code",
   "execution_count": 282,
   "id": "baefc49a-0c1b-4226-bf89-11e53ba5e5a7",
   "metadata": {},
   "outputs": [
    {
     "data": {
      "text/plain": [
       "False"
      ]
     },
     "execution_count": 282,
     "metadata": {},
     "output_type": "execute_result"
    }
   ],
   "source": [
    "67<23 & 88<55"
   ]
  },
  {
   "cell_type": "code",
   "execution_count": 284,
   "id": "13def18d-b4b4-4422-9314-8ac341bb1786",
   "metadata": {},
   "outputs": [
    {
     "data": {
      "text/plain": [
       "False"
      ]
     },
     "execution_count": 284,
     "metadata": {},
     "output_type": "execute_result"
    }
   ],
   "source": [
    "67>66 and 78<68"
   ]
  },
  {
   "cell_type": "code",
   "execution_count": 290,
   "id": "289982e5-5ff3-4d5f-94f9-abf736bbba6f",
   "metadata": {},
   "outputs": [
    {
     "data": {
      "text/plain": [
       "True"
      ]
     },
     "execution_count": 290,
     "metadata": {},
     "output_type": "execute_result"
    }
   ],
   "source": [
    "67<66 or 78>68"
   ]
  },
  {
   "cell_type": "code",
   "execution_count": 292,
   "id": "6e0bceea-e863-405a-a9e2-5c9625aff09b",
   "metadata": {},
   "outputs": [],
   "source": [
    "a,b,c,d = 1,2,3,4"
   ]
  },
  {
   "cell_type": "code",
   "execution_count": 294,
   "id": "b6db0aa2-7984-4237-a16f-32cd6a82f181",
   "metadata": {},
   "outputs": [
    {
     "data": {
      "text/plain": [
       "2"
      ]
     },
     "execution_count": 294,
     "metadata": {},
     "output_type": "execute_result"
    }
   ],
   "source": [
    "b"
   ]
  },
  {
   "cell_type": "code",
   "execution_count": 296,
   "id": "b178435e-aa5b-46d6-b427-9551dc544acd",
   "metadata": {},
   "outputs": [
    {
     "data": {
      "text/plain": [
       "10"
      ]
     },
     "execution_count": 296,
     "metadata": {},
     "output_type": "execute_result"
    }
   ],
   "source": [
    "a+b+c+d"
   ]
  },
  {
   "cell_type": "markdown",
   "id": "339ba3aa-12a2-4a80-9445-bda5553ed8a4",
   "metadata": {},
   "source": [
    "### input = taking input from user"
   ]
  },
  {
   "cell_type": "code",
   "execution_count": 300,
   "id": "0812fcff-d84b-4f24-b2ac-e539f6d5daf5",
   "metadata": {},
   "outputs": [
    {
     "name": "stdin",
     "output_type": "stream",
     "text": [
      " 24\n"
     ]
    }
   ],
   "source": [
    "permeability = input()"
   ]
  },
  {
   "cell_type": "code",
   "execution_count": 302,
   "id": "e3cbf470-1872-4eac-ab17-6a6197dcecb1",
   "metadata": {},
   "outputs": [
    {
     "name": "stdin",
     "output_type": "stream",
     "text": [
      " 34\n"
     ]
    }
   ],
   "source": [
    "porosity = input()"
   ]
  },
  {
   "cell_type": "code",
   "execution_count": 314,
   "id": "69e1e0bc-4b3b-4aee-be91-fe64e8bf4579",
   "metadata": {},
   "outputs": [
    {
     "data": {
      "text/plain": [
       "str"
      ]
     },
     "execution_count": 314,
     "metadata": {},
     "output_type": "execute_result"
    }
   ],
   "source": [
    "type (porosity)"
   ]
  },
  {
   "cell_type": "code",
   "execution_count": 316,
   "id": "cc73edc7-f4fe-470b-9623-9db04e4334f9",
   "metadata": {},
   "outputs": [
    {
     "name": "stdout",
     "output_type": "stream",
     "text": [
      "6\n",
      "34\n",
      "2\n"
     ]
    }
   ],
   "source": [
    "a = 6\n",
    "print (a)\n",
    "a = porosity\n",
    "print (a)\n",
    "a = b\n",
    "print (a)"
   ]
  },
  {
   "cell_type": "markdown",
   "id": "32dc0102-38cf-46be-a0ed-206b5528931f",
   "metadata": {},
   "source": [
    "### String Formating: "
   ]
  },
  {
   "cell_type": "code",
   "execution_count": 331,
   "id": "f4401d04-eb71-4be3-92f8-242a66e38f20",
   "metadata": {},
   "outputs": [
    {
     "name": "stdin",
     "output_type": "stream",
     "text": [
      "current woh in (klb) :  110\n",
      " current rop is (ft/hr):  25\n",
      " current spp is (psi):  2500\n",
      " current tg is (ppm):  25000\n"
     ]
    }
   ],
   "source": [
    "woh = float(input(\"current woh in (klb) : \"))\n",
    "rop = float(input(\" current rop is (ft/hr): \"))\n",
    "spp = float(input(\" current spp is (psi): \"))\n",
    "tg = float(input(\" current tg is (ppm): \"))"
   ]
  },
  {
   "cell_type": "code",
   "execution_count": 373,
   "id": "fecd40a5-3c1a-486d-ac93-a4472af26170",
   "metadata": {},
   "outputs": [
    {
     "data": {
      "text/plain": [
       "110.0"
      ]
     },
     "execution_count": 373,
     "metadata": {},
     "output_type": "execute_result"
    }
   ],
   "source": [
    "woh"
   ]
  },
  {
   "cell_type": "code",
   "execution_count": 375,
   "id": "2b8a5152-7953-4ef7-825f-1c2d8d83b167",
   "metadata": {},
   "outputs": [
    {
     "name": "stdout",
     "output_type": "stream",
     "text": [
      "woh,rop\n"
     ]
    }
   ],
   "source": [
    "print(f\"woh,rop\")"
   ]
  },
  {
   "cell_type": "code",
   "execution_count": 385,
   "id": "0fce14b0-e361-4186-b99a-bc8a7870a4ac",
   "metadata": {},
   "outputs": [
    {
     "name": "stdin",
     "output_type": "stream",
     "text": [
      "current woh in (klb) :  115\n",
      " current rop is (ft/hr):  30\n",
      " current spp is (psi):  3000\n",
      " current tg is (ppm):  30000\n"
     ]
    }
   ],
   "source": [
    "woh = int(input(\"current woh in (klb) : \"))\n",
    "rop = int(input(\" current rop is (ft/hr): \"))\n",
    "spp = int(input(\" current spp is (psi): \"))\n",
    "tg = int(input(\" current tg is (ppm): \"))"
   ]
  },
  {
   "cell_type": "code",
   "execution_count": 387,
   "id": "a00d7099-4043-42d2-93a9-2c6f813aaf91",
   "metadata": {},
   "outputs": [
    {
     "data": {
      "text/plain": [
       "3000"
      ]
     },
     "execution_count": 387,
     "metadata": {},
     "output_type": "execute_result"
    }
   ],
   "source": [
    "spp"
   ]
  },
  {
   "cell_type": "code",
   "execution_count": 401,
   "id": "8dbace9c-747b-43b3-8b1a-b668f0db2cd4",
   "metadata": {},
   "outputs": [
    {
     "name": "stdin",
     "output_type": "stream",
     "text": [
      "current woh in (klb) :  120\n",
      " current rop is (ft/hr):  40\n",
      " current spp is (psi):  3200\n",
      " current tg is (ppm):  30000\n"
     ]
    },
    {
     "name": "stdout",
     "output_type": "stream",
     "text": [
      "-----------------------------\n",
      "woh while drilling is 115 klb \n",
      "rop while drilling is 30 ft/hr \n",
      "spp while drilling is 3000 psi \n",
      "tg while drilling is 30000 ppm\n"
     ]
    }
   ],
   "source": [
    "woh = float(input(\"current woh in (klb) : \"))\n",
    "rop = float(input(\" current rop is (ft/hr): \"))\n",
    "spp = float(input(\" current spp is (psi): \"))\n",
    "tg = float(input(\" current tg is (ppm): \"))\n",
    "print (\"-----------------------------\")\n",
    "print (\"woh while drilling is 115 klb \\nrop while drilling is 30 ft/hr \\nspp while drilling is 3000 psi \\ntg while drilling is 30000 ppm\")"
   ]
  },
  {
   "cell_type": "code",
   "execution_count": 405,
   "id": "3e1d5bd3-4e50-495a-898b-fb1f14d6f699",
   "metadata": {},
   "outputs": [
    {
     "name": "stdin",
     "output_type": "stream",
     "text": [
      "current woh in (klb) :  120\n",
      " current rop is (ft/hr):  30\n",
      " current spp is (psi):  3200\n",
      " current tg is (ppm):  32000\n"
     ]
    },
    {
     "name": "stdout",
     "output_type": "stream",
     "text": [
      "-----------------------------\n",
      "woh while drilling is 120.0 klb \n",
      "rop while drilling is 30.0 ft/hr \n",
      "spp while drilling is 3200.0 psi \n",
      "tg while drilling is 32000.0 ppm\n"
     ]
    }
   ],
   "source": [
    "woh = float(input(\"current woh in (klb) : \"))\n",
    "rop = float(input(\" current rop is (ft/hr): \"))\n",
    "spp = float(input(\" current spp is (psi): \"))\n",
    "tg = float(input(\" current tg is (ppm): \"))\n",
    "print (\"-----------------------------\")\n",
    "print (f\"woh while drilling is {woh} klb \\nrop while drilling is {rop} ft/hr \\nspp while drilling is {spp} psi \\ntg while drilling is {tg} ppm\")"
   ]
  },
  {
   "cell_type": "code",
   "execution_count": 415,
   "id": "2f7e9276-03b0-4cbd-af78-83d86a01c1bc",
   "metadata": {},
   "outputs": [
    {
     "name": "stdin",
     "output_type": "stream",
     "text": [
      "current woh in (klb) :  140\n",
      " current rop is (ft/hr):  40\n",
      " current spp is (psi):  3000\n",
      " current tg is (ppm):  30000\n"
     ]
    },
    {
     "name": "stdout",
     "output_type": "stream",
     "text": [
      "-----------------------------\n",
      "woh while drilling is 160.0 klb \n",
      "rop while drilling is 75.0 ft/hr \n",
      "spp while drilling is 3350.0 psi \n",
      "tg while drilling is 33000.0 ppm\n"
     ]
    }
   ],
   "source": [
    "woh = float(input(\"current woh in (klb) : \"))\n",
    "rop = float(input(\" current rop is (ft/hr): \"))\n",
    "spp = float(input(\" current spp is (psi): \"))\n",
    "tg = float(input(\" current tg is (ppm): \"))\n",
    "print (\"-----------------------------\")\n",
    "print (f\"woh while drilling is {woh+20} klb \\nrop while drilling is {rop+35} ft/hr \\nspp while drilling is {spp+350} psi \\ntg while drilling is {tg+3000} ppm\")"
   ]
  },
  {
   "cell_type": "code",
   "execution_count": 419,
   "id": "8fa0eb99-5155-40f8-969c-5497899b644a",
   "metadata": {},
   "outputs": [
    {
     "name": "stdin",
     "output_type": "stream",
     "text": [
      "current woh in (klb) :  100\n",
      " current rop is (ft/hr):  10\n",
      " current spp is (psi):  1000\n",
      " current tg is (ppm):  10000\n"
     ]
    },
    {
     "name": "stdout",
     "output_type": "stream",
     "text": [
      "xxxxxxxxxxxxxxxxxxxxxxxxxxxxxxx\n",
      "woh while drilling is 200.0 klb \n",
      "rop while drilling is 20.0 ft/hr \n",
      "spp while drilling is 2000.0 psi \n",
      "tg while drilling is 20000.0 ppm\n"
     ]
    }
   ],
   "source": [
    "woh = float(input(\"current woh in (klb) : \"))\n",
    "rop = float(input(\" current rop is (ft/hr): \"))\n",
    "spp = float(input(\" current spp is (psi): \"))\n",
    "tg = float(input(\" current tg is (ppm): \"))\n",
    "print (\"xxxxxxxxxxxxxxxxxxxxxxxxxxxxxxx\")\n",
    "print (f\"woh while drilling is {woh*2} klb \\nrop while drilling is {rop*2} ft/hr \\nspp while drilling is {spp*2} psi \\ntg while drilling is {tg*2} ppm\")"
   ]
  },
  {
   "cell_type": "code",
   "execution_count": null,
   "id": "2ee3e179-c151-4d58-8fbd-2f4d9f2591b7",
   "metadata": {},
   "outputs": [],
   "source": []
  }
 ],
 "metadata": {
  "kernelspec": {
   "display_name": "Python 3 (ipykernel)",
   "language": "python",
   "name": "python3"
  },
  "language_info": {
   "codemirror_mode": {
    "name": "ipython",
    "version": 3
   },
   "file_extension": ".py",
   "mimetype": "text/x-python",
   "name": "python",
   "nbconvert_exporter": "python",
   "pygments_lexer": "ipython3",
   "version": "3.12.4"
  }
 },
 "nbformat": 4,
 "nbformat_minor": 5
}

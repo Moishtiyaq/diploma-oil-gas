{
 "cells": [
  {
   "cell_type": "markdown",
   "id": "d9b60616-e686-4faa-a199-58995d33d9ce",
   "metadata": {},
   "source": [
    "## IF-else: to run a block of code only if a certain condition is true.\n",
    "- Identation : block of code"
   ]
  },
  {
   "cell_type": "code",
   "execution_count": 9,
   "id": "8f582da6-bf10-4239-bfae-a0e979de78bc",
   "metadata": {},
   "outputs": [
    {
     "name": "stdout",
     "output_type": "stream",
     "text": [
      "the statement true\n",
      "if block executed\n"
     ]
    }
   ],
   "source": [
    "if 5>2: \n",
    "    print(\"the statement true\")\n",
    "    print(\"if block executed\")\n",
    "else:\n",
    "    print(\"the statement false\")\n",
    "    print(\"else block executed\")\n",
    "    print(\"this is outside if-else block\")"
   ]
  },
  {
   "cell_type": "code",
   "execution_count": 1,
   "id": "4b63e384-82d6-464f-a411-6b27ac29d6dd",
   "metadata": {},
   "outputs": [
    {
     "name": "stdout",
     "output_type": "stream",
     "text": [
      "it will always run\n"
     ]
    }
   ],
   "source": [
    "if True:\n",
    "    print(\"it will always run\")"
   ]
  },
  {
   "cell_type": "code",
   "execution_count": 11,
   "id": "3dbc1269-2abd-403f-9724-bedb4cf3b5ec",
   "metadata": {},
   "outputs": [
    {
     "name": "stdout",
     "output_type": "stream",
     "text": [
      "Always else\n"
     ]
    }
   ],
   "source": [
    "if False:\n",
    "    print(\"no need to try\")\n",
    "else:\n",
    "    print(\"Always else\")\n",
    "    "
   ]
  },
  {
   "cell_type": "markdown",
   "id": "8722f101-ec55-4885-846d-df7ce459ad78",
   "metadata": {},
   "source": [
    "## elif:if-else"
   ]
  },
  {
   "cell_type": "code",
   "execution_count": 72,
   "id": "8faae040-9a88-4300-8927-ce9a86be026b",
   "metadata": {},
   "outputs": [
    {
     "name": "stdin",
     "output_type": "stream",
     "text": [
      "enter the intial reservior pressure (psi):  1000\n",
      "enter the intial bubble point pressure (psi):  1500\n"
     ]
    }
   ],
   "source": [
    "pr = float(input(\"enter the intial reservior pressure (psi): \"))\n",
    "pb = float(input(\"enter the intial bubble point pressure (psi): \"))\n",
    "\n",
    "if pr>pb:\n",
    "     print(f\"Reservior Pressure({pr}psi) is greater than bubble point pressure({pb}psi)\")\n",
    "     print(\"Reservior id unsaturated\")\n",
    "elif pr==pb:\n",
    "     print(f\"Reservior Pressure({pr}psi) is greater than bubble point pressure({pb}psi)\")\n",
    "     print(\"Reservior id saturated\")\n",
    "     "
   ]
  },
  {
   "cell_type": "code",
   "execution_count": 48,
   "id": "e0ce128e-353c-41af-98d3-51067fd0ee12",
   "metadata": {},
   "outputs": [
    {
     "name": "stdin",
     "output_type": "stream",
     "text": [
      "enter the intial reservior pressure(psi):  1500\n",
      "enter the intial bubble point pressure(psi):  1550\n"
     ]
    },
    {
     "name": "stdout",
     "output_type": "stream",
     "text": [
      "reservoir pressure(1500.0psi) is lesser than to bubble point pressure(1550.0psi)\n",
      "gas is evovled in reservoir,two phase are present \n"
     ]
    }
   ],
   "source": [
    "pr =float(input(\"enter the intial reservior pressure(psi): \"))\n",
    "pb =float(input(\"enter the intial bubble point pressure(psi): \"))\n",
    "if pr>pb:\n",
    "    print(f\"reservoir pressure({pr}psi) is greater than bubble point pressure({pb}psi)\")\n",
    "    print(\"reservoir is undersaturated\")\n",
    "elif pr==pb:\n",
    "     print(f\"reservoir pressure({pr}psi) is equal to bubble point pressure({pb}psi)\")\n",
    "     print(\"reservoir is saturated\")\n",
    "\n",
    "else :\n",
    "    print(f\"reservoir pressure({pr}psi) is lesser than to bubble point pressure({pb}psi)\")\n",
    "    print(\"gas is evovled in reservoir,two phase are present \")\n"
   ]
  },
  {
   "cell_type": "code",
   "execution_count": 47,
   "id": "89927de1-80f2-4e85-8436-4ddc925009ed",
   "metadata": {},
   "outputs": [],
   "source": [
    "pressure = [1000,1500,2000,2500,3000,3500,4000,4500,5000]"
   ]
  },
  {
   "cell_type": "code",
   "execution_count": 32,
   "id": "c9dc1e8f-d7f8-49ba-b07b-2f199cd51add",
   "metadata": {},
   "outputs": [
    {
     "data": {
      "text/plain": [
       "list"
      ]
     },
     "execution_count": 32,
     "metadata": {},
     "output_type": "execute_result"
    }
   ],
   "source": [
    "type (pressure)"
   ]
  },
  {
   "cell_type": "code",
   "execution_count": 63,
   "id": "0d265517-a910-490c-b394-ba3f311659df",
   "metadata": {},
   "outputs": [
    {
     "name": "stdout",
     "output_type": "stream",
     "text": [
      "pressure 1000psi is less than 4000psi,so low pressure\n",
      "pressure 1500psi is less than 4000psi,so low pressure\n",
      "pressure 2000psi is less than 4000psi,so low pressure\n",
      "pressure 2500psi is less than 4000psi,so low pressure\n",
      "pressure 3000psi is less than 4000psi,so low pressure\n",
      "pressure 3500psi is less than 4000psi,so low pressure\n",
      "pressure 4000psi is greater than 4000psi,so high pressure\n",
      "pressure 4500psi is greater than 4000psi,so high pressure\n",
      "pressure 5000psi is greater than 4000psi,so high pressure\n"
     ]
    }
   ],
   "source": [
    "## 2 lists: low pressure, high pressure\n",
    "## low preessure: pressure<4000\n",
    "### high pressure: pressure >=4000\n",
    "\n",
    "low_p = []\n",
    "high_p = []\n",
    "\n",
    "for p in pressure:\n",
    "    if p<4000:\n",
    "        print(f\"pressure {p}psi is less than 4000psi,so low pressure\")\n",
    "        low_p.append(p)\n",
    "    else:\n",
    "        print(f\"pressure {p}psi is greater than 4000psi,so high pressure\")\n",
    "        high_p.append(p)"
   ]
  },
  {
   "cell_type": "code",
   "execution_count": 57,
   "id": "336a4135-b911-457d-854b-e206d75f654a",
   "metadata": {},
   "outputs": [
    {
     "name": "stdout",
     "output_type": "stream",
     "text": [
      "Pressure 1000psi is less than 4000psi, so low Pressure\n",
      "Pressure 1500psi is less than 4000psi, so low Pressure\n",
      "Pressure 2000psi is less than 4000psi, so low Pressure\n",
      "Pressure 2500psi is less than 4000psi, so low Pressure\n",
      "Pressure 3000psi is less than 4000psi, so low Pressure\n",
      "Pressure 3500psi is less than 4000psi, so low Pressure\n",
      "Pressure 4000psi is greater than  or equal to 4000psi, so High Pressure\n",
      "Pressure 4500psi is greater than  or equal to 4000psi, so High Pressure\n",
      "Pressure 5000psi is greater than  or equal to 4000psi, so High Pressure\n"
     ]
    }
   ],
   "source": [
    "low_p = []\n",
    "high_p = []\n",
    "\n",
    "for p in pressure:\n",
    "    if p<4000:\n",
    "        print(f\"Pressure {p}psi is less than 4000psi, so low Pressure\")\n",
    "        low_p.append(p)\n",
    "    else:\n",
    "        print(f\"Pressure {p}psi is greater than  or equal to 4000psi, so High Pressure\")\n",
    "        high_p.append(p)"
   ]
  },
  {
   "cell_type": "code",
   "execution_count": 65,
   "id": "0470b4b4-66ab-440f-a1d4-3b3c3f9596b3",
   "metadata": {},
   "outputs": [
    {
     "data": {
      "text/plain": [
       "[1000, 1500, 2000, 2500, 3000, 3500]"
      ]
     },
     "execution_count": 65,
     "metadata": {},
     "output_type": "execute_result"
    }
   ],
   "source": [
    "low_p"
   ]
  },
  {
   "cell_type": "code",
   "execution_count": 67,
   "id": "f2eb2d9c-b72f-4f35-b7cf-067c2de86cb5",
   "metadata": {},
   "outputs": [
    {
     "data": {
      "text/plain": [
       "[4000, 4500, 5000]"
      ]
     },
     "execution_count": 67,
     "metadata": {},
     "output_type": "execute_result"
    }
   ],
   "source": [
    "high_p"
   ]
  },
  {
   "cell_type": "markdown",
   "id": "db071479-cca0-4853-a13d-5c199d7c595e",
   "metadata": {},
   "source": [
    "## while loop: to repeat a block of code again and again, until the condition satisfies"
   ]
  },
  {
   "cell_type": "code",
   "execution_count": 78,
   "id": "277c27cf-086b-40cf-b49b-8f2393dbd812",
   "metadata": {},
   "outputs": [
    {
     "name": "stdout",
     "output_type": "stream",
     "text": [
      "the condition is true\n",
      "the value of a2,less than 7\n",
      "python outside the while loop, so the value of a3 is equal to or greater than 7\n",
      "the condition is true\n",
      "the value of a3,less than 7\n",
      "python outside the while loop, so the value of a4 is equal to or greater than 7\n",
      "the condition is true\n",
      "the value of a4,less than 7\n",
      "python outside the while loop, so the value of a5 is equal to or greater than 7\n",
      "the condition is true\n",
      "the value of a5,less than 7\n",
      "python outside the while loop, so the value of a6 is equal to or greater than 7\n",
      "the condition is true\n",
      "the value of a6,less than 7\n",
      "python outside the while loop, so the value of a7 is equal to or greater than 7\n"
     ]
    }
   ],
   "source": [
    "a = 2\n",
    "while a<7:\n",
    "    print(\"the condition is true\")\n",
    "    print(f\"the value of a{a},less than 7\")\n",
    "    a+=1\n",
    "    print(f\"python outside the while loop, so the value of a{a} is equal to or greater than 7\")"
   ]
  },
  {
   "cell_type": "code",
   "execution_count": 110,
   "id": "4f45dc82-b698-4e97-8880-816f236bce04",
   "metadata": {},
   "outputs": [
    {
     "name": "stdin",
     "output_type": "stream",
     "text": [
      "enter the password:  jk\n"
     ]
    },
    {
     "name": "stdout",
     "output_type": "stream",
     "text": [
      "wrong password,access denied!\n",
      "try again\n",
      "2 attempts left!!\n"
     ]
    },
    {
     "name": "stdin",
     "output_type": "stream",
     "text": [
      "enter the password:  jk\n"
     ]
    },
    {
     "name": "stdout",
     "output_type": "stream",
     "text": [
      "wrong password,access denied!\n",
      "try again\n",
      "1 attempts left!!\n"
     ]
    },
    {
     "name": "stdin",
     "output_type": "stream",
     "text": [
      "enter the password:  hj\n"
     ]
    },
    {
     "name": "stdout",
     "output_type": "stream",
     "text": [
      "wrong password,access denied!\n",
      "try again\n",
      "0 attempts left!!\n",
      "access denied\n",
      "acces denied,request cancelled\n"
     ]
    }
   ],
   "source": [
    "password = input(\"enter the password: \")\n",
    "\n",
    "i = 0\n",
    "while (password!=\"petroleum\") and (i<3):\n",
    "    print(\"wrong password,access denied!\")\n",
    "    print(\"try again\")\n",
    "    print(f\"{3-i-1} attempts left!!\")\n",
    "    i+=1\n",
    "    if i ==3:\n",
    "        print(\"access denied\")\n",
    "        break\n",
    "    password = input(\"enter the password: \")\n",
    "\n",
    "else :\n",
    "    print(\"access granted\")\n",
    "\n",
    "print(\"acces denied,request cancelled\")\n",
    "    \n"
   ]
  },
  {
   "cell_type": "code",
   "execution_count": 116,
   "id": "f8317d8b-addc-447a-9ac4-9d6b83586ca1",
   "metadata": {},
   "outputs": [
    {
     "name": "stdin",
     "output_type": "stream",
     "text": [
      "enter the password:  jfklrt\n"
     ]
    },
    {
     "name": "stdout",
     "output_type": "stream",
     "text": [
      "wrong password,access denied!\n",
      "try again\n",
      "2 attempts left!!\n"
     ]
    },
    {
     "name": "stdin",
     "output_type": "stream",
     "text": [
      "enter the password:  jfgkr\n"
     ]
    },
    {
     "name": "stdout",
     "output_type": "stream",
     "text": [
      "wrong password,access denied!\n",
      "try again\n",
      "1 attempts left!!\n"
     ]
    },
    {
     "name": "stdin",
     "output_type": "stream",
     "text": [
      "enter the password:  petroleum\n"
     ]
    },
    {
     "name": "stdout",
     "output_type": "stream",
     "text": [
      "access granted\n"
     ]
    }
   ],
   "source": [
    "password = input(\"enter the password: \")\n",
    "\n",
    "i = 0\n",
    "while (password!=\"petroleum\") and (i<3):\n",
    "    print(\"wrong password,access denied!\")\n",
    "    print(\"try again\")\n",
    "    print(f\"{3-i-1} attempts left!!\")\n",
    "    i+=1\n",
    "    if i ==3:\n",
    "        print(\"access denied\")\n",
    "        print(\"acces denied,request cancelled\")\n",
    "        break\n",
    "    password = input(\"enter the password: \")\n",
    "\n",
    "else :\n",
    "    print(\"access granted\")"
   ]
  },
  {
   "cell_type": "markdown",
   "id": "83516720-ba03-42e5-b74b-1005e962ab44",
   "metadata": {},
   "source": [
    "## Break statement: for breaking the loop premeturely\n",
    "- we can break an infinite loop, if some condition hold true"
   ]
  },
  {
   "cell_type": "code",
   "execution_count": 135,
   "id": "02a2734c-0359-4d04-aa41-b717f3eac144",
   "metadata": {},
   "outputs": [
    {
     "name": "stdout",
     "output_type": "stream",
     "text": [
      "3\n",
      "6\n",
      "9\n",
      "12\n",
      "15\n",
      "18\n"
     ]
    }
   ],
   "source": [
    "t = 0\n",
    "\n",
    "while t<21:\n",
    "    t+=3\n",
    "    if t==21:\n",
    "        break\n",
    "    print(t)"
   ]
  },
  {
   "cell_type": "code",
   "execution_count": 158,
   "id": "ca2d1561-dd46-45a6-956c-79c114ae3f7b",
   "metadata": {},
   "outputs": [
    {
     "name": "stdout",
     "output_type": "stream",
     "text": [
      "formation pressure is 2000psi\n",
      "formation pressure is 2100psi\n",
      "formation pressure is 2200psi\n",
      "formation pressure is 2300psi\n",
      "formation pressure is 2400psi\n",
      "formation pressure is 2500psi\n",
      "formation pressure is 2600psi\n",
      "formation pressure is 2700psi\n",
      "formation pressure is 2800psi\n",
      "formation pressure is 2900psi\n",
      "formation pressure is 3000psi\n",
      "formation pressure is 3100psi\n",
      "formation pressure is 3200psi\n",
      "formation pressure is 3300psi\n",
      "formation pressure is 3400psi\n",
      "formation pressure is 3500psi\n",
      "formation pressure is 3600psi\n",
      "formation pressure is 3700psi\n",
      "formation pressure is 3800psi\n",
      "formation pressure is 3900psi\n",
      "formation pressure is 4000psi\n",
      "formation pressure is 4100psi\n",
      "formation pressure is 4200psi\n",
      "formation pressure is 4300psi\n",
      "formation pressure is 4400psi\n",
      "formation pressure is 4500psi\n",
      "formation pressure is 4600psi\n",
      "formation pressure is 4700psi\n",
      "formation pressure is 4800psi\n",
      "formation pressure is 4900psi\n",
      "reach to maximum value, so stoping process\n",
      " process finshed\n"
     ]
    }
   ],
   "source": [
    "pressure = 2000\n",
    "\n",
    "while True: \n",
    "    print(f\"formation pressure is {pressure}psi\")\n",
    "    pressure+=100\n",
    "    if pressure ==5000:\n",
    "       print(\"reach to maximum value, so stoping process\")\n",
    "       break\n",
    "    \n",
    "print(\" process finshed\")"
   ]
  },
  {
   "cell_type": "code",
   "execution_count": 15,
   "id": "27843b86-7b53-40cc-9319-efc9540f9f9d",
   "metadata": {},
   "outputs": [],
   "source": [
    "pressures = [2500,2300,2350,2400,2600]"
   ]
  },
  {
   "cell_type": "code",
   "execution_count": 17,
   "id": "118c9482-041a-4700-bd23-ae5d604a128a",
   "metadata": {},
   "outputs": [
    {
     "data": {
      "text/plain": [
       "[2500, 2300, 2350, 2400, 2600]"
      ]
     },
     "execution_count": 17,
     "metadata": {},
     "output_type": "execute_result"
    }
   ],
   "source": [
    "pressures"
   ]
  },
  {
   "cell_type": "code",
   "execution_count": 21,
   "id": "427d5da3-6b2c-48ca-a2d7-0c5896ffd0db",
   "metadata": {},
   "outputs": [],
   "source": [
    "pressures.sort()"
   ]
  },
  {
   "cell_type": "code",
   "execution_count": 23,
   "id": "ad8a3f78-6b1d-437a-a60a-b3a7fb4cc14b",
   "metadata": {},
   "outputs": [
    {
     "data": {
      "text/plain": [
       "[2300, 2350, 2400, 2500, 2600]"
      ]
     },
     "execution_count": 23,
     "metadata": {},
     "output_type": "execute_result"
    }
   ],
   "source": [
    "pressures"
   ]
  },
  {
   "cell_type": "code",
   "execution_count": 37,
   "id": "5236911c-b79d-4269-a3ad-1f31a97a38d5",
   "metadata": {},
   "outputs": [
    {
     "name": "stdout",
     "output_type": "stream",
     "text": [
      "maximum pressure reach, break stop\n"
     ]
    }
   ],
   "source": [
    "for i in pressures:\n",
    "    if i >=2550:\n",
    "        print(\"maximum pressure reach, break stop\")\n",
    "        break\n",
    "        print(i)"
   ]
  },
  {
   "cell_type": "code",
   "execution_count": 39,
   "id": "8d4509fd-0f44-4940-b359-1cdd0e77c4c9",
   "metadata": {},
   "outputs": [
    {
     "name": "stdout",
     "output_type": "stream",
     "text": [
      "2300\n",
      "2350\n",
      "2400\n",
      "2500\n",
      "maximum pressure reach, break stop\n"
     ]
    }
   ],
   "source": [
    "for i in pressures:\n",
    "    if i >=2550:\n",
    "        print(\"maximum pressure reach, break stop\")\n",
    "        break\n",
    "    print(i)"
   ]
  },
  {
   "cell_type": "markdown",
   "id": "7736129e-9cd5-4cb1-9e71-2d8e7cf4e442",
   "metadata": {},
   "source": [
    "## continue: to jump back to top of loop,rather than stopping it compeletly\n",
    "- stop the current iteration and continue with the next iteratrion.\n",
    "## Break: break the loop, no execution of loop at all\n",
    "## Continue : stop the cureent iteration, but next iteration will go on, anything written below continue is not executed"
   ]
  },
  {
   "cell_type": "code",
   "execution_count": 46,
   "id": "e59e781a-1a11-4e9e-bd29-ec0af71a9775",
   "metadata": {},
   "outputs": [
    {
     "name": "stdout",
     "output_type": "stream",
     "text": [
      "formation pressure is 300psi\n",
      "formation pressure is 400psi\n",
      " skipping pressure 500 psi\n",
      "formation pressure is 600psi\n",
      "formation pressure is 700psi\n",
      "formation pressure is 800psi\n",
      "formation pressure is 900psi\n",
      "formation pressure is 1000psi\n",
      "formation pressure is 1100psi\n",
      "formation pressure is 1200psi\n",
      "pressure reach maximum vlaue, so stop\n",
      "process finish\n"
     ]
    }
   ],
   "source": [
    "pressure = 200\n",
    "\n",
    "while True:\n",
    "    pressure+=100\n",
    "    if pressure ==500:\n",
    "        print(\" skipping pressure 500 psi\")\n",
    "        continue\n",
    "    print(f\"formation pressure is {pressure}psi\")\n",
    "    if pressure >= 1200:\n",
    "        print(\"pressure reach maximum vlaue, so stop\")\n",
    "        break\n",
    "\n",
    "print(\"process finish\")\n",
    "        \n",
    "        \n",
    "    "
   ]
  },
  {
   "cell_type": "code",
   "execution_count": 48,
   "id": "bda76f6e-c2b4-496f-8fe2-23b09b4271d6",
   "metadata": {},
   "outputs": [
    {
     "name": "stdout",
     "output_type": "stream",
     "text": [
      "formation pressure is 300psi\n",
      "formation pressure is 400psi\n",
      "formation pressure is 600psi\n",
      "formation pressure is 700psi\n",
      "formation pressure is 800psi\n",
      "formation pressure is 900psi\n",
      "formation pressure is 1000psi\n",
      "formation pressure is 1100psi\n",
      "formation pressure is 1200psi\n",
      "pressure reach maximum vlaue, so stop\n",
      "process finish\n"
     ]
    }
   ],
   "source": [
    "pressure = 200\n",
    "\n",
    "while True:\n",
    "    pressure+=100\n",
    "    if pressure ==500:\n",
    "        continue\n",
    "    print(f\"formation pressure is {pressure}psi\")\n",
    "    if pressure >= 1200:\n",
    "        print(\"pressure reach maximum vlaue, so stop\")\n",
    "        break\n",
    "\n",
    "print(\"process finish\")\n",
    "        "
   ]
  },
  {
   "cell_type": "code",
   "execution_count": 50,
   "id": "e516dc19-8fe6-4a5b-8c2f-4ad82312541c",
   "metadata": {},
   "outputs": [
    {
     "name": "stdout",
     "output_type": "stream",
     "text": [
      "0\n",
      "1\n",
      "2\n",
      "3\n",
      "4\n",
      "skipping 5\n",
      "6\n",
      "7\n",
      "8\n"
     ]
    }
   ],
   "source": [
    "for i in range(0,9):\n",
    "    if i==5:\n",
    "        print(\"skipping 5\")\n",
    "        continue\n",
    "    print(i)\n",
    "        "
   ]
  },
  {
   "cell_type": "code",
   "execution_count": 52,
   "id": "9ec77fe5-af33-499c-b60e-a92ea132f00a",
   "metadata": {},
   "outputs": [
    {
     "name": "stdout",
     "output_type": "stream",
     "text": [
      "0\n",
      "1\n",
      "2\n",
      "3\n",
      "4\n",
      "6\n",
      "7\n",
      "8\n"
     ]
    }
   ],
   "source": [
    "for i in range(0,9):\n",
    "    if i==5:\n",
    "        #print(\"skipping 5\")\n",
    "        continue\n",
    "    print(i)\n",
    "        "
   ]
  },
  {
   "cell_type": "code",
   "execution_count": 54,
   "id": "9451d6c9-08f2-45e9-b56c-3ab31f8e5e92",
   "metadata": {},
   "outputs": [
    {
     "name": "stdout",
     "output_type": "stream",
     "text": [
      "*  \n",
      "*  *  \n",
      "*  *  *  \n",
      "*  *  *  *  \n",
      "*  *  *  *  *  \n",
      "*  *  *  *  *  *  \n",
      "*  *  *  *  *  *  *  \n"
     ]
    }
   ],
   "source": [
    "for i in range(0,7):  #Range will generate from 0 to 6\n",
    "    for j in range(0,i+1):\n",
    "        print(\"*\", end = \"  \")\n",
    "        \n",
    "    print('\\r') #Break line after every for j loop "
   ]
  },
  {
   "cell_type": "code",
   "execution_count": 60,
   "id": "c352e7d1-3991-4ba2-8873-764460b52442",
   "metadata": {},
   "outputs": [
    {
     "name": "stdout",
     "output_type": "stream",
     "text": [
      "hello\n",
      "\n",
      "tutu\n",
      "\n",
      "New\n"
     ]
    }
   ],
   "source": [
    "print('hello')\n",
    "print('\\r') #break statement\n",
    "print(\"tutu\")\n",
    "print(\"\\r\")\n",
    "print('New')"
   ]
  },
  {
   "cell_type": "code",
   "execution_count": null,
   "id": "9571cd3b-4cc5-4a4e-8f94-6c1cde95e051",
   "metadata": {},
   "outputs": [],
   "source": []
  }
 ],
 "metadata": {
  "kernelspec": {
   "display_name": "Python 3 (ipykernel)",
   "language": "python",
   "name": "python3"
  },
  "language_info": {
   "codemirror_mode": {
    "name": "ipython",
    "version": 3
   },
   "file_extension": ".py",
   "mimetype": "text/x-python",
   "name": "python",
   "nbconvert_exporter": "python",
   "pygments_lexer": "ipython3",
   "version": "3.12.4"
  }
 },
 "nbformat": 4,
 "nbformat_minor": 5
}

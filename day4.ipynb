{
 "cells": [
  {
   "cell_type": "markdown",
   "id": "9bb5515b-a5bd-4947-9341-5dd0a388dd2c",
   "metadata": {},
   "source": [
    "## Range Generate data"
   ]
  },
  {
   "cell_type": "code",
   "execution_count": 17,
   "id": "6ce907f6-79f8-4cbe-96a2-45c1a067e91c",
   "metadata": {},
   "outputs": [
    {
     "data": {
      "text/plain": [
       "range(0, 10)"
      ]
     },
     "execution_count": 17,
     "metadata": {},
     "output_type": "execute_result"
    }
   ],
   "source": [
    "range (10)"
   ]
  },
  {
   "cell_type": "code",
   "execution_count": 19,
   "id": "abd5a162-d8c4-4cca-b4d8-8b18511205b5",
   "metadata": {},
   "outputs": [
    {
     "data": {
      "text/plain": [
       "[0, 1, 2, 3, 4, 5, 6, 7, 8, 9]"
      ]
     },
     "execution_count": 19,
     "metadata": {},
     "output_type": "execute_result"
    }
   ],
   "source": [
    "list(range (10))"
   ]
  },
  {
   "cell_type": "code",
   "execution_count": 21,
   "id": "0084e311-adb2-4775-8212-f098688f246e",
   "metadata": {},
   "outputs": [
    {
     "data": {
      "text/plain": [
       "[1, 2, 3, 4, 5, 6, 7, 8, 9, 10]"
      ]
     },
     "execution_count": 21,
     "metadata": {},
     "output_type": "execute_result"
    }
   ],
   "source": [
    "list(range(1,11))"
   ]
  },
  {
   "cell_type": "code",
   "execution_count": 23,
   "id": "0ede5306-8d94-47c9-a9a0-e3c3b848414b",
   "metadata": {},
   "outputs": [
    {
     "data": {
      "text/plain": [
       "[1, 3, 5, 7]"
      ]
     },
     "execution_count": 23,
     "metadata": {},
     "output_type": "execute_result"
    }
   ],
   "source": [
    "list(range(1,9,2))"
   ]
  },
  {
   "cell_type": "code",
   "execution_count": 25,
   "id": "c1eae7a8-3a00-4a07-bebc-b2667a972097",
   "metadata": {},
   "outputs": [
    {
     "data": {
      "text/plain": [
       "[1, -1, -3, -5, -7, -9]"
      ]
     },
     "execution_count": 25,
     "metadata": {},
     "output_type": "execute_result"
    }
   ],
   "source": [
    "list(range(1,-10,-2))"
   ]
  },
  {
   "cell_type": "code",
   "execution_count": 27,
   "id": "23cc3a43-ebb0-462f-9650-5bc266ae13b3",
   "metadata": {},
   "outputs": [
    {
     "data": {
      "text/plain": [
       "[1,\n",
       " 3,\n",
       " 5,\n",
       " 7,\n",
       " 9,\n",
       " 11,\n",
       " 13,\n",
       " 15,\n",
       " 17,\n",
       " 19,\n",
       " 21,\n",
       " 23,\n",
       " 25,\n",
       " 27,\n",
       " 29,\n",
       " 31,\n",
       " 33,\n",
       " 35,\n",
       " 37,\n",
       " 39,\n",
       " 41,\n",
       " 43,\n",
       " 45,\n",
       " 47,\n",
       " 49,\n",
       " 51,\n",
       " 53,\n",
       " 55,\n",
       " 57,\n",
       " 59,\n",
       " 61,\n",
       " 63,\n",
       " 65,\n",
       " 67,\n",
       " 69,\n",
       " 71,\n",
       " 73,\n",
       " 75,\n",
       " 77,\n",
       " 79,\n",
       " 81,\n",
       " 83,\n",
       " 85,\n",
       " 87,\n",
       " 89,\n",
       " 91,\n",
       " 93,\n",
       " 95,\n",
       " 97,\n",
       " 99,\n",
       " 101]"
      ]
     },
     "execution_count": 27,
     "metadata": {},
     "output_type": "execute_result"
    }
   ],
   "source": [
    "## list of even and odd numbers\n",
    "list(range(1,102,2))"
   ]
  },
  {
   "cell_type": "code",
   "execution_count": 31,
   "id": "c9fe4446-dbe2-4f09-9bea-ea4ffb1ea847",
   "metadata": {},
   "outputs": [
    {
     "name": "stdin",
     "output_type": "stream",
     "text": [
      "starting point 10\n",
      "end point 20\n",
      "step size 2\n"
     ]
    },
    {
     "data": {
      "text/plain": [
       "[10, 12, 14, 16, 18]"
      ]
     },
     "execution_count": 31,
     "metadata": {},
     "output_type": "execute_result"
    }
   ],
   "source": [
    "## write a program that will take start,stop, step all from users, after that create  list \n",
    "a = int(input(\"starting point\"))\n",
    "b = int(input(\"end point\"))\n",
    "c = int(input(\"step size\"))\n",
    "list(range(a,b,c))"
   ]
  },
  {
   "cell_type": "code",
   "execution_count": 33,
   "id": "3e9b29db-3e14-4553-92b9-69d273921df9",
   "metadata": {},
   "outputs": [],
   "source": [
    "pressure =(1000,2000,3000)"
   ]
  },
  {
   "cell_type": "code",
   "execution_count": 35,
   "id": "29710f3b-ae13-473f-b54b-071379ff99b9",
   "metadata": {},
   "outputs": [
    {
     "data": {
      "text/plain": [
       "(1000, 2000, 3000)"
      ]
     },
     "execution_count": 35,
     "metadata": {},
     "output_type": "execute_result"
    }
   ],
   "source": [
    "pressure"
   ]
  },
  {
   "cell_type": "code",
   "execution_count": 37,
   "id": "c10f3692-068d-40e1-bf95-cd2cdfec6272",
   "metadata": {},
   "outputs": [
    {
     "data": {
      "text/plain": [
       "tuple"
      ]
     },
     "execution_count": 37,
     "metadata": {},
     "output_type": "execute_result"
    }
   ],
   "source": [
    "type (pressure)"
   ]
  },
  {
   "cell_type": "code",
   "execution_count": 39,
   "id": "91f3d586-f639-4735-b334-d75d3beb9c41",
   "metadata": {},
   "outputs": [
    {
     "data": {
      "text/plain": [
       "3000"
      ]
     },
     "execution_count": 39,
     "metadata": {},
     "output_type": "execute_result"
    }
   ],
   "source": [
    "pressure[2]"
   ]
  },
  {
   "cell_type": "code",
   "execution_count": 41,
   "id": "f1a41729-fcd4-4067-9c56-a4f15f598f4e",
   "metadata": {},
   "outputs": [
    {
     "ename": "TypeError",
     "evalue": "'tuple' object does not support item assignment",
     "output_type": "error",
     "traceback": [
      "\u001b[1;31m---------------------------------------------------------------------------\u001b[0m",
      "\u001b[1;31mTypeError\u001b[0m                                 Traceback (most recent call last)",
      "Cell \u001b[1;32mIn[41], line 1\u001b[0m\n\u001b[1;32m----> 1\u001b[0m pressure[\u001b[38;5;241m2\u001b[39m]\u001b[38;5;241m=\u001b[39m \u001b[38;5;241m2000\u001b[39m\n",
      "\u001b[1;31mTypeError\u001b[0m: 'tuple' object does not support item assignment"
     ]
    }
   ],
   "source": [
    "pressure[2]= 2000"
   ]
  },
  {
   "cell_type": "code",
   "execution_count": 43,
   "id": "66aa37bd-7795-4b08-a894-69f18fb365bd",
   "metadata": {},
   "outputs": [],
   "source": [
    "pressure = list (pressure)"
   ]
  },
  {
   "cell_type": "code",
   "execution_count": 45,
   "id": "74a5530a-cf65-4703-8ea1-151730949b1b",
   "metadata": {},
   "outputs": [
    {
     "data": {
      "text/plain": [
       "[1000, 2000, 3000]"
      ]
     },
     "execution_count": 45,
     "metadata": {},
     "output_type": "execute_result"
    }
   ],
   "source": [
    "pressure"
   ]
  },
  {
   "cell_type": "code",
   "execution_count": 47,
   "id": "48605ab6-9f70-44a1-8a9a-127e424fade4",
   "metadata": {},
   "outputs": [
    {
     "ename": "NameError",
     "evalue": "name 'presssure' is not defined",
     "output_type": "error",
     "traceback": [
      "\u001b[1;31m---------------------------------------------------------------------------\u001b[0m",
      "\u001b[1;31mNameError\u001b[0m                                 Traceback (most recent call last)",
      "Cell \u001b[1;32mIn[47], line 1\u001b[0m\n\u001b[1;32m----> 1\u001b[0m presssure[\u001b[38;5;241m2\u001b[39m] \u001b[38;5;241m=\u001b[39m \u001b[38;5;241m2000\u001b[39m\n",
      "\u001b[1;31mNameError\u001b[0m: name 'presssure' is not defined"
     ]
    }
   ],
   "source": [
    "presssure[2] = 2000"
   ]
  },
  {
   "cell_type": "code",
   "execution_count": 49,
   "id": "faa6c18d-e64e-474f-9599-db030f6a4fd6",
   "metadata": {},
   "outputs": [],
   "source": [
    "tutu = list(pressure)"
   ]
  },
  {
   "cell_type": "code",
   "execution_count": 51,
   "id": "f4e4fe4e-d46f-4e11-bfd9-4ddcfde50f41",
   "metadata": {},
   "outputs": [
    {
     "data": {
      "text/plain": [
       "list"
      ]
     },
     "execution_count": 51,
     "metadata": {},
     "output_type": "execute_result"
    }
   ],
   "source": [
    "type(tutu)"
   ]
  },
  {
   "cell_type": "code",
   "execution_count": 53,
   "id": "2515bd0d-f3eb-4dfd-854f-f5bc78d243b4",
   "metadata": {},
   "outputs": [
    {
     "data": {
      "text/plain": [
       "list"
      ]
     },
     "execution_count": 53,
     "metadata": {},
     "output_type": "execute_result"
    }
   ],
   "source": [
    "type (tutu)"
   ]
  },
  {
   "cell_type": "code",
   "execution_count": 55,
   "id": "a6d17794-4623-45d8-a131-42faed630ebd",
   "metadata": {},
   "outputs": [
    {
     "data": {
      "text/plain": [
       "[1000, 2000, 3000]"
      ]
     },
     "execution_count": 55,
     "metadata": {},
     "output_type": "execute_result"
    }
   ],
   "source": [
    "tutu"
   ]
  },
  {
   "cell_type": "code",
   "execution_count": 57,
   "id": "1d7c1d81-2170-4def-b9c7-e3e63db66b61",
   "metadata": {},
   "outputs": [],
   "source": [
    "tutu[1] = 2500"
   ]
  },
  {
   "cell_type": "code",
   "execution_count": 59,
   "id": "ed01dd81-f01b-4e09-9358-abb425e0260f",
   "metadata": {},
   "outputs": [
    {
     "data": {
      "text/plain": [
       "[1000, 2500, 3000]"
      ]
     },
     "execution_count": 59,
     "metadata": {},
     "output_type": "execute_result"
    }
   ],
   "source": [
    "tutu"
   ]
  },
  {
   "cell_type": "code",
   "execution_count": 61,
   "id": "0d730f68-9b81-4a54-9ae9-d24a454bdd84",
   "metadata": {},
   "outputs": [],
   "source": [
    "pressure= tuple(tutu)"
   ]
  },
  {
   "cell_type": "code",
   "execution_count": 63,
   "id": "6d64bfb0-d8f7-46bf-becb-27dce200d15a",
   "metadata": {},
   "outputs": [
    {
     "data": {
      "text/plain": [
       "(1000, 2500, 3000)"
      ]
     },
     "execution_count": 63,
     "metadata": {},
     "output_type": "execute_result"
    }
   ],
   "source": [
    "pressure"
   ]
  },
  {
   "cell_type": "code",
   "execution_count": 65,
   "id": "4fd1c11d-9ed2-45c6-81fd-4c1069dff5a2",
   "metadata": {},
   "outputs": [
    {
     "data": {
      "text/plain": [
       "tuple"
      ]
     },
     "execution_count": 65,
     "metadata": {},
     "output_type": "execute_result"
    }
   ],
   "source": [
    "type (pressure)"
   ]
  },
  {
   "cell_type": "code",
   "execution_count": 67,
   "id": "a8ed5536-99f5-4078-a74b-63afcdf3a00b",
   "metadata": {},
   "outputs": [
    {
     "data": {
      "text/plain": [
       "list"
      ]
     },
     "execution_count": 67,
     "metadata": {},
     "output_type": "execute_result"
    }
   ],
   "source": [
    "type (tutu)"
   ]
  },
  {
   "cell_type": "code",
   "execution_count": 69,
   "id": "39da9378-7761-48ac-a868-cbe1977943c4",
   "metadata": {},
   "outputs": [
    {
     "data": {
      "text/plain": [
       "2500"
      ]
     },
     "execution_count": 69,
     "metadata": {},
     "output_type": "execute_result"
    }
   ],
   "source": [
    "tutu[1]"
   ]
  },
  {
   "cell_type": "markdown",
   "id": "269c4f3b-bd16-479b-a5dd-7bef0306a3bc",
   "metadata": {},
   "source": [
    "## sets: unordered collection of data\n",
    "- no duplication\n",
    "- unique data\n",
    "- semi column {....}\n",
    "- unordered: can`t be index\n",
    "- Faster than list"
   ]
  },
  {
   "cell_type": "code",
   "execution_count": 72,
   "id": "28bc6652-bb56-4da9-b65c-c13199fba073",
   "metadata": {},
   "outputs": [],
   "source": [
    "t= {1,2,3,4,5,5,6,6,7,7,6,5,4,89,0,}"
   ]
  },
  {
   "cell_type": "code",
   "execution_count": 74,
   "id": "f6bee52f-15b4-47a7-a3fe-e203e52b45ac",
   "metadata": {},
   "outputs": [
    {
     "data": {
      "text/plain": [
       "{0, 1, 2, 3, 4, 5, 6, 7, 89}"
      ]
     },
     "execution_count": 74,
     "metadata": {},
     "output_type": "execute_result"
    }
   ],
   "source": [
    "t"
   ]
  },
  {
   "cell_type": "code",
   "execution_count": 76,
   "id": "099ba87e-71b6-4744-8adf-b6099dcf1d13",
   "metadata": {},
   "outputs": [],
   "source": [
    "s={11,22,33,44,1,5}"
   ]
  },
  {
   "cell_type": "code",
   "execution_count": 78,
   "id": "756dc6be-f483-44a3-b457-ceb8f756155d",
   "metadata": {},
   "outputs": [
    {
     "data": {
      "text/plain": [
       "{1, 5}"
      ]
     },
     "execution_count": 78,
     "metadata": {},
     "output_type": "execute_result"
    }
   ],
   "source": [
    "t.intersection(s)"
   ]
  },
  {
   "cell_type": "code",
   "execution_count": 80,
   "id": "e55d8be6-2d59-402a-8257-72736d24c31a",
   "metadata": {},
   "outputs": [
    {
     "data": {
      "text/plain": [
       "{0, 1, 2, 3, 4, 5, 6, 7, 11, 22, 33, 44, 89}"
      ]
     },
     "execution_count": 80,
     "metadata": {},
     "output_type": "execute_result"
    }
   ],
   "source": [
    "t.union(s)"
   ]
  },
  {
   "cell_type": "code",
   "execution_count": 82,
   "id": "c3b1d82e-4261-4a7d-b576-662166d124cf",
   "metadata": {},
   "outputs": [],
   "source": [
    "t.add(55)"
   ]
  },
  {
   "cell_type": "code",
   "execution_count": 84,
   "id": "1ba03e82-5b7c-49d7-8d92-1cb2a2e53056",
   "metadata": {},
   "outputs": [
    {
     "data": {
      "text/plain": [
       "{0, 1, 2, 3, 4, 5, 6, 7, 55, 89}"
      ]
     },
     "execution_count": 84,
     "metadata": {},
     "output_type": "execute_result"
    }
   ],
   "source": [
    "t"
   ]
  },
  {
   "cell_type": "code",
   "execution_count": 86,
   "id": "2f0997e5-1c2b-4a06-abe5-6427bda7b502",
   "metadata": {},
   "outputs": [
    {
     "data": {
      "text/plain": [
       "0"
      ]
     },
     "execution_count": 86,
     "metadata": {},
     "output_type": "execute_result"
    }
   ],
   "source": [
    "t.pop()"
   ]
  },
  {
   "cell_type": "code",
   "execution_count": 88,
   "id": "2b8ab90a-5282-48c7-9a1a-e0abb31efa34",
   "metadata": {},
   "outputs": [
    {
     "data": {
      "text/plain": [
       "1"
      ]
     },
     "execution_count": 88,
     "metadata": {},
     "output_type": "execute_result"
    }
   ],
   "source": [
    "t.pop()"
   ]
  },
  {
   "cell_type": "code",
   "execution_count": 90,
   "id": "c26d6757-8b23-4d8e-a463-2f2c7fac4610",
   "metadata": {},
   "outputs": [
    {
     "ename": "NameError",
     "evalue": "name 'pop' is not defined",
     "output_type": "error",
     "traceback": [
      "\u001b[1;31m---------------------------------------------------------------------------\u001b[0m",
      "\u001b[1;31mNameError\u001b[0m                                 Traceback (most recent call last)",
      "Cell \u001b[1;32mIn[90], line 1\u001b[0m\n\u001b[1;32m----> 1\u001b[0m pop(t[\u001b[38;5;241m6\u001b[39m])\n",
      "\u001b[1;31mNameError\u001b[0m: name 'pop' is not defined"
     ]
    }
   ],
   "source": [
    "pop(t[6])"
   ]
  },
  {
   "cell_type": "code",
   "execution_count": 92,
   "id": "43be98a4-713e-4895-8d35-d91c0863d864",
   "metadata": {},
   "outputs": [
    {
     "data": {
      "text/plain": [
       "8"
      ]
     },
     "execution_count": 92,
     "metadata": {},
     "output_type": "execute_result"
    }
   ],
   "source": [
    "len(t)"
   ]
  },
  {
   "cell_type": "code",
   "execution_count": 94,
   "id": "50578bf5-6cec-44be-bea7-4b6391863b68",
   "metadata": {},
   "outputs": [],
   "source": [
    "data = (\"\"\"The creation of models of oil fields and the implementation of calculations of field development on their basis is one of the main areas of activity of engineers and oil researchers. On the basis of geological and physical information about the properties of an oil, gas or gas condensate field, consideration of the capabilities of the systems and technologies for its development create quantitative ideas about the development of the field as a whole.\"\"\")"
   ]
  },
  {
   "cell_type": "code",
   "execution_count": 96,
   "id": "24cb1bb7-38cd-487b-96e7-da9d8dbf489a",
   "metadata": {},
   "outputs": [
    {
     "data": {
      "text/plain": [
       "'The creation of models of oil fields and the implementation of calculations of field development on their basis is one of the main areas of activity of engineers and oil researchers. On the basis of geological and physical information about the properties of an oil, gas or gas condensate field, consideration of the capabilities of the systems and technologies for its development create quantitative ideas about the development of the field as a whole.'"
      ]
     },
     "execution_count": 96,
     "metadata": {},
     "output_type": "execute_result"
    }
   ],
   "source": [
    "data"
   ]
  },
  {
   "cell_type": "code",
   "execution_count": 98,
   "id": "7e473f0b-6dd2-4115-b5aa-c3259a741107",
   "metadata": {},
   "outputs": [
    {
     "data": {
      "text/plain": [
       "454"
      ]
     },
     "execution_count": 98,
     "metadata": {},
     "output_type": "execute_result"
    }
   ],
   "source": [
    "len(data)"
   ]
  },
  {
   "cell_type": "code",
   "execution_count": 100,
   "id": "8a00bd4b-5c33-4d0f-8a2e-7b1cd4fed284",
   "metadata": {},
   "outputs": [
    {
     "data": {
      "text/plain": [
       "str"
      ]
     },
     "execution_count": 100,
     "metadata": {},
     "output_type": "execute_result"
    }
   ],
   "source": [
    "type (data)"
   ]
  },
  {
   "cell_type": "code",
   "execution_count": 102,
   "id": "6539ab08-32fa-469d-aef0-f685de34d6b2",
   "metadata": {},
   "outputs": [],
   "source": [
    "list_of_word = data.split()"
   ]
  },
  {
   "cell_type": "code",
   "execution_count": 104,
   "id": "e3e9d6cc-b129-4536-9ea3-00462d6cd3d5",
   "metadata": {},
   "outputs": [
    {
     "data": {
      "text/plain": [
       "['The',\n",
       " 'creation',\n",
       " 'of',\n",
       " 'models',\n",
       " 'of',\n",
       " 'oil',\n",
       " 'fields',\n",
       " 'and',\n",
       " 'the',\n",
       " 'implementation',\n",
       " 'of',\n",
       " 'calculations',\n",
       " 'of',\n",
       " 'field',\n",
       " 'development',\n",
       " 'on',\n",
       " 'their',\n",
       " 'basis',\n",
       " 'is',\n",
       " 'one',\n",
       " 'of',\n",
       " 'the',\n",
       " 'main',\n",
       " 'areas',\n",
       " 'of',\n",
       " 'activity',\n",
       " 'of',\n",
       " 'engineers',\n",
       " 'and',\n",
       " 'oil',\n",
       " 'researchers.',\n",
       " 'On',\n",
       " 'the',\n",
       " 'basis',\n",
       " 'of',\n",
       " 'geological',\n",
       " 'and',\n",
       " 'physical',\n",
       " 'information',\n",
       " 'about',\n",
       " 'the',\n",
       " 'properties',\n",
       " 'of',\n",
       " 'an',\n",
       " 'oil,',\n",
       " 'gas',\n",
       " 'or',\n",
       " 'gas',\n",
       " 'condensate',\n",
       " 'field,',\n",
       " 'consideration',\n",
       " 'of',\n",
       " 'the',\n",
       " 'capabilities',\n",
       " 'of',\n",
       " 'the',\n",
       " 'systems',\n",
       " 'and',\n",
       " 'technologies',\n",
       " 'for',\n",
       " 'its',\n",
       " 'development',\n",
       " 'create',\n",
       " 'quantitative',\n",
       " 'ideas',\n",
       " 'about',\n",
       " 'the',\n",
       " 'development',\n",
       " 'of',\n",
       " 'the',\n",
       " 'field',\n",
       " 'as',\n",
       " 'a',\n",
       " 'whole.']"
      ]
     },
     "execution_count": 104,
     "metadata": {},
     "output_type": "execute_result"
    }
   ],
   "source": [
    "list_of_word"
   ]
  },
  {
   "cell_type": "code",
   "execution_count": 106,
   "id": "bb7e734d-a076-4315-a78a-50581c44f4de",
   "metadata": {},
   "outputs": [
    {
     "data": {
      "text/plain": [
       "74"
      ]
     },
     "execution_count": 106,
     "metadata": {},
     "output_type": "execute_result"
    }
   ],
   "source": [
    "len(list_of_word)"
   ]
  },
  {
   "cell_type": "code",
   "execution_count": 108,
   "id": "d483fc22-d9b3-4c54-b58b-1df8af4198e6",
   "metadata": {},
   "outputs": [
    {
     "data": {
      "text/plain": [
       "46"
      ]
     },
     "execution_count": 108,
     "metadata": {},
     "output_type": "execute_result"
    }
   ],
   "source": [
    "len(set(list_of_word))"
   ]
  },
  {
   "cell_type": "code",
   "execution_count": 110,
   "id": "ce30ab60-70cc-4919-ada3-a233eb6c06ce",
   "metadata": {},
   "outputs": [],
   "source": [
    "t = (\"i am ishtiyaq choudhary from meerut\")"
   ]
  },
  {
   "cell_type": "code",
   "execution_count": 112,
   "id": "4fd07d84-7ab2-4dee-92ee-f43773292def",
   "metadata": {},
   "outputs": [
    {
     "data": {
      "text/plain": [
       "'i am ishtiyaq choudhary from meerut'"
      ]
     },
     "execution_count": 112,
     "metadata": {},
     "output_type": "execute_result"
    }
   ],
   "source": [
    "t"
   ]
  },
  {
   "cell_type": "code",
   "execution_count": 114,
   "id": "beb986ef-d826-4620-9982-156b18a5cf87",
   "metadata": {},
   "outputs": [],
   "source": [
    "s= t.split(\"a\")"
   ]
  },
  {
   "cell_type": "code",
   "execution_count": 116,
   "id": "08129f9f-865a-4f95-a38f-78bfd5fc7f91",
   "metadata": {},
   "outputs": [
    {
     "data": {
      "text/plain": [
       "['i ', 'm ishtiy', 'q choudh', 'ry from meerut']"
      ]
     },
     "execution_count": 116,
     "metadata": {},
     "output_type": "execute_result"
    }
   ],
   "source": [
    "s"
   ]
  },
  {
   "cell_type": "markdown",
   "id": "daa91590-da9d-46c4-a2f5-280d11547a89",
   "metadata": {},
   "source": [
    "## Dictionary\n",
    "- Key:value\n",
    "- Rule for Keys\n",
    "- Can store anything as a value:str,int,float,list,tuple,dict\n",
    "- {-:-}= >Key:value pair\n",
    "- mutable"
   ]
  },
  {
   "cell_type": "code",
   "execution_count": 119,
   "id": "963bfe1d-38f9-4a1a-88b8-22367b84a688",
   "metadata": {},
   "outputs": [],
   "source": [
    "d= {}"
   ]
  },
  {
   "cell_type": "code",
   "execution_count": 121,
   "id": "0f839ec0-272c-4b11-a4e1-0a8af7638db0",
   "metadata": {},
   "outputs": [
    {
     "data": {
      "text/plain": [
       "{}"
      ]
     },
     "execution_count": 121,
     "metadata": {},
     "output_type": "execute_result"
    }
   ],
   "source": [
    "d"
   ]
  },
  {
   "cell_type": "code",
   "execution_count": 123,
   "id": "b5d8dfb4-340b-47bb-88fe-0bb836daf291",
   "metadata": {},
   "outputs": [
    {
     "data": {
      "text/plain": [
       "dict"
      ]
     },
     "execution_count": 123,
     "metadata": {},
     "output_type": "execute_result"
    }
   ],
   "source": [
    "type(d)"
   ]
  },
  {
   "cell_type": "code",
   "execution_count": 125,
   "id": "93c5adaa-f73e-4a7e-beb0-df8264f3cfa9",
   "metadata": {},
   "outputs": [],
   "source": [
    "d = {1,2}"
   ]
  },
  {
   "cell_type": "code",
   "execution_count": 127,
   "id": "712184d2-087e-4b54-8068-7f47fe9a95d3",
   "metadata": {},
   "outputs": [
    {
     "data": {
      "text/plain": [
       "set"
      ]
     },
     "execution_count": 127,
     "metadata": {},
     "output_type": "execute_result"
    }
   ],
   "source": [
    "type(d)"
   ]
  },
  {
   "cell_type": "code",
   "execution_count": 129,
   "id": "aa267ee4-9fe9-4f21-af84-8fd24221a27f",
   "metadata": {},
   "outputs": [],
   "source": [
    "d = {\"name\":\"kaluwa\",\"age\":\"27\",\"number\":8171000000000,\"mail\":\"abc@gmail.com\"}"
   ]
  },
  {
   "cell_type": "code",
   "execution_count": 131,
   "id": "afa66195-bf74-412c-bef8-d31788334ef0",
   "metadata": {},
   "outputs": [
    {
     "data": {
      "text/plain": [
       "dict"
      ]
     },
     "execution_count": 131,
     "metadata": {},
     "output_type": "execute_result"
    }
   ],
   "source": [
    "type(d)"
   ]
  },
  {
   "cell_type": "code",
   "execution_count": 133,
   "id": "747404a2-61e6-46aa-8f0b-695a2c486dc5",
   "metadata": {},
   "outputs": [
    {
     "data": {
      "text/plain": [
       "'27'"
      ]
     },
     "execution_count": 133,
     "metadata": {},
     "output_type": "execute_result"
    }
   ],
   "source": [
    "d[\"age\"]"
   ]
  },
  {
   "cell_type": "code",
   "execution_count": 135,
   "id": "27360086-b444-4123-99ac-560d2560e986",
   "metadata": {},
   "outputs": [
    {
     "data": {
      "text/plain": [
       "'abc@gmail.com'"
      ]
     },
     "execution_count": 135,
     "metadata": {},
     "output_type": "execute_result"
    }
   ],
   "source": [
    "d[\"mail\"]"
   ]
  },
  {
   "cell_type": "code",
   "execution_count": 137,
   "id": "678be14c-ed6a-4687-80a7-879a52b1c499",
   "metadata": {},
   "outputs": [],
   "source": [
    "drill_parameters = {'depth':4300,'wob':20,'rop':43,'spp':2500,'woh':143}"
   ]
  },
  {
   "cell_type": "code",
   "execution_count": 139,
   "id": "7d15919f-31bd-4e09-b47e-baed4223d1bf",
   "metadata": {},
   "outputs": [
    {
     "data": {
      "text/plain": [
       "{'depth': 4300, 'wob': 20, 'rop': 43, 'spp': 2500, 'woh': 143}"
      ]
     },
     "execution_count": 139,
     "metadata": {},
     "output_type": "execute_result"
    }
   ],
   "source": [
    "drill_parameters"
   ]
  },
  {
   "cell_type": "code",
   "execution_count": 141,
   "id": "6c062d71-0c14-49f1-8b54-c9560cc2b61c",
   "metadata": {},
   "outputs": [
    {
     "data": {
      "text/plain": [
       "dict"
      ]
     },
     "execution_count": 141,
     "metadata": {},
     "output_type": "execute_result"
    }
   ],
   "source": [
    "type(drill_parameters)"
   ]
  },
  {
   "cell_type": "code",
   "execution_count": 143,
   "id": "dbace593-db9c-4870-bd2a-0ae721225828",
   "metadata": {},
   "outputs": [
    {
     "data": {
      "text/plain": [
       "2500"
      ]
     },
     "execution_count": 143,
     "metadata": {},
     "output_type": "execute_result"
    }
   ],
   "source": [
    "drill_parameters[\"spp\"]"
   ]
  },
  {
   "cell_type": "code",
   "execution_count": 145,
   "id": "b5f033b3-8edf-46ae-85c2-f54e18a288f2",
   "metadata": {},
   "outputs": [
    {
     "data": {
      "text/plain": [
       "143"
      ]
     },
     "execution_count": 145,
     "metadata": {},
     "output_type": "execute_result"
    }
   ],
   "source": [
    "drill_parameters[\"woh\"]"
   ]
  },
  {
   "cell_type": "markdown",
   "id": "8b394e9e-ddfd-42dc-a851-98963577757e",
   "metadata": {},
   "source": [
    "## Key must be unique\n",
    "- Repeated Keys, value will be updated to latest data"
   ]
  },
  {
   "cell_type": "code",
   "execution_count": 148,
   "id": "b16f5816-ce8a-42f2-a680-310a179bc88c",
   "metadata": {},
   "outputs": [],
   "source": [
    "drill_parameters = {'depth':4300,'wob':20,'rop':43,'spp':2500,'woh':143,'c1':43000,'lithology':'limestone','rop':34,'spp':3000}"
   ]
  },
  {
   "cell_type": "code",
   "execution_count": 150,
   "id": "70aa7a8a-5a79-4c91-9e4c-2508e489fd00",
   "metadata": {},
   "outputs": [
    {
     "data": {
      "text/plain": [
       "{'depth': 4300,\n",
       " 'wob': 20,\n",
       " 'rop': 34,\n",
       " 'spp': 3000,\n",
       " 'woh': 143,\n",
       " 'c1': 43000,\n",
       " 'lithology': 'limestone'}"
      ]
     },
     "execution_count": 150,
     "metadata": {},
     "output_type": "execute_result"
    }
   ],
   "source": [
    "drill_parameters"
   ]
  },
  {
   "cell_type": "markdown",
   "id": "44701e18-a2e4-4a5d-9889-7aa99deea5f7",
   "metadata": {},
   "source": [
    "### Rule for key: Key can be a number,string,float"
   ]
  },
  {
   "cell_type": "code",
   "execution_count": 176,
   "id": "6569baba-7caf-4339-80b6-4f7484a2b128",
   "metadata": {},
   "outputs": [],
   "source": [
    "t1 = {34:\"gas\", \"rop\":120}"
   ]
  },
  {
   "cell_type": "code",
   "execution_count": 182,
   "id": "c5d3cfec-d8d6-4261-8a7f-2e8c0648cda1",
   "metadata": {},
   "outputs": [
    {
     "data": {
      "text/plain": [
       "dict"
      ]
     },
     "execution_count": 182,
     "metadata": {},
     "output_type": "execute_result"
    }
   ],
   "source": [
    "type (t1)"
   ]
  },
  {
   "cell_type": "code",
   "execution_count": 184,
   "id": "8f4b7f10-0c00-4ca9-b1ef-498832d458d9",
   "metadata": {},
   "outputs": [
    {
     "data": {
      "text/plain": [
       "'gas'"
      ]
     },
     "execution_count": 184,
     "metadata": {},
     "output_type": "execute_result"
    }
   ],
   "source": [
    "t1[34]"
   ]
  },
  {
   "cell_type": "code",
   "execution_count": 186,
   "id": "ea6767b4-2677-46b7-aacc-678c169637f0",
   "metadata": {},
   "outputs": [],
   "source": [
    " ## special charachters (_#@)"
   ]
  },
  {
   "cell_type": "code",
   "execution_count": 202,
   "id": "7655ed73-d0d0-48bf-8281-3f3e0ac62a84",
   "metadata": {},
   "outputs": [],
   "source": [
    "d1 = {'_3443':'jc','name':'tutu','n':[2,3,4,5,67,8,'ta',(1,2,3,4)],'t':(3,4,5,6),'d':{1:23,'ts':'ma'}}"
   ]
  },
  {
   "cell_type": "code",
   "execution_count": 190,
   "id": "7a5c6c9a-2afa-495a-9d09-0a0afb478c91",
   "metadata": {},
   "outputs": [
    {
     "data": {
      "text/plain": [
       "dict"
      ]
     },
     "execution_count": 190,
     "metadata": {},
     "output_type": "execute_result"
    }
   ],
   "source": [
    "type (d)"
   ]
  },
  {
   "cell_type": "code",
   "execution_count": 194,
   "id": "70de2df0-7df4-4779-9c41-940138a8c2ad",
   "metadata": {},
   "outputs": [
    {
     "data": {
      "text/plain": [
       "'ma'"
      ]
     },
     "execution_count": 194,
     "metadata": {},
     "output_type": "execute_result"
    }
   ],
   "source": [
    "d1 [\"d\"][\"ts\"]"
   ]
  },
  {
   "cell_type": "code",
   "execution_count": 208,
   "id": "915f4c37-3d24-46fc-a624-8e9b5c866f66",
   "metadata": {},
   "outputs": [
    {
     "data": {
      "text/plain": [
       "dict"
      ]
     },
     "execution_count": 208,
     "metadata": {},
     "output_type": "execute_result"
    }
   ],
   "source": [
    "type (d1)"
   ]
  },
  {
   "cell_type": "code",
   "execution_count": 214,
   "id": "0c4661dd-8c2a-4c5d-8b44-ee2461cbe65b",
   "metadata": {},
   "outputs": [
    {
     "data": {
      "text/plain": [
       "'ta'"
      ]
     },
     "execution_count": 214,
     "metadata": {},
     "output_type": "execute_result"
    }
   ],
   "source": [
    "d1[\"n\"][6]"
   ]
  },
  {
   "cell_type": "code",
   "execution_count": 216,
   "id": "3d017f6e-3857-4087-953e-7fc71860b68f",
   "metadata": {},
   "outputs": [
    {
     "data": {
      "text/plain": [
       "{'depth': 4300,\n",
       " 'wob': 20,\n",
       " 'rop': 34,\n",
       " 'spp': 3000,\n",
       " 'woh': 143,\n",
       " 'c1': 43000,\n",
       " 'lithology': 'limestone'}"
      ]
     },
     "execution_count": 216,
     "metadata": {},
     "output_type": "execute_result"
    }
   ],
   "source": [
    "drill_parameters"
   ]
  },
  {
   "cell_type": "code",
   "execution_count": 220,
   "id": "655691e4-bb36-4a72-968a-193a1a599a38",
   "metadata": {},
   "outputs": [],
   "source": [
    "drill_parameters [\"lithology\"] = \"shale\""
   ]
  },
  {
   "cell_type": "code",
   "execution_count": 222,
   "id": "7d6e07cb-ee6b-41b8-b849-d082921f68c7",
   "metadata": {},
   "outputs": [
    {
     "data": {
      "text/plain": [
       "{'depth': 4300,\n",
       " 'wob': 20,\n",
       " 'rop': 34,\n",
       " 'spp': 3000,\n",
       " 'woh': 143,\n",
       " 'c1': 43000,\n",
       " 'lithology': 'shale'}"
      ]
     },
     "execution_count": 222,
     "metadata": {},
     "output_type": "execute_result"
    }
   ],
   "source": [
    "drill_parameters"
   ]
  },
  {
   "cell_type": "code",
   "execution_count": 224,
   "id": "06ff5659-9914-4275-af98-be944c72a083",
   "metadata": {},
   "outputs": [],
   "source": [
    "drill_parameters[\"spp\"] = 3500"
   ]
  },
  {
   "cell_type": "code",
   "execution_count": 228,
   "id": "89818ac1-a199-4a26-947c-433a57a8f885",
   "metadata": {},
   "outputs": [
    {
     "data": {
      "text/plain": [
       "3500"
      ]
     },
     "execution_count": 228,
     "metadata": {},
     "output_type": "execute_result"
    }
   ],
   "source": [
    "drill_parameters[\"spp\"]"
   ]
  },
  {
   "cell_type": "code",
   "execution_count": 232,
   "id": "ccaf3979-7ffd-4f2e-bb85-f05771beda5d",
   "metadata": {},
   "outputs": [
    {
     "data": {
      "text/plain": [
       "{'depth': 4300,\n",
       " 'wob': 20,\n",
       " 'rop': 34,\n",
       " 'spp': 3500,\n",
       " 'woh': 143,\n",
       " 'c1': 43000,\n",
       " 'lithology': 'shale'}"
      ]
     },
     "execution_count": 232,
     "metadata": {},
     "output_type": "execute_result"
    }
   ],
   "source": [
    "drill_parameters"
   ]
  },
  {
   "cell_type": "code",
   "execution_count": 234,
   "id": "7664a00d-a653-4951-b37a-1c58344e1d84",
   "metadata": {},
   "outputs": [
    {
     "data": {
      "text/plain": [
       "dict_keys(['depth', 'wob', 'rop', 'spp', 'woh', 'c1', 'lithology'])"
      ]
     },
     "execution_count": 234,
     "metadata": {},
     "output_type": "execute_result"
    }
   ],
   "source": [
    "drill_parameters.keys()"
   ]
  },
  {
   "cell_type": "code",
   "execution_count": 236,
   "id": "a84ab9bf-71e1-4e19-b662-cf46e1f0409e",
   "metadata": {},
   "outputs": [
    {
     "data": {
      "text/plain": [
       "dict_values([4300, 20, 34, 3500, 143, 43000, 'shale'])"
      ]
     },
     "execution_count": 236,
     "metadata": {},
     "output_type": "execute_result"
    }
   ],
   "source": [
    "drill_parameters.values()"
   ]
  },
  {
   "cell_type": "code",
   "execution_count": 238,
   "id": "0194c7d4-b95f-422c-b1cc-994f3f8244cc",
   "metadata": {},
   "outputs": [
    {
     "data": {
      "text/plain": [
       "43000"
      ]
     },
     "execution_count": 238,
     "metadata": {},
     "output_type": "execute_result"
    }
   ],
   "source": [
    "drill_parameters.pop(\"c1\")"
   ]
  },
  {
   "cell_type": "code",
   "execution_count": 240,
   "id": "96a42bbc-0ef6-456b-9b81-23e301856399",
   "metadata": {},
   "outputs": [
    {
     "data": {
      "text/plain": [
       "{'depth': 4300,\n",
       " 'wob': 20,\n",
       " 'rop': 34,\n",
       " 'spp': 3500,\n",
       " 'woh': 143,\n",
       " 'lithology': 'shale'}"
      ]
     },
     "execution_count": 240,
     "metadata": {},
     "output_type": "execute_result"
    }
   ],
   "source": [
    "drill_parameters"
   ]
  },
  {
   "cell_type": "code",
   "execution_count": 246,
   "id": "fc5554c4-93fa-4621-b64d-d8746c9d6b0e",
   "metadata": {},
   "outputs": [],
   "source": [
    "drill_parameters = {\"wellname\": [\"well a\",\"well b\",\"well c\"],\"wob\":[25,35,45],\"rop\":[45,55,65],\"woh\":[120,130,140]}"
   ]
  },
  {
   "cell_type": "code",
   "execution_count": 248,
   "id": "d74b79a5-f432-4872-9933-c6e39d7cca40",
   "metadata": {},
   "outputs": [
    {
     "data": {
      "text/plain": [
       "{'wellname': ['well a', 'well b', 'well c'],\n",
       " 'wob': [25, 35, 45],\n",
       " 'rop': [45, 55, 65],\n",
       " 'woh': [120, 130, 140]}"
      ]
     },
     "execution_count": 248,
     "metadata": {},
     "output_type": "execute_result"
    }
   ],
   "source": [
    "drill_parameters"
   ]
  },
  {
   "cell_type": "code",
   "execution_count": 268,
   "id": "b60df1b0-883a-43b6-82f9-e99b8d1a66a8",
   "metadata": {},
   "outputs": [],
   "source": [
    "drill_parameters = {\n",
    "    \"well A\": {\"wob\":12,\"rop\":13,\"woh\":14,\"rpm\":120},\n",
    "\"well B\": {\"wob\":22,\"rop\":23,\"woh\":24,\"rpm\":121},\n",
    "\"well C\": {\"wob\":32,\"rop\":33,\"woh\":34,\"rpm\":122}\n",
    "}"
   ]
  },
  {
   "cell_type": "code",
   "execution_count": 270,
   "id": "afadfabb-f8d7-467c-a570-2fe1509648ba",
   "metadata": {},
   "outputs": [
    {
     "data": {
      "text/plain": [
       "14"
      ]
     },
     "execution_count": 270,
     "metadata": {},
     "output_type": "execute_result"
    }
   ],
   "source": [
    "drill_parameters[\"well A\"][\"woh\"]"
   ]
  },
  {
   "cell_type": "code",
   "execution_count": null,
   "id": "c71b079e-ccda-48ab-b6db-7422c5df1604",
   "metadata": {},
   "outputs": [],
   "source": []
  }
 ],
 "metadata": {
  "kernelspec": {
   "display_name": "Python 3 (ipykernel)",
   "language": "python",
   "name": "python3"
  },
  "language_info": {
   "codemirror_mode": {
    "name": "ipython",
    "version": 3
   },
   "file_extension": ".py",
   "mimetype": "text/x-python",
   "name": "python",
   "nbconvert_exporter": "python",
   "pygments_lexer": "ipython3",
   "version": "3.12.4"
  }
 },
 "nbformat": 4,
 "nbformat_minor": 5
}

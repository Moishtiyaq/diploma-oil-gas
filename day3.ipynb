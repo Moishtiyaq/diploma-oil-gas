{
 "cells": [
  {
   "cell_type": "markdown",
   "id": "41865cf7-6391-4062-bf8f-e63ec86ebfca",
   "metadata": {},
   "source": [
    "### Data Structure: Holding large data and Processing\n",
    " 1. list\n",
    " 2. tuple\n",
    " 3. dictionary\n",
    " 4. sets"
   ]
  },
  {
   "cell_type": "markdown",
   "id": "ae216da5-2a2d-41dc-93c6-4deefceba7e7",
   "metadata": {},
   "source": [
    "### list\n",
    "- Square brackets are used for creating list:[.....}\n",
    "- Inbuil list function\n",
    "- Mutable : can change length, elements, elements value.\n",
    "- Supports heterogeneous data: String, Floats, boolean, list in list (nested list)."
   ]
  },
  {
   "cell_type": "code",
   "execution_count": 100,
   "id": "afbcc752-6518-40b4-8dab-8309dd345121",
   "metadata": {},
   "outputs": [],
   "source": [
    "MP = [100,150,200,250,300,350,400,450,500,550,600,650,700,750,800]"
   ]
  },
  {
   "cell_type": "code",
   "execution_count": 102,
   "id": "20cd0642-f0dd-4820-a2ca-c863b8443b16",
   "metadata": {},
   "outputs": [
    {
     "data": {
      "text/plain": [
       "[100, 150, 200, 250, 300, 350, 400, 450, 500, 550, 600, 650, 700, 750, 800]"
      ]
     },
     "execution_count": 102,
     "metadata": {},
     "output_type": "execute_result"
    }
   ],
   "source": [
    "MP"
   ]
  },
  {
   "cell_type": "code",
   "execution_count": 106,
   "id": "cc976254-994b-42bf-b7ef-a1f52400486e",
   "metadata": {},
   "outputs": [
    {
     "data": {
      "text/plain": [
       "250"
      ]
     },
     "execution_count": 106,
     "metadata": {},
     "output_type": "execute_result"
    }
   ],
   "source": [
    "MP[3]"
   ]
  },
  {
   "cell_type": "code",
   "execution_count": 108,
   "id": "1aa99781-2bf3-4500-ad65-a99087369364",
   "metadata": {},
   "outputs": [
    {
     "data": {
      "text/plain": [
       "[250, 350, 450, 550, 650, 750]"
      ]
     },
     "execution_count": 108,
     "metadata": {},
     "output_type": "execute_result"
    }
   ],
   "source": [
    "MP[3::2]"
   ]
  },
  {
   "cell_type": "code",
   "execution_count": 110,
   "id": "999eb967-6d98-4757-ac19-3b8336bbf8b4",
   "metadata": {},
   "outputs": [
    {
     "data": {
      "text/plain": [
       "[100, 250, 400, 550]"
      ]
     },
     "execution_count": 110,
     "metadata": {},
     "output_type": "execute_result"
    }
   ],
   "source": [
    "MP[0:12:3]"
   ]
  },
  {
   "cell_type": "code",
   "execution_count": 112,
   "id": "8ba1691a-4486-4f5c-b4af-29facb21c4dd",
   "metadata": {},
   "outputs": [
    {
     "data": {
      "text/plain": [
       "list"
      ]
     },
     "execution_count": 112,
     "metadata": {},
     "output_type": "execute_result"
    }
   ],
   "source": [
    "type (MP)"
   ]
  },
  {
   "cell_type": "code",
   "execution_count": 120,
   "id": "86931ea4-3854-47eb-8c37-208295643ceb",
   "metadata": {},
   "outputs": [],
   "source": [
    "li = [20,40,50,60,70,80,[\"viscosity\",\"mw\",\"solid\",\"water\",\"oil\"],[\"rop\",\"wob\",\"spp\",\"rpm\"]]"
   ]
  },
  {
   "cell_type": "code",
   "execution_count": 37,
   "id": "ceead0e7-717d-4516-98f2-d9444dfead40",
   "metadata": {},
   "outputs": [
    {
     "data": {
      "text/plain": [
       "[20,\n",
       " 40,\n",
       " 50,\n",
       " 60,\n",
       " 70,\n",
       " 80,\n",
       " ['viscosity', 'mw', 'solid', 'water', 'oil'],\n",
       " ['rop', 'wob', 'spp', 'rpm']]"
      ]
     },
     "execution_count": 37,
     "metadata": {},
     "output_type": "execute_result"
    }
   ],
   "source": [
    "li"
   ]
  },
  {
   "cell_type": "code",
   "execution_count": 114,
   "id": "d7f645ab-f5d9-45bd-a9e8-d43dfd5cd48e",
   "metadata": {},
   "outputs": [
    {
     "data": {
      "text/plain": [
       "[100, 150, 200, 250, 300, 350, 400, 450, 500, 550, 600, 650, 700, 750, 800]"
      ]
     },
     "execution_count": 114,
     "metadata": {},
     "output_type": "execute_result"
    }
   ],
   "source": [
    "MP"
   ]
  },
  {
   "cell_type": "markdown",
   "id": "c82a2b97-4a32-4365-b457-b7911b820973",
   "metadata": {},
   "source": [
    "### Extracting data out of list\n",
    "- index = address of data/element inside a list"
   ]
  },
  {
   "cell_type": "code",
   "execution_count": 116,
   "id": "94f5bd1f-4623-43a5-82b5-510a1a01c720",
   "metadata": {},
   "outputs": [
    {
     "data": {
      "text/plain": [
       "[100, 150, 200, 250, 300, 350, 400, 450, 500, 550, 600, 650, 700, 750, 800]"
      ]
     },
     "execution_count": 116,
     "metadata": {},
     "output_type": "execute_result"
    }
   ],
   "source": [
    "MP"
   ]
  },
  {
   "cell_type": "code",
   "execution_count": 46,
   "id": "31af314a-bc94-46ef-bd62-e3b2e25e03b2",
   "metadata": {},
   "outputs": [
    {
     "data": {
      "text/plain": [
       "[20,\n",
       " 40,\n",
       " 50,\n",
       " 60,\n",
       " 70,\n",
       " 80,\n",
       " ['viscosity', 'mw', 'solid', 'water', 'oil'],\n",
       " ['rop', 'wob', 'spp', 'rpm']]"
      ]
     },
     "execution_count": 46,
     "metadata": {},
     "output_type": "execute_result"
    }
   ],
   "source": [
    "li"
   ]
  },
  {
   "cell_type": "code",
   "execution_count": 58,
   "id": "e040e01d-da0c-4681-8bc3-17b120d93ad7",
   "metadata": {},
   "outputs": [
    {
     "data": {
      "text/plain": [
       "[100, 250, 400, 550, 700]"
      ]
     },
     "execution_count": 58,
     "metadata": {},
     "output_type": "execute_result"
    }
   ],
   "source": [
    "OP[0:14:3]"
   ]
  },
  {
   "cell_type": "code",
   "execution_count": 60,
   "id": "82266229-6013-43d7-8d7b-8e582217b0f0",
   "metadata": {},
   "outputs": [
    {
     "data": {
      "text/plain": [
       "40"
      ]
     },
     "execution_count": 60,
     "metadata": {},
     "output_type": "execute_result"
    }
   ],
   "source": [
    "li[1]"
   ]
  },
  {
   "cell_type": "code",
   "execution_count": 64,
   "id": "4dcdf752-18f6-4ecb-a2d8-6288356cefcf",
   "metadata": {},
   "outputs": [
    {
     "data": {
      "text/plain": [
       "'solid'"
      ]
     },
     "execution_count": 64,
     "metadata": {},
     "output_type": "execute_result"
    }
   ],
   "source": [
    "li[6][2]"
   ]
  },
  {
   "cell_type": "code",
   "execution_count": 66,
   "id": "358b2269-49dc-4d2a-8e60-2d943aa8e1c6",
   "metadata": {},
   "outputs": [
    {
     "data": {
      "text/plain": [
       "'rpm'"
      ]
     },
     "execution_count": 66,
     "metadata": {},
     "output_type": "execute_result"
    }
   ],
   "source": [
    "li[7][3]"
   ]
  },
  {
   "cell_type": "code",
   "execution_count": 68,
   "id": "7267be44-7c6a-40a9-8bc2-46b57929ae85",
   "metadata": {},
   "outputs": [
    {
     "ename": "IndexError",
     "evalue": "list index out of range",
     "output_type": "error",
     "traceback": [
      "\u001b[1;31m---------------------------------------------------------------------------\u001b[0m",
      "\u001b[1;31mIndexError\u001b[0m                                Traceback (most recent call last)",
      "Cell \u001b[1;32mIn[68], line 1\u001b[0m\n\u001b[1;32m----> 1\u001b[0m li[\u001b[38;5;241m9\u001b[39m]\n",
      "\u001b[1;31mIndexError\u001b[0m: list index out of range"
     ]
    }
   ],
   "source": [
    "li[9]"
   ]
  },
  {
   "cell_type": "code",
   "execution_count": 70,
   "id": "0d335d07-84d4-4372-b218-79229f2edd40",
   "metadata": {},
   "outputs": [
    {
     "ename": "NameError",
     "evalue": "name 'op' is not defined",
     "output_type": "error",
     "traceback": [
      "\u001b[1;31m---------------------------------------------------------------------------\u001b[0m",
      "\u001b[1;31mNameError\u001b[0m                                 Traceback (most recent call last)",
      "Cell \u001b[1;32mIn[70], line 1\u001b[0m\n\u001b[1;32m----> 1\u001b[0m op\n",
      "\u001b[1;31mNameError\u001b[0m: name 'op' is not defined"
     ]
    }
   ],
   "source": [
    "op"
   ]
  },
  {
   "cell_type": "code",
   "execution_count": 72,
   "id": "398e41d6-e0b9-46bc-bb9c-37ffe3027376",
   "metadata": {},
   "outputs": [
    {
     "data": {
      "text/plain": [
       "[100, 150, 200, 250, 300, 350, 400, 450, 500, 550, 600, 650, 700, 750, 800]"
      ]
     },
     "execution_count": 72,
     "metadata": {},
     "output_type": "execute_result"
    }
   ],
   "source": [
    "OP"
   ]
  },
  {
   "cell_type": "code",
   "execution_count": 74,
   "id": "5b0f80e0-efe9-4fc9-84c8-2272e6890794",
   "metadata": {},
   "outputs": [
    {
     "data": {
      "text/plain": [
       "15"
      ]
     },
     "execution_count": 74,
     "metadata": {},
     "output_type": "execute_result"
    }
   ],
   "source": [
    "len(OP)"
   ]
  },
  {
   "cell_type": "code",
   "execution_count": 76,
   "id": "340e251b-f755-4718-9909-aa824e1085d9",
   "metadata": {},
   "outputs": [
    {
     "data": {
      "text/plain": [
       "[20,\n",
       " 40,\n",
       " 50,\n",
       " 60,\n",
       " 70,\n",
       " 80,\n",
       " ['viscosity', 'mw', 'solid', 'water', 'oil'],\n",
       " ['rop', 'wob', 'spp', 'rpm']]"
      ]
     },
     "execution_count": 76,
     "metadata": {},
     "output_type": "execute_result"
    }
   ],
   "source": [
    "li"
   ]
  },
  {
   "cell_type": "code",
   "execution_count": 78,
   "id": "24ce5cfa-ea9c-4afd-8db0-c80586c406b2",
   "metadata": {},
   "outputs": [
    {
     "data": {
      "text/plain": [
       "8"
      ]
     },
     "execution_count": 78,
     "metadata": {},
     "output_type": "execute_result"
    }
   ],
   "source": [
    "len(li)"
   ]
  },
  {
   "cell_type": "code",
   "execution_count": 80,
   "id": "5db7a0e0-b8be-40c2-aaab-12503540840a",
   "metadata": {},
   "outputs": [],
   "source": [
    "cp = (1,2,3,4)"
   ]
  },
  {
   "cell_type": "code",
   "execution_count": 82,
   "id": "7793f502-e476-409b-b61c-913524c1ee47",
   "metadata": {},
   "outputs": [
    {
     "data": {
      "text/plain": [
       "(1, 2, 3, 4)"
      ]
     },
     "execution_count": 82,
     "metadata": {},
     "output_type": "execute_result"
    }
   ],
   "source": [
    "cp"
   ]
  },
  {
   "cell_type": "code",
   "execution_count": 84,
   "id": "90dbaf91-9a9a-490c-bd85-50c8bf1cec74",
   "metadata": {},
   "outputs": [
    {
     "data": {
      "text/plain": [
       "2"
      ]
     },
     "execution_count": 84,
     "metadata": {},
     "output_type": "execute_result"
    }
   ],
   "source": [
    "cp[1]"
   ]
  },
  {
   "cell_type": "code",
   "execution_count": 86,
   "id": "12c5c1a3-4d76-447a-be91-49d42382aa32",
   "metadata": {},
   "outputs": [
    {
     "data": {
      "text/plain": [
       "4"
      ]
     },
     "execution_count": 86,
     "metadata": {},
     "output_type": "execute_result"
    }
   ],
   "source": [
    "len(cp)"
   ]
  },
  {
   "cell_type": "code",
   "execution_count": 88,
   "id": "f6ea0586-1af8-4607-8e99-6d2504370a83",
   "metadata": {},
   "outputs": [
    {
     "data": {
      "text/plain": [
       "15"
      ]
     },
     "execution_count": 88,
     "metadata": {},
     "output_type": "execute_result"
    }
   ],
   "source": [
    "len(OP)"
   ]
  },
  {
   "cell_type": "code",
   "execution_count": 90,
   "id": "8bc83310-9cb6-4414-9c58-dd81c2e6f662",
   "metadata": {},
   "outputs": [
    {
     "data": {
      "text/plain": [
       "[100, 150, 200, 250, 300, 350, 400, 450, 500, 550, 600, 650, 700, 750, 800]"
      ]
     },
     "execution_count": 90,
     "metadata": {},
     "output_type": "execute_result"
    }
   ],
   "source": [
    "OP"
   ]
  },
  {
   "cell_type": "code",
   "execution_count": 92,
   "id": "8171f323-e24c-410b-88f6-705fcf66887d",
   "metadata": {},
   "outputs": [
    {
     "data": {
      "text/plain": [
       "[800, 650, 500, 350, 200]"
      ]
     },
     "execution_count": 92,
     "metadata": {},
     "output_type": "execute_result"
    }
   ],
   "source": [
    "OP[15:0:-3]"
   ]
  },
  {
   "cell_type": "code",
   "execution_count": 94,
   "id": "d220fe3c-bb1d-4b4b-a118-74b419bbb9d0",
   "metadata": {},
   "outputs": [
    {
     "data": {
      "text/plain": [
       "[800, 650, 500, 350, 200]"
      ]
     },
     "execution_count": 94,
     "metadata": {},
     "output_type": "execute_result"
    }
   ],
   "source": [
    "OP[::-3]"
   ]
  },
  {
   "cell_type": "code",
   "execution_count": 96,
   "id": "2b58883f-6660-4e8d-a02c-e172abb841b1",
   "metadata": {},
   "outputs": [
    {
     "data": {
      "text/plain": [
       "[20,\n",
       " 40,\n",
       " 50,\n",
       " 60,\n",
       " 70,\n",
       " 80,\n",
       " ['viscosity', 'mw', 'solid', 'water', 'oil'],\n",
       " ['rop', 'wob', 'spp', 'rpm']]"
      ]
     },
     "execution_count": 96,
     "metadata": {},
     "output_type": "execute_result"
    }
   ],
   "source": [
    "li"
   ]
  },
  {
   "cell_type": "code",
   "execution_count": 98,
   "id": "70511126-0fb0-49d5-8983-3c64910832e2",
   "metadata": {},
   "outputs": [
    {
     "data": {
      "text/plain": [
       "'solid'"
      ]
     },
     "execution_count": 98,
     "metadata": {},
     "output_type": "execute_result"
    }
   ],
   "source": [
    "li[6][2]"
   ]
  },
  {
   "cell_type": "code",
   "execution_count": 124,
   "id": "57280e09-ac2d-413f-a9a3-712234aa12dc",
   "metadata": {},
   "outputs": [],
   "source": [
    "b = \"permiability\""
   ]
  },
  {
   "cell_type": "code",
   "execution_count": 130,
   "id": "3ca32626-b8e4-47e1-bcde-a2cf592ae24e",
   "metadata": {},
   "outputs": [
    {
     "name": "stdout",
     "output_type": "stream",
     "text": [
      "64\n",
      "pororsity\n",
      "permiability\n"
     ]
    }
   ],
   "source": [
    "a = 64\n",
    "print (a)\n",
    "a = \"pororsity\"\n",
    "print (a)\n",
    "a = b\n",
    "print (a)"
   ]
  },
  {
   "cell_type": "code",
   "execution_count": 138,
   "id": "334b7685-4e60-4141-9d7a-8eee447daad5",
   "metadata": {},
   "outputs": [],
   "source": [
    "a = [1,2,3]\n",
    "b = [2,4,5,6]"
   ]
  },
  {
   "cell_type": "code",
   "execution_count": 140,
   "id": "b0620d85-b9bc-4c68-939b-88f55e7bfcd6",
   "metadata": {},
   "outputs": [
    {
     "data": {
      "text/plain": [
       "[1, 2, 3, 2, 4, 5, 6]"
      ]
     },
     "execution_count": 140,
     "metadata": {},
     "output_type": "execute_result"
    }
   ],
   "source": [
    "a+b"
   ]
  },
  {
   "cell_type": "code",
   "execution_count": 136,
   "id": "e108ed29-3a28-4bb7-8847-9ec3f2f9e293",
   "metadata": {},
   "outputs": [
    {
     "ename": "TypeError",
     "evalue": "can't multiply sequence by non-int of type 'list'",
     "output_type": "error",
     "traceback": [
      "\u001b[1;31m---------------------------------------------------------------------------\u001b[0m",
      "\u001b[1;31mTypeError\u001b[0m                                 Traceback (most recent call last)",
      "Cell \u001b[1;32mIn[136], line 1\u001b[0m\n\u001b[1;32m----> 1\u001b[0m a\u001b[38;5;241m*\u001b[39mb\n",
      "\u001b[1;31mTypeError\u001b[0m: can't multiply sequence by non-int of type 'list'"
     ]
    }
   ],
   "source": [
    "a*b"
   ]
  },
  {
   "cell_type": "code",
   "execution_count": 150,
   "id": "ebe22db7-1f5d-4140-b788-6a8a5148b704",
   "metadata": {},
   "outputs": [
    {
     "data": {
      "text/plain": [
       "list"
      ]
     },
     "execution_count": 150,
     "metadata": {},
     "output_type": "execute_result"
    }
   ],
   "source": [
    "type (a)"
   ]
  },
  {
   "cell_type": "code",
   "execution_count": 152,
   "id": "1958aaad-2c80-4db5-9c0e-052e23dc1052",
   "metadata": {},
   "outputs": [
    {
     "data": {
      "text/plain": [
       "list"
      ]
     },
     "execution_count": 152,
     "metadata": {},
     "output_type": "execute_result"
    }
   ],
   "source": [
    "type (OP)"
   ]
  },
  {
   "cell_type": "code",
   "execution_count": null,
   "id": "10b2888d-d68a-4e48-9efc-88b2c64b11de",
   "metadata": {},
   "outputs": [],
   "source": []
  }
 ],
 "metadata": {
  "kernelspec": {
   "display_name": "Python 3 (ipykernel)",
   "language": "python",
   "name": "python3"
  },
  "language_info": {
   "codemirror_mode": {
    "name": "ipython",
    "version": 3
   },
   "file_extension": ".py",
   "mimetype": "text/x-python",
   "name": "python",
   "nbconvert_exporter": "python",
   "pygments_lexer": "ipython3",
   "version": "3.12.4"
  }
 },
 "nbformat": 4,
 "nbformat_minor": 5
}
